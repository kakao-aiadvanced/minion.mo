{
  "nbformat": 4,
  "nbformat_minor": 0,
  "metadata": {
    "colab": {
      "provenance": []
    },
    "kernelspec": {
      "name": "python3",
      "display_name": "Python 3"
    },
    "language_info": {
      "name": "python"
    }
  },
  "cells": [
    {
      "cell_type": "markdown",
      "source": [
        "프레임워크\n",
        "- Langchain\n",
        "- 비슷한 역할을 하는 Llamaindex 등이 있는데, 학습 단계에서는 이들이 유용하지만, 실제 서빙을 위한 서비스를 개발하다 보면 하나 둘 직접 구현하게 되는 경우가 많음.\n",
        "\n",
        "모델\n",
        "- gpt-4o-mini\n",
        "- Langchain ChatOllama 를 활용하면 Langchain 위에 첫날 실습한 Ollama + Local model 을 활용해서 구현할 수 있음"
      ],
      "metadata": {
        "id": "k71_Jmn4vOgc"
      }
    },
    {
      "cell_type": "code",
      "source": [
        "%%capture --no-stderr\n",
        "%pip install langchain langchain-openai langchain-openai langchain_chroma langchain-text-splitters langchain_community"
      ],
      "metadata": {
        "id": "GsYlNbK-sW28"
      },
      "execution_count": null,
      "outputs": []
    },
    {
      "cell_type": "code",
      "source": [
        "import getpass\n",
        "import os\n",
        "\n",
        "os.environ[\"OPENAI_API_KEY\"] = getpass.getpass()\n",
        "\n",
        "from langchain_openai import ChatOpenAI\n",
        "\n",
        "llm = ChatOpenAI(model=\"gpt-4o\")"
      ],
      "metadata": {
        "id": "mCfkGs8hqwAI",
        "colab": {
          "base_uri": "https://localhost:8080/"
        },
        "outputId": "c6698bd4-0146-4ed1-d8e2-80cf495dae79"
      },
      "execution_count": null,
      "outputs": [
        {
          "name": "stdout",
          "output_type": "stream",
          "text": [
            "··········\n"
          ]
        }
      ]
    },
    {
      "cell_type": "markdown",
      "source": [
        "**기본 RAG tutorial**\n",
        "\n",
        "Langchain 에 익숙하지 않으신 분은 아래 링크의 튜토리얼 코드를 한 번 읽고 이해한 다음 아래 과정을 진행해주세요.\n",
        "\n",
        "(tutorial 에서 이해되지 않는 부분은 강사/조교에게 질문해주세요!)\n",
        "\n",
        "https://python.langchain.com/v0.2/docs/tutorials/rag/\n"
      ],
      "metadata": {
        "id": "g6QlQjnMqoOA"
      }
    },
    {
      "cell_type": "markdown",
      "source": [
        "## Langsmith API\n",
        "\n",
        "Langsmith API 발급\n",
        "https://docs.smith.langchain.com/administration/how_to_guides/organization_management/create_account_api_key"
      ],
      "metadata": {
        "id": "cluQbX8vLL_p"
      }
    },
    {
      "cell_type": "code",
      "source": [
        "import getpass\n",
        "import os\n",
        "\n",
        "os.environ[\"LANGCHAIN_TRACING_V2\"] = \"true\"\n",
        "os.environ[\"LANGCHAIN_API_KEY\"] = getpass.getpass()\n"
      ],
      "metadata": {
        "id": "h3Etw3gKLMpW",
        "colab": {
          "base_uri": "https://localhost:8080/"
        },
        "outputId": "2d8cd9dc-5da4-4476-ee94-f7b1c5a9eb3f"
      },
      "execution_count": null,
      "outputs": [
        {
          "name": "stdout",
          "output_type": "stream",
          "text": [
            "··········\n"
          ]
        }
      ]
    },
    {
      "cell_type": "markdown",
      "source": [
        "langchain hub 에서 prompt format 가져다 쓰기"
      ],
      "metadata": {
        "id": "lLSejfwy32hl"
      }
    },
    {
      "cell_type": "code",
      "source": [
        "from langchain import hub\n",
        "\n",
        "prompt = hub.pull(\"rlm/rag-prompt\")\n",
        "\n",
        "example_messages = prompt.invoke(\n",
        "    {\"context\": \"filler context\", \"question\": \"filler question\"}\n",
        ").to_messages()\n",
        "\n",
        "example_messages"
      ],
      "metadata": {
        "id": "DIY9YKZY4Pfn",
        "colab": {
          "base_uri": "https://localhost:8080/"
        },
        "outputId": "8abbde45-eec4-4d7c-d32c-e871d791e5d7"
      },
      "execution_count": 5,
      "outputs": [
        {
          "output_type": "execute_result",
          "data": {
            "text/plain": [
              "[HumanMessage(content=\"You are an assistant for question-answering tasks. Use the following pieces of retrieved context to answer the question. If you don't know the answer, just say that you don't know. Use three sentences maximum and keep the answer concise.\\nQuestion: filler question \\nContext: filler context \\nAnswer:\", additional_kwargs={}, response_metadata={})]"
            ]
          },
          "metadata": {},
          "execution_count": 5
        }
      ]
    },
    {
      "cell_type": "code",
      "source": [
        "import bs4\n",
        "from langchain import hub\n",
        "from langchain_chroma import Chroma\n",
        "from langchain_community.document_loaders import WebBaseLoader\n",
        "from langchain_core.output_parsers import StrOutputParser\n",
        "from langchain_core.runnables import RunnablePassthrough\n",
        "from langchain_openai import OpenAIEmbeddings\n",
        "from langchain_text_splitters import RecursiveCharacterTextSplitter\n",
        "import requests\n",
        "\n",
        "# Load, chunk and index the contents of the blog.\n",
        "\n",
        "session = requests.Session()\n",
        "session.headers.update({\n",
        "    \"User-Agent\": \"Mozilla/5.0 (Macintosh; Intel Mac OS X 10_15_7) AppleWebKit/537.36 (KHTML, like Gecko) Chrome/91.0.4472.124 Safari/537.36\"\n",
        "})\n",
        "\n",
        "url_list = ['2023-06-23-agent/', '2023-03-15-prompt-engineering/', '2023-10-25-adv-attack-llm/']\n",
        "docs = {}\n",
        "for paths in url_list:\n",
        "    loader = WebBaseLoader(\n",
        "        web_paths=(\"https://lilianweng.github.io/posts/\"+paths,),\n",
        "        session=session,  # 여기에 session 전달\n",
        "        bs_kwargs=dict(\n",
        "            parse_only=bs4.SoupStrainer(\n",
        "                class_=(\"post-content\", \"post-title\", \"post-header\")\n",
        "            )\n",
        "        ),\n",
        "    )\n",
        "\n",
        "    docs[paths] = loader.load()\n",
        "    text_splitter = RecursiveCharacterTextSplitter(separators=[\"\\n\\n\", \"\\n\\n\\n\"],chunk_size=2000, chunk_overlap=200, length_function=len,\n",
        "                                                   is_separator_regex=False)\n",
        "    splits = text_splitter.split_documents(docs[paths])\n",
        "\n",
        "splits[0]"
      ],
      "metadata": {
        "colab": {
          "base_uri": "https://localhost:8080/"
        },
        "id": "DjQoTQC99plV",
        "outputId": "d308278f-02d4-4418-a7dc-b6032936581c"
      },
      "execution_count": 6,
      "outputs": [
        {
          "output_type": "stream",
          "name": "stderr",
          "text": [
            "WARNING:langchain_community.utils.user_agent:USER_AGENT environment variable not set, consider setting it to identify your requests.\n"
          ]
        },
        {
          "output_type": "execute_result",
          "data": {
            "text/plain": [
              "Document(metadata={'source': 'https://lilianweng.github.io/posts/2023-10-25-adv-attack-llm/'}, page_content='Adversarial Attacks on LLMs\\n    \\nDate: October 25, 2023  |  Estimated Reading Time: 33 min  |  Author: Lilian Weng\\n\\n\\nThe use of large language models in the real world has strongly accelerated by the launch of ChatGPT. We (including my team at OpenAI, shoutout to them) have invested a lot of effort to build default safe behavior into the model during the alignment process (e.g. via RLHF). However, adversarial attacks or jailbreak prompts could potentially trigger the model to output something undesired.\\nA large body of ground work on adversarial attacks is on images, and differently it operates in the continuous, high-dimensional space. Attacks for discrete data like text have been considered to be a lot more challenging, due to lack of direct gradient signals. My past post on Controllable Text Generation is quite relevant to this topic, as attacking LLMs is essentially to control the model to output a certain type of (unsafe) content.\\nThere is also a branch of work on attacking LLMs to extract pre-training data, private knowledge (Carlini et al, 2020) or attacking model training process via data poisoning (Carlini et al. 2023). We would not cover those topics in this post.\\nBasics#\\nThreat Model#\\nAdversarial attacks are inputs that trigger the model to output something undesired. Much early literature focused on classification tasks, while recent effort starts to investigate more into outputs of generative models. In the context of large language models In this post we assume the attacks only happen at inference time, meaning that model weights are fixed.\\n\\n\\nAn overview of threats to LLM-based applications. (Image source: Greshake et al. 2023)')"
            ]
          },
          "metadata": {},
          "execution_count": 6
        }
      ]
    },
    {
      "cell_type": "markdown",
      "source": [
        "agent 에 대한 post 를 load, split 한 뒤 vectorstore 생성하고, langchain hub 에서 가져온 프롬프트 포맷을 활용해 Task decomposition 이라는 입력 프롬프트에 대한 답변 확인하기"
      ],
      "metadata": {
        "id": "fPEI19iX4Ma8"
      }
    },
    {
      "cell_type": "code",
      "source": [
        "import bs4\n",
        "from langchain import hub\n",
        "from langchain_chroma import Chroma\n",
        "from langchain_community.document_loaders import WebBaseLoader\n",
        "from langchain_core.output_parsers import StrOutputParser\n",
        "from langchain_core.runnables import RunnablePassthrough\n",
        "from langchain_openai import OpenAIEmbeddings\n",
        "from langchain_text_splitters import RecursiveCharacterTextSplitter\n",
        "\n",
        "# Load, chunk and index the contents of the blog.\n",
        "loader = WebBaseLoader(\n",
        "    web_paths=(\"https://lilianweng.github.io/posts/2023-06-23-agent/\",),\n",
        "    bs_kwargs=dict(\n",
        "        parse_only=bs4.SoupStrainer(\n",
        "            class_=(\"post-content\", \"post-title\", \"post-header\")\n",
        "        )\n",
        "    ),\n",
        ")\n",
        "docs = loader.load()\n",
        "\n",
        "text_splitter = RecursiveCharacterTextSplitter(chunk_size=1000, chunk_overlap=200)\n",
        "splits = text_splitter.split_documents(docs)\n",
        "vectorstore = Chroma.from_documents(documents=splits, embedding=OpenAIEmbeddings())\n",
        "\n",
        "# Retrieve and generate using the relevant snippets of the blog.\n",
        "retriever = vectorstore.as_retriever()\n",
        "prompt = hub.pull(\"rlm/rag-prompt\")\n",
        "\n",
        "def format_docs(docs):\n",
        "    return \"\\n\\n\".join(doc.page_content for doc in docs)\n",
        "\n",
        "\n",
        "rag_chain = (\n",
        "    {\"context\": retriever | format_docs, \"question\": RunnablePassthrough()}\n",
        "    | prompt\n",
        "    | llm\n",
        "    | StrOutputParser()\n",
        ")\n",
        "\n",
        "rag_chain.invoke(\"What is Task Decomposition?\")"
      ],
      "metadata": {
        "id": "19G-Gs8Pvz-p",
        "colab": {
          "base_uri": "https://localhost:8080/",
          "height": 89
        },
        "outputId": "3192b965-aff8-4c68-c122-0c56eb14b0a3"
      },
      "execution_count": 7,
      "outputs": [
        {
          "output_type": "execute_result",
          "data": {
            "text/plain": [
              "'Task decomposition is the process of breaking down a complex task into smaller, simpler steps to make it more manageable and enhance model performance. Techniques like Chain of Thought (CoT) and Tree of Thoughts further elaborate on this by structuring reasoning into these smaller steps, allowing multiple reasoning paths. It can be achieved through methods like simple prompting, task-specific instructions, or human input.'"
            ],
            "application/vnd.google.colaboratory.intrinsic+json": {
              "type": "string"
            }
          },
          "metadata": {},
          "execution_count": 7
        }
      ]
    },
    {
      "cell_type": "markdown",
      "source": [
        "## Langsmith 써서 실행 과정/결과 모니터링하기\n",
        "\n",
        "https://smith.langchain.com/"
      ],
      "metadata": {
        "id": "Wr5Xf_z_0kGu"
      }
    },
    {
      "cell_type": "markdown",
      "source": [
        "아래부터는 직접 Task 를 읽고, 문서를 읽고, 코드를 작성, 평가하면서 task 를 풀어보세요."
      ],
      "metadata": {
        "id": "G9Ki4Twj9DtR"
      }
    },
    {
      "cell_type": "markdown",
      "source": [
        "Task 를 순서대로 하고 나면 아래 이미지와 같이 RAG chain 이 완성됩니다."
      ],
      "metadata": {
        "id": "bX-gGpMFBskB"
      }
    },
    {
      "cell_type": "markdown",
      "source": [
        "![Screenshot 2024-07-25 at 8.11.18 AM.png](data:image/png;base64,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)"
      ],
      "metadata": {
        "id": "kdnZG9gjA5ST"
      }
    },
    {
      "cell_type": "markdown",
      "source": [
        "아래 1-10 task 에 대한 코드를, 각각의 task별 참고 링크를 보면서 작성해보세요."
      ],
      "metadata": {
        "id": "ko2PGysr6mia"
      }
    },
    {
      "cell_type": "markdown",
      "source": [
        "**1. 3개의 블로그 포스팅 본문을 Load하기 : WebBaseLoader 활용**\n",
        "\n",
        "https://python.langchain.com/v0.2/docs/integrations/document_loaders/web_base/"
      ],
      "metadata": {
        "id": "w2GWl82ovu6v"
      }
    },
    {
      "cell_type": "code",
      "source": [
        "urls = [\n",
        "    \"https://lilianweng.github.io/posts/2023-06-23-agent/\",\n",
        "    \"https://lilianweng.github.io/posts/2023-03-15-prompt-engineering/\",\n",
        "    \"https://lilianweng.github.io/posts/2023-10-25-adv-attack-llm/\",\n",
        "]"
      ],
      "metadata": {
        "id": "MbuUZ2rqwn45"
      },
      "execution_count": 8,
      "outputs": []
    },
    {
      "cell_type": "code",
      "source": [
        "%pip install -qU langchain_community beautifulsoup4"
      ],
      "metadata": {
        "colab": {
          "base_uri": "https://localhost:8080/"
        },
        "id": "oUd4zRV--Iiz",
        "outputId": "e434ddb1-08da-403a-9461-fb4e09e93f31"
      },
      "execution_count": 11,
      "outputs": [
        {
          "output_type": "stream",
          "name": "stdout",
          "text": [
            "\u001b[?25l   \u001b[90m━━━━━━━━━━━━━━━━━━━━━━━━━━━━━━━━━━━━━━━━\u001b[0m \u001b[32m0.0/105.1 kB\u001b[0m \u001b[31m?\u001b[0m eta \u001b[36m-:--:--\u001b[0m\r\u001b[2K   \u001b[90m━━━━━━━━━━━━━━━━━━━━━━━━━━━━━━━━━━━━━━━━\u001b[0m \u001b[32m105.1/105.1 kB\u001b[0m \u001b[31m6.9 MB/s\u001b[0m eta \u001b[36m0:00:00\u001b[0m\n",
            "\u001b[?25h"
          ]
        }
      ]
    },
    {
      "cell_type": "code",
      "source": [
        "from langchain_community.document_loaders import WebBaseLoader\n",
        "\n",
        "loader_multiple_pages = WebBaseLoader(urls)\n",
        "docs = loader_multiple_pages.load()\n",
        "len(docs)"
      ],
      "metadata": {
        "colab": {
          "base_uri": "https://localhost:8080/"
        },
        "collapsed": true,
        "id": "BVkOkpIZ-MZh",
        "outputId": "232d6e1a-fc5a-4ebf-b401-ab1af013d10c"
      },
      "execution_count": 72,
      "outputs": [
        {
          "output_type": "execute_result",
          "data": {
            "text/plain": [
              "3"
            ]
          },
          "metadata": {},
          "execution_count": 72
        }
      ]
    },
    {
      "cell_type": "code",
      "source": [],
      "metadata": {
        "id": "zpHYU1b3-Xdn"
      },
      "execution_count": null,
      "outputs": []
    },
    {
      "cell_type": "markdown",
      "source": [
        "**2. 불러온 본문을 Split (Chunking) : recursive text splitter 활용 (아래 링크 참고)**\n",
        "\n",
        "https://python.langchain.com/v0.2/docs/how_to/recursive_text_splitter/"
      ],
      "metadata": {
        "id": "POwtiasPq4gH"
      }
    },
    {
      "cell_type": "code",
      "source": [
        "%pip install -qU langchain-text-splitters"
      ],
      "metadata": {
        "id": "-GaBfTFa99sK"
      },
      "execution_count": 10,
      "outputs": []
    },
    {
      "cell_type": "code",
      "source": [
        "from langchain_text_splitters import RecursiveCharacterTextSplitter\n",
        "\n",
        "text_splitter = RecursiveCharacterTextSplitter(\n",
        "    # Set a really small chunk size, just to show.\n",
        "    chunk_size=100,\n",
        "    chunk_overlap=20,\n",
        "    length_function=len,\n",
        "    is_separator_regex=False,\n",
        ")\n",
        "texts = text_splitter.split_documents(docs)\n",
        "len(texts)"
      ],
      "metadata": {
        "colab": {
          "base_uri": "https://localhost:8080/"
        },
        "collapsed": true,
        "id": "cu4-9iRN-DKH",
        "outputId": "d3b5781d-c29e-4004-acb4-1678fc52c53a"
      },
      "execution_count": 61,
      "outputs": [
        {
          "output_type": "execute_result",
          "data": {
            "text/plain": [
              "1746"
            ]
          },
          "metadata": {},
          "execution_count": 61
        }
      ]
    },
    {
      "cell_type": "markdown",
      "source": [
        "**3. Chunks 를 임베딩하여 Vector store 저장: openai 임베딩, chroma vectorstore 사용**\n",
        "\n",
        "이 때,\n",
        "\n",
        "embedding model 은 \"text-embedding-3-small\" 사용\n",
        "\n",
        "embedding: https://python.langchain.com/v0.2/docs/integrations/text_embedding/openai/\n",
        "\n",
        "vetor store: https://python.langchain.com/v0.2/docs/integrations/vectorstores/chroma/\n",
        "\n",
        "retriever search_type 은 'similarity', search_kwargs={'k': 6} 을 사용해주세요."
      ],
      "metadata": {
        "id": "srlRewINq40y"
      }
    },
    {
      "cell_type": "code",
      "source": [
        "%pip install -qU langchain-openai"
      ],
      "metadata": {
        "id": "xI5F0p2r_1bC"
      },
      "execution_count": 38,
      "outputs": []
    },
    {
      "cell_type": "code",
      "source": [
        "from langchain_openai import OpenAIEmbeddings\n",
        "\n",
        "embeddings = OpenAIEmbeddings(\n",
        "    model=\"text-embedding-3-large\",\n",
        "    # With the `text-embedding-3` class\n",
        "    # of models, you can specify the size\n",
        "    # of the embeddings you want returned.\n",
        "    # dimensions=1024\n",
        ")"
      ],
      "metadata": {
        "id": "6hVtMa66AO8Y"
      },
      "execution_count": 62,
      "outputs": []
    },
    {
      "cell_type": "code",
      "source": [
        "%pip install -qU langchain-openai"
      ],
      "metadata": {
        "id": "j5bTP-UNAl_i"
      },
      "execution_count": 18,
      "outputs": []
    },
    {
      "cell_type": "code",
      "source": [
        "from langchain_chroma import Chroma\n",
        "\n",
        "vector_store = Chroma(\n",
        "    collection_name=\"example_collection\",\n",
        "    embedding_function=embeddings,\n",
        "    persist_directory=\"./my_chroma_langchain_db\",  # Where to save data locally, remove if not neccesary\n",
        ")"
      ],
      "metadata": {
        "id": "A5QbWwa-AXZE"
      },
      "execution_count": 82,
      "outputs": []
    },
    {
      "cell_type": "code",
      "source": [
        "from uuid import uuid4\n",
        "from langchain_core.documents import Document\n",
        "\n",
        "uuids = [str(uuid4()) for _ in range(len(texts))]\n",
        "\n",
        "vector_store.add_documents(documents=texts, ids=uuids)"
      ],
      "metadata": {
        "colab": {
          "base_uri": "https://localhost:8080/"
        },
        "id": "5GJGwf6TA5Jv",
        "outputId": "6374382c-ea56-404c-ec28-7a36cc6e019c"
      },
      "execution_count": 83,
      "outputs": [
        {
          "output_type": "execute_result",
          "data": {
            "text/plain": [
              "['3472d4de-5cf3-4773-923a-922aeb4c30c8',\n",
              " '0ee9a433-b52e-4857-aaed-e9ee1c130108',\n",
              " 'da77e56e-7847-445c-9516-e1bad940f916',\n",
              " '9f780ce2-dce8-4f7d-89e6-7503a54f11e4',\n",
              " '01ad6690-6ec1-4a77-9820-137fc0824688',\n",
              " 'f9e2d884-fc67-40e2-9c34-84747559adea',\n",
              " 'a1e037f2-96af-4066-8c2f-5604c743b2d0',\n",
              " 'db2871f4-d0e1-4984-938a-b6f7d3347818',\n",
              " 'e2ac4c78-0e5e-454d-8e63-e77e011bd97f',\n",
              " '150092b8-a5dc-47cc-b34e-b4eabbfd333e',\n",
              " '9c89ff1b-0d7b-4b10-a51f-e5c76571fa89',\n",
              " '7ccccc7a-4949-469e-8e42-b87bdefbc070',\n",
              " 'f5fa9fde-3380-4b07-8a4c-f6186c6a9add',\n",
              " 'fe82cff9-9c64-48a5-aa93-f6889614d6dd',\n",
              " '0948a61a-0d28-4658-a7e9-566c8305c698',\n",
              " '7dbf23e3-bea6-42fe-9830-b3b97176210b',\n",
              " '4f91e32d-c104-4781-82bb-08e0b2c9599b',\n",
              " '252ad33e-a595-4d41-8c19-14d9e7d6ab40',\n",
              " '97b83c5e-f373-47de-b2f4-43c34ce4c242',\n",
              " '9c4c7478-f740-4bd7-8f0d-3c191a83a421',\n",
              " 'd1e7418b-e5e7-485d-951c-154e26910bd1',\n",
              " 'dce4afe1-17e5-4741-af7b-bbf6c42da39a',\n",
              " '68a0c33d-768a-4172-9718-734a6c3170eb',\n",
              " 'b9836cdf-2094-426e-9f7b-24bb91eb5354',\n",
              " '807eeb5c-ce48-4919-8742-1dad29810581',\n",
              " '610d1c5f-0c57-4565-8281-5121c0ebdfdf',\n",
              " '357510db-1e37-4208-b5f6-905bb588a947',\n",
              " 'a7e9b5ce-f873-4926-acaf-89557a5ce674',\n",
              " '6c3c1cbc-1ec3-440e-a90e-a56394a030c7',\n",
              " '7688fc73-0123-47e5-8dfc-bca4e5e35911',\n",
              " '8165e235-0f9f-4272-bd97-3328209a75dc',\n",
              " 'b000ee95-4766-4285-abc1-397bfc5c3aac',\n",
              " '62406222-d867-470f-a363-a4a52cb8b72e',\n",
              " 'ecf122b4-dda4-4a7f-b760-b399953ea55a',\n",
              " '8aa70857-6711-4cce-92ff-39fb1fc7a793',\n",
              " '8106dee2-cd7e-43fe-825d-3a991bd8b7cf',\n",
              " '59818e79-d712-4c92-9fde-be9063c791ad',\n",
              " '0d59a083-9538-4b1f-a599-e36f1f00f2ec',\n",
              " '02496819-2a85-4f91-94dc-810d0a695d37',\n",
              " 'ed028985-71bc-4265-af21-f5ec5d4b2731',\n",
              " '6ea32be4-8aff-4369-a92f-ea24ab897449',\n",
              " '69ac1d2e-a65b-427b-90d8-6f719b0c1e49',\n",
              " '1625588d-7b70-41af-a3ea-04db0e1e4638',\n",
              " '4b0d690b-f87f-4911-aacc-ada2f4806d77',\n",
              " 'd1050aac-8f1f-4969-aff7-75616e0015ac',\n",
              " '780637bd-ec0d-4c2f-87e6-b21b1b00b37a',\n",
              " '821b217f-c62e-49e1-928b-54ebfe9f0617',\n",
              " '3cdb1288-397a-48e2-a9bf-18662050328d',\n",
              " 'a1b1bec8-f3c2-40dc-8f0b-e74856abee8c',\n",
              " 'bd3b53b6-50cb-417b-b8df-9ec6f1e3b113',\n",
              " '6d1bb0d4-05a3-4a3a-9cf3-7dc25e37ac61',\n",
              " '26caf1e1-1bfe-44b6-9a40-9f457fd37120',\n",
              " '75d04c76-369f-4824-a0f2-8cbdd3228f9d',\n",
              " 'c04dc59c-ec77-4c15-97c9-8d20db4c6f49',\n",
              " '5b0dd9ab-fbce-43a4-a643-703e8829b58b',\n",
              " '45cb7e87-6561-4691-9805-67ed861aaa8e',\n",
              " '25a581dd-359a-4698-83bc-3b4ce0cd746b',\n",
              " 'ff20104b-6edb-4806-8674-80123f5f4688',\n",
              " 'dadade5c-c4c3-4f18-a374-a153bfe40c5d',\n",
              " '16f1e0ad-29cf-4a3f-b3cb-8bfcb9f4b4a1',\n",
              " '06951386-c42f-487e-b9cc-f8b12e8900ec',\n",
              " '9693bfbd-5f7e-4d6d-ae4d-9c6e2bd2f164',\n",
              " 'ed4656a4-c42e-4ac5-9280-ba050dd0e7cd',\n",
              " 'ac0e3df3-a974-4a63-9220-ce9a0bb78b0d',\n",
              " '8f23e869-14dd-4308-841f-984ea9a2d486',\n",
              " 'cd215ab6-ddd1-4a16-bc5b-e95d073dc604',\n",
              " '2b3a2b1b-3725-419d-906f-c2ac78d5b4eb',\n",
              " 'a4a23713-8356-408e-8aef-14e546f35a70',\n",
              " '201f20ab-a7d0-4cb9-b2c0-6a2556379f09',\n",
              " '98e2ec47-f547-4e49-8da1-96a53a1fa1ed',\n",
              " 'c79f7754-098f-4338-9c0b-c2ef166dd659',\n",
              " 'd0b0c2ab-cc1d-4f11-9e6a-3299ec57cebf',\n",
              " 'b72763b8-6ab5-4f40-a598-50871fcf3667',\n",
              " 'f0a21e45-e4b6-4380-9175-3efc088de7c2',\n",
              " '3f03824d-71bb-48d7-887d-7997eb9d0148',\n",
              " '29bb9fe8-ccf8-48e8-a2ed-ea1c55851037',\n",
              " '1adbf8c9-55f5-4013-9525-fb10c2d8dfd4',\n",
              " '1ee53c01-8d1a-448b-8ae2-0329c0280fe7',\n",
              " '358e2cb5-23a0-40f8-afc8-6f53a0c82f13',\n",
              " '5665724b-8d41-48ba-a81e-be4df3fce2c1',\n",
              " '8398a51e-8bb6-45e3-968e-84cd2af94aff',\n",
              " '6233f43b-92d6-44ca-97a0-f8d3ab411ba8',\n",
              " '8fa008f7-864e-4684-adf6-d534e9bb3d1f',\n",
              " 'd037dad5-dd6d-4a59-825f-cedbbfe67088',\n",
              " '8a6b4e15-f654-4daa-bb11-8e6af889440a',\n",
              " 'e9aa2024-441e-4ce2-a27b-4e44cf906edb',\n",
              " 'd49602d7-05f9-413d-93b6-297b7b2cba16',\n",
              " '560d7a51-7d7d-4397-8960-34d7ebad0242',\n",
              " '7da55f70-d903-4868-a3b7-7a9b22b800e9',\n",
              " '0abddffb-d84e-4ce5-9bbb-a58509a4c318',\n",
              " '29b5ed4f-2721-4283-8503-956c2b82651e',\n",
              " 'ba9c32e8-93f5-40f2-83c4-3a205108f93c',\n",
              " '4f6b0e51-18c8-491c-8892-5cb0d38cf57e',\n",
              " 'bbde509c-9198-405a-8459-9955cb32f46f',\n",
              " 'b14ab3a2-7b9c-476d-8f8f-067874df1cbc',\n",
              " 'a6ca642c-47d9-49be-8b87-8498673d40f4',\n",
              " '09a2eee3-95a2-4f96-aa12-b99f287c12aa',\n",
              " '77868136-3100-4d7a-a714-81bc53e7c4f6',\n",
              " '29ee8016-e5ed-4e49-8e42-1806551b20ae',\n",
              " 'ba5eafba-5b36-4009-81f7-64cd6eec8522',\n",
              " 'a43efc0b-53ae-41f5-ad95-2a6dbf8067cc',\n",
              " '9689cf0a-5ba0-417a-b00d-b3a06df18b95',\n",
              " '7270b429-618d-476c-854f-4bec0f1d74e3',\n",
              " '2255eee8-84b9-4f18-b073-3068ae8ed16b',\n",
              " '1aa69ec2-72d2-4396-8fc0-a3cae04b5b5e',\n",
              " '78858b04-35af-424b-a930-a88523a91d58',\n",
              " 'd2f623db-d2f3-47c6-8875-dfb35c9f590f',\n",
              " 'ac1d587e-3259-4f2b-a162-f772ce0c02d8',\n",
              " '3c3e56fb-421f-4391-a681-aae782059def',\n",
              " '17371488-6d65-4cac-ad20-195839456b2a',\n",
              " '8c05a444-c7a3-4d0a-9b3e-056a930c2872',\n",
              " '0fbfa65d-3a46-48d0-8cda-1bb43f464c26',\n",
              " 'b310a765-1c7a-45d4-8535-7d309d9d437b',\n",
              " 'e938d085-e34e-4628-990b-515147c80759',\n",
              " '02002085-bbf5-438b-86b5-cbc055e9617c',\n",
              " '55992b28-c9a6-4071-beac-910b18eafd04',\n",
              " 'aeeb03d5-f6cb-4a76-9773-728c0d2d8c61',\n",
              " '1aeffa82-e25a-46d7-945c-7969c04d4ff2',\n",
              " '2aedc7b7-7b9b-46d6-8eb5-0b10104c9150',\n",
              " '529c18fc-3d27-481b-b17c-b7139753473c',\n",
              " 'e5eae6ca-af06-4c3c-8154-9101baed6fbf',\n",
              " '735c0bb3-5958-4064-88b7-0f3c76a6b66b',\n",
              " '2a42d8a0-5fee-413a-a2fa-0d2b972d146a',\n",
              " '6938d09c-8fa5-4225-bdcc-5490a092be8a',\n",
              " 'ba247076-d1d5-4129-9e65-5274ac1a964d',\n",
              " 'c49d3aab-e9fa-4535-be13-b531675e6580',\n",
              " 'a22efad3-1137-4aa8-8d44-e949f4c36438',\n",
              " 'cee7693f-ab7a-479a-8385-dc8ffc5790a4',\n",
              " 'af4fde32-8bb4-4f14-8d67-0be4520c79ac',\n",
              " 'f5c37d0e-6b5a-4a18-89f6-53f6dc5f3149',\n",
              " '531bd4f6-6496-42b5-9b2d-f508a697d647',\n",
              " '0f4d679a-b142-4988-9e02-e05b54a50513',\n",
              " '59b606bf-7fd3-4a1f-ad2d-772c5bd37efb',\n",
              " 'f4dad4ce-4857-4b30-8de4-02b9274ea72a',\n",
              " 'd7281409-b2c1-487d-9c82-ed660d4b08de',\n",
              " '75bd77bd-ccbd-4d30-ba6a-c0f36a229b82',\n",
              " 'e9934e61-2ede-4e9b-9f4e-5106a7cd29e4',\n",
              " 'fc62c2b4-54ce-4778-9665-1418ac8de802',\n",
              " 'ec9df9a9-f123-4c40-b675-c5e6f57f21c6',\n",
              " '27f5cab6-a52a-4ddd-b32e-23f51ecd8705',\n",
              " '0f4a030b-fa24-423c-9540-c27fa3816f79',\n",
              " '946b4231-b47d-471c-a7ec-1bf7df3523b5',\n",
              " 'f12fdaaa-58ec-42e8-8a34-f789ec209ca6',\n",
              " '3655d6bd-aad3-4e23-ae6e-578d36069b85',\n",
              " '5fafc34c-1e1f-405c-b4e2-9a6d58b267dd',\n",
              " 'e2af3eb3-bac9-4f90-96d3-50bafc513dc4',\n",
              " 'd3c67469-fbb2-4130-a7ef-c5b9e7709f0f',\n",
              " 'cb84ffb9-78a6-4b0b-8cea-0ea794792cb6',\n",
              " '271cc3fc-e8e0-47f3-afe5-d6d4eafbc7e6',\n",
              " 'c31bb78f-0180-4c1a-9596-a5f5a14cdd97',\n",
              " '94d70dd7-ae7c-4466-ab92-790d6c0a81a9',\n",
              " '45e3dc7e-f61a-4913-b588-18dd20b125f1',\n",
              " '9d92fc4e-e5f8-455c-89f6-aeadea3c0f6f',\n",
              " 'bf151c48-aad8-4e06-9faa-692ed9ae0d32',\n",
              " 'e8c86e10-96bc-47e0-97db-689c9d7a6e8c',\n",
              " 'a6297f13-08a6-49b0-9832-4d283a031f24',\n",
              " '23d09977-7286-4be6-9c20-155aba615747',\n",
              " '1768f3d9-2326-48f8-9155-3d633934a8ce',\n",
              " '29c1f58d-d3ac-4204-bf33-93c067f1732e',\n",
              " '31d125b1-a9b1-438b-b651-250d66681f98',\n",
              " '10e34ce7-d466-47a0-bbfa-5a8b42728455',\n",
              " '3df8f3d7-1b44-46c6-86f8-7abd802bb197',\n",
              " '62c209bf-ef59-4ffe-a6e8-76c9acec3aec',\n",
              " 'ec390d39-ca60-46c2-8a02-86feecc6ed16',\n",
              " 'baa2ff9d-10de-4c66-8fb6-653d7a40437a',\n",
              " 'ab491b49-97fa-409a-9425-7138dc3eea89',\n",
              " '5b745aa6-e95e-4a8e-9597-5860da0a8a11',\n",
              " '9e694cb0-eaaa-4e7c-9b98-2f86c517b34a',\n",
              " '8ec64a97-121e-43ae-a75f-a510b8eafc28',\n",
              " '925bccf0-0284-427b-94aa-546b6484d737',\n",
              " '9f54ba15-7ac3-4b4b-83f7-3b656fd8866a',\n",
              " 'ef89d174-c64a-40cc-9160-59c7f951054f',\n",
              " '3b7d3853-4b64-44fe-8002-560ba8c75404',\n",
              " '7a945faf-a678-435e-9be1-a6a96d7efb30',\n",
              " '1fa9c791-a1a7-4245-b71d-4c904f37a448',\n",
              " '49f10db1-ba4b-4234-ba8e-f174976cd73c',\n",
              " '6f5017c6-b728-4beb-9e47-95fe2cca5947',\n",
              " '062cddb2-6bc5-4713-8e0f-960bad37b769',\n",
              " '94d06804-cef5-48e7-a8c9-9c5e7f25337c',\n",
              " '2c757016-4e30-4554-a5c9-c090f16ec761',\n",
              " '9f4489de-05dc-4dec-940d-5902ddf93b43',\n",
              " 'b8f3936e-e297-414e-9772-74878484ecb4',\n",
              " '326825de-a213-47cf-b4e3-1359c413612b',\n",
              " '49513294-72ff-400e-8819-11c5c618ff97',\n",
              " '265a376e-ebda-4310-a80b-ada2ef59eba8',\n",
              " '0f90c6f8-8a23-41ae-90ba-06e78276fdaf',\n",
              " '8c7ff950-e21b-408a-a5db-a5e837f70308',\n",
              " '88a1f592-760c-4c79-8212-186ae2f83937',\n",
              " '6a2bfb83-e178-4486-9e23-d515636caf54',\n",
              " 'bc942bfc-da0b-4ae0-bb84-3d93af605db9',\n",
              " '84305149-6903-42b6-827e-877700c1f855',\n",
              " '066dca97-d151-4d5f-adc2-c7caae749159',\n",
              " 'b77f9fbd-0a4b-43c9-a257-d81b866f32ed',\n",
              " '84e5ea18-7cfd-477d-9afe-5ad9e11ddbbd',\n",
              " '2b1b0182-926e-48a7-ac8b-608be70478bd',\n",
              " '22dc97c5-8732-4aaf-9a56-94c02f9a8464',\n",
              " '0c916c9f-72d6-444f-af07-5e7887d4df86',\n",
              " '95b75b09-a16c-4f2f-9d38-0b0cab5b9448',\n",
              " '2b2794d8-6c32-40bb-aab6-d2715d888970',\n",
              " '34b7f87a-564f-4c74-9431-d016db350a63',\n",
              " 'f401b87e-ecf8-4a99-ba27-1c9727de378d',\n",
              " '81356dde-f203-4d68-9e89-cdda4ed142f6',\n",
              " '76ff4b57-d859-4b17-8040-c34137eaeb45',\n",
              " '697903e7-dee2-4d37-8436-09b44dc3cecf',\n",
              " '8cf3b1af-9f39-4a5a-87a9-243f04ad1628',\n",
              " '636f0380-0fed-4f9b-839e-7bb21d660869',\n",
              " '12eb7e24-11ea-4638-90d4-ac63a5eb4510',\n",
              " '542e2cc0-6a01-400c-a348-3304a08e5355',\n",
              " 'cfdd3dac-fed3-41b0-9cbd-76e3b390c622',\n",
              " '4c69b459-2272-4072-a608-01259cad56c1',\n",
              " '54b96414-3f27-4d4e-9121-443f45a24fc0',\n",
              " 'da034af1-e345-4e16-b62e-d4bab94dfaf2',\n",
              " 'd946d047-b6ae-4889-ba82-288892a3fdef',\n",
              " 'b4a398aa-f587-436e-a610-aa46b058b86c',\n",
              " 'cbaa7f5a-6aea-4fa2-86e5-0ec9298cbf5d',\n",
              " 'd870e184-c749-495a-8d74-73cbe5174ee0',\n",
              " 'ca424156-8c77-4c07-90dc-3c04e2d19add',\n",
              " '53f209ec-0545-4eec-a95a-2ddea222f091',\n",
              " 'f5f369ab-2437-4992-b1bb-2a9aaf78efdd',\n",
              " '5e4d2de3-9e71-46a7-a4ef-c463b716c559',\n",
              " 'b126ac86-f63c-4d80-bc88-da70280cbdf7',\n",
              " 'c92be72b-9a4e-482f-a5a9-a30043da4fbf',\n",
              " '6eb18cc2-5c6d-4edf-a473-5e8f825a8604',\n",
              " 'e261234f-7442-496a-aca9-8831a5e1b0b8',\n",
              " '8339ded7-6b94-45ee-906b-500e0082fd70',\n",
              " '23bf1ff5-ef74-48ea-9089-4505e1385951',\n",
              " 'fa0d553f-3fcc-485b-98da-4c5f0d2bc79b',\n",
              " '1a5a76c3-4385-4659-a09a-25b3e5ad6627',\n",
              " '65d742f8-7dd2-4ed6-a9a4-1d738af09900',\n",
              " '22e47883-fac6-4b41-9e7b-b983df324455',\n",
              " '68dedb4e-a753-4928-8a3b-345d5a4ed95f',\n",
              " 'adc886b4-1400-4844-8f08-8c118dbfb7a1',\n",
              " '0a621c20-0725-4d3f-a23c-ae490fc83831',\n",
              " '06147399-5f25-4bb4-9700-2bc2c6912d28',\n",
              " '9d06a669-8631-427e-b4e8-48aa9bbfc89a',\n",
              " '46ce3456-a5ee-432b-80a4-4a51015583ea',\n",
              " 'a57f2e00-4e5a-4a4d-a1cc-eb48848eb4cd',\n",
              " 'b98b6bf5-d77a-4688-bf22-162c990a1cf4',\n",
              " '27d75b94-801c-4a5c-b3db-847173dadfba',\n",
              " '3c01398b-93f7-4ecd-a8cf-27f578383a20',\n",
              " '39bba352-30f3-4e4b-9dec-cfd183296d20',\n",
              " 'b9ae4d23-b66c-458c-a1ba-89e23dc093f2',\n",
              " '2748cd70-9a4d-45c9-94b6-ef251c106b42',\n",
              " '15cfc100-64bb-4c46-97ad-45af081346f1',\n",
              " 'b54ed12d-2b46-4132-a85a-2823933edf51',\n",
              " '583d24ef-334b-4fe9-9761-eb3a51d34289',\n",
              " '7f4a350a-8a10-43c0-b13a-73b91c86b7f4',\n",
              " 'eefd9575-c41e-4789-841c-cfbfc071337c',\n",
              " 'f7365bc1-f383-4f1f-8a24-216f43e62bc8',\n",
              " 'f8468af0-c68f-4541-ba1f-6f049962050b',\n",
              " 'c874c30d-30ce-4d33-9d19-fe5fb12f59fc',\n",
              " '221a65cc-d30e-48c4-bb49-6e85dfe63f10',\n",
              " '6ba757f3-24a0-4b0b-96c3-410060345745',\n",
              " '3b9bd69f-8ca0-4cd9-8f66-2050bc4d2188',\n",
              " '4a21cc76-46f5-4039-989a-669546e9ae25',\n",
              " '743b2749-9aad-4758-a413-d0fd6eac0f28',\n",
              " 'b735d118-100b-473e-89d3-82a55b44c98f',\n",
              " '12eb4177-33ad-4efd-98fd-22507554263b',\n",
              " 'ed45089e-ca39-4179-8ad6-08f1a18d85fa',\n",
              " '9da6af31-1e13-4ea4-a333-fab1a574822f',\n",
              " '8b22af82-1584-4d9f-bcd7-328ab12acf75',\n",
              " 'cfcb0c5f-081e-4ce0-ad95-bf52d8e8a71f',\n",
              " 'f4592b16-0355-4642-9785-42dc4f9505bf',\n",
              " 'c7e691f3-665c-46a2-97c1-54278d30cd82',\n",
              " '5985d11a-008c-4963-9c94-4da72c52dafc',\n",
              " 'b3b0e2e2-d7c2-473d-966e-a226e473596e',\n",
              " 'bcc067b3-f512-413b-9ce2-77198342d38d',\n",
              " 'b1061941-94c5-45d3-86df-1869f5c6989d',\n",
              " 'd8063b26-41ff-4a34-9bd5-94dcde2a1c87',\n",
              " 'c8499622-3c30-419d-be71-1352b4b0da72',\n",
              " '8ce948fa-8007-4fe7-829a-bf5d04f55d6a',\n",
              " '13f42545-26d7-46a7-ace2-9e3d88f4b94a',\n",
              " 'be484ccb-61b7-414e-babd-37951879224a',\n",
              " 'ac83a088-d339-42f0-9ce6-1fe7e94e5ce6',\n",
              " '43d241de-0b11-4759-8fdc-b73e95d32326',\n",
              " 'af21c9aa-b525-4282-bc7f-5e5d6fa62860',\n",
              " '3a117e69-d26e-48d1-b382-6de3061c8344',\n",
              " '246b2032-9fd4-4d93-a2f2-0396c60559e2',\n",
              " 'd6834b49-bf5a-4ba3-a997-cc1c8c6c5067',\n",
              " '81aa9de5-bcb8-4739-adb1-b0395c342bb7',\n",
              " '1d4bc80d-fb8e-481e-8e4b-86357a1c7cc0',\n",
              " 'caf11d2c-81a6-458a-b110-c2c22a974a0f',\n",
              " '38031141-5d71-4b7f-8550-ff088e8a3fb7',\n",
              " '795ca4ed-3f8b-4553-9e00-a2b71d731a59',\n",
              " 'a7aa58fb-c1cd-4a63-a3b2-cf7e21c6e419',\n",
              " '49fd131b-5002-4d9c-b542-ca9a8a4f72e8',\n",
              " '2125ddb7-df70-4736-86fb-7ebfee285522',\n",
              " '5dfaade7-e3c0-4f9c-894e-d789da9fa779',\n",
              " '880a1e63-787d-4405-8539-eb4c2b86aaba',\n",
              " '87e7b785-9472-4f70-83e1-619ac8032dfe',\n",
              " '941db70a-26a8-492f-8df1-fa51eeb6e56e',\n",
              " 'f654d2a8-7a96-45d8-8113-e91c6768b8f4',\n",
              " 'eff3fa73-708f-4a7c-b517-7906980422cc',\n",
              " '499139cc-56c8-4755-89fa-ac3d3f32fab1',\n",
              " 'bfab1e42-dc90-442c-9a36-359c2c64ad3c',\n",
              " '13c67433-ff24-4d7b-a126-a4bc23b1bd49',\n",
              " 'e37719f2-83ea-4725-9d28-9c8f03b2e977',\n",
              " '91ec0cdd-4b98-462c-88a4-d4cc32cd893c',\n",
              " 'd8f280b0-a934-4cf8-9ab6-9b1b318d76db',\n",
              " '9860168e-0eaa-4e18-9e0b-74b4ded83ab0',\n",
              " 'dc4cdd13-a22c-4fbe-bbfc-ec1ea2c491dc',\n",
              " '0d9a80ba-19ab-4b89-8702-dd8430b593c6',\n",
              " '38fdda1b-cc61-4e59-88c0-fadc6325a813',\n",
              " 'c3a16b4a-ecd0-4419-942e-7469c5f3c9a4',\n",
              " '2d0859de-48a1-4ed8-b2ce-b0e12bd87ae2',\n",
              " '238819dc-a94f-4325-be0a-298354982a73',\n",
              " '36a5040b-ff87-4016-8b15-95008de8a9b5',\n",
              " '6475b49e-2d07-46b3-9a80-d6ee727295fa',\n",
              " 'b77c80ca-bae1-4e50-95da-fc13ac02bd0a',\n",
              " '3353840e-3a39-4610-b665-edda7f4035aa',\n",
              " 'cafbf000-dec5-4639-a496-93fa95c07d19',\n",
              " '72f27e0d-ff81-4c7b-ad6f-5b7e5c1ad1fa',\n",
              " '2d0d689f-14f5-4d19-b18f-f9feaea48edd',\n",
              " '30088ab8-b676-4aef-897c-ae7d344912cc',\n",
              " 'e68db200-30e0-429e-8d42-1f39b2e59a4d',\n",
              " '12e6a4c1-d51e-422f-8966-4e2951bd06d0',\n",
              " '3e800085-d2da-4e48-a1b9-04a400e657e1',\n",
              " '4aa0fee1-776f-4049-9693-bdea6ab87513',\n",
              " 'b6b83688-1513-45ba-8d06-805e16963bdd',\n",
              " 'f709e818-0219-4152-8383-75b3c788c0ed',\n",
              " '3f81c21e-0de7-4b3f-88dd-ee0b38c785ff',\n",
              " '24dbfda4-2eaf-40c3-bd82-4876e391ca31',\n",
              " 'f12935a8-72c5-41ae-9637-7769fe824c17',\n",
              " '9a030f6d-b349-4d25-9328-a44df24a0d0b',\n",
              " '66f60fe5-7996-41d0-bf36-7b4aaf6aa831',\n",
              " '69e5b92d-d559-43c2-b803-5f341af1489d',\n",
              " 'b87a394c-ee1b-4e07-aebf-e337f22772b3',\n",
              " '8f1f5207-6797-49c4-8b0f-943cbcc801b0',\n",
              " '8a326ee2-28f8-4e9b-a62e-6102e3e16465',\n",
              " '1b7ba45b-1d77-40fe-a732-2183e73a9e99',\n",
              " '4013d335-4784-4c1f-8362-e76116f037fe',\n",
              " '7e9a1256-b105-4941-a937-38496326cec4',\n",
              " '0dafc31e-a05e-4d18-bd3b-3108dc574db3',\n",
              " '09c36782-dfa4-4b6f-9e0e-228c8c611246',\n",
              " 'be561de2-eb8a-4de2-a17d-9debb08ba1be',\n",
              " '845eae69-0a69-4f26-8454-38526f682db3',\n",
              " 'c876b327-9fb2-4307-ac6d-9323805f4f61',\n",
              " '5d0936bd-3288-4468-9229-be9c9caabc6b',\n",
              " 'cfb40622-f81a-4aa0-a051-4a98b72c2bf5',\n",
              " 'd39d6fb2-6df5-4297-a2a9-f4acf0d64356',\n",
              " '95eab4d9-990e-4333-9c80-d14a3aed8cd5',\n",
              " 'ba16d9f7-7be9-420d-9da2-f5fa01a62ccb',\n",
              " 'c9c4a521-51ab-4801-8398-ee4bc9d71b3a',\n",
              " '7ad32c25-684e-43bb-a05c-25ebd0df676c',\n",
              " 'cbbb68bd-3437-42ed-aff3-dd51d2b2d19a',\n",
              " '1ff6803d-4fea-4d4f-90f4-2a9ff1b697f2',\n",
              " 'eeb131ab-8ee9-4661-800e-790a282f54e1',\n",
              " 'fbed8169-bee5-4d7a-84a7-0a5ad759fc51',\n",
              " '86fa3fa9-0c43-4a3a-a468-087eacdd54a5',\n",
              " '5f0b19a3-261e-4f73-a60e-6c86f4775cba',\n",
              " '78675051-9d34-4156-9dcc-e88149ca9f66',\n",
              " 'e80be99d-5db3-4dfd-8146-e00fcd99b829',\n",
              " '161668e7-060d-4682-994b-5b3b1feb81b4',\n",
              " 'e5e4a9bc-9995-400e-a71b-36872ab7f5e8',\n",
              " '3687402c-bbb6-41c3-96ce-e02256aa2e91',\n",
              " 'cb02879b-cf58-467e-8089-c1bdfc2ea834',\n",
              " '21635bb1-34ca-4a92-b4c2-1e0d62cbe125',\n",
              " '23d7d0bf-c987-4892-83c4-a5317250e398',\n",
              " '92c098cd-d73d-4776-a873-47da1e783556',\n",
              " '4ce4999b-9b64-496c-8d40-bef642f0217a',\n",
              " '9154a5f7-ff96-4179-8f5c-c43ad67283e2',\n",
              " 'c0326b98-9659-4f69-83ef-a62b65299d9a',\n",
              " '284d4fd7-d8b0-455d-88bc-2eba67993254',\n",
              " '6af19873-2505-495a-b007-c6934f1c1288',\n",
              " '785bca02-876a-4af8-8650-5d0b9d0395b0',\n",
              " 'f820b4b4-aa65-4040-b7ae-136af5188435',\n",
              " 'd186769f-dc1d-445b-a2db-711984832b53',\n",
              " 'cd94408b-854f-4c27-9491-e5d8156a30d5',\n",
              " 'af33a37f-22a0-45b5-83b1-eba3335137b4',\n",
              " '24f401aa-12d4-459b-ada2-080fcb8dd47f',\n",
              " '5c5b7818-f103-4b2b-8803-732e5ea67e65',\n",
              " 'f13a7e59-3f71-4de7-9f64-871ad3abda7b',\n",
              " 'fc9001a7-7739-4042-a303-6ac727e20250',\n",
              " '416eb15f-a3cc-442b-ba2d-4b9c0ecfd1a1',\n",
              " '05853d44-1fbc-405f-bfd2-070dbd825123',\n",
              " '0b22e3e5-58ce-49e4-87ac-2095e1d87280',\n",
              " 'c955eae0-c93f-443e-9c20-4bf750251e57',\n",
              " '4c36fbfe-49a0-49cb-9ae5-d576d928ccb7',\n",
              " '8ad6eb4c-182d-45ad-b9fc-dd6bbf528493',\n",
              " '832d1689-66e6-4838-ad76-ddb9784e6da0',\n",
              " 'fde9bd84-eb8f-480d-8ecc-37a59e30efbe',\n",
              " '958fe62f-fd3c-4a41-a93f-c60305c0b2fe',\n",
              " '02ba1538-8a07-4ff2-8355-842c12544a04',\n",
              " '99e1553f-261b-40ef-a9b3-f05eb129a50f',\n",
              " '3ae37999-124b-445a-abec-7bb2a7b8c331',\n",
              " '508786dc-ffe2-498d-8959-638a4b52aa9b',\n",
              " 'bc33b37a-76de-439b-874d-92ed55e50a7b',\n",
              " '3c70918d-41a9-4cf8-8d9c-a7192e21ffa4',\n",
              " '63560c60-b830-4463-8082-e8f0791f4a11',\n",
              " '3d144750-4a7e-4110-8d7c-70d969b5aa5d',\n",
              " '95b13f30-7717-4752-80c0-25f7df8ddc67',\n",
              " '445b10b2-7c47-406b-bfbb-935d88afdfd1',\n",
              " '41a45a78-be1c-439d-a03d-b8ae47214caf',\n",
              " '4698fecf-0740-4c22-87a5-1930ee6032a0',\n",
              " '1c013e24-241b-45c1-a710-f0e17feb4a99',\n",
              " 'e7930bd2-fc56-49cf-9188-cf2d73e6b767',\n",
              " '34a10cca-7b19-4daa-baaa-5b5c278b7f9f',\n",
              " '2c374a66-d1f5-443a-aaab-507c8f783a6c',\n",
              " '7dc06a26-1e2d-48e8-8262-974a9c074d52',\n",
              " 'f9169af4-62e5-42e5-9d38-49b2471744c1',\n",
              " '9463ef87-e519-47da-a8d7-c9a358220af0',\n",
              " '07544fc1-3438-4d1c-86f1-2e76e7a85d25',\n",
              " '7e8e7dc3-27d2-4101-9dbd-0e242c307ade',\n",
              " 'f8974396-d759-4fad-95fa-32dd5da6203b',\n",
              " 'ebb16cc6-2f10-4977-9198-6c06fd1f25b7',\n",
              " '80aa3c1d-a2c8-4494-93ca-b778d99b6094',\n",
              " '39146341-6a9e-4362-9e08-68fcf80892c0',\n",
              " '6cb735bd-0fa1-4b59-b25c-d23c0149c8d3',\n",
              " '285d0757-a04f-4c64-8061-4169384db6a0',\n",
              " '366e4830-2ed0-4fb8-8397-3d6be4535f7d',\n",
              " '37131e63-713f-4d18-877b-aed22c97c865',\n",
              " '81ee0195-c497-4c3f-a6c3-f84d32a19346',\n",
              " 'fa7c5709-4169-474e-bc47-3ae4c42da621',\n",
              " '30d18b70-49ae-4e4c-b5c3-bba7a70de540',\n",
              " 'e84fe3c7-9bb9-48f5-9b9c-94244fba3187',\n",
              " 'd83d9149-06dd-46b5-96c0-3b4a1eb78fe5',\n",
              " 'ff521916-e538-461f-95d6-011dbaea1c84',\n",
              " '82e42557-f2d8-4e34-83a3-dfaedc033f69',\n",
              " '15411b45-1133-45f8-bce8-66747faa1495',\n",
              " 'a990bdb0-62c1-46af-9797-28a32d1290cc',\n",
              " 'fdbf9664-4d0e-437a-9f38-2e5907b92546',\n",
              " '958e7084-daf2-41b8-ad53-3ed9696c603b',\n",
              " '692aff7a-3c7f-454a-b320-2dd51160f5ce',\n",
              " '1a3a0ac2-f35d-46a0-b5ce-d8e60dbf5c05',\n",
              " '35e22704-ce69-43c2-be14-3bd7d2a728e9',\n",
              " 'c1dc3bfd-4c57-4e89-a436-cd45c2317ee5',\n",
              " 'a74f0cf6-37e8-4030-94fa-2582d76e767f',\n",
              " '676d3a86-18ca-4809-b68f-398cc65adfb2',\n",
              " '34a6f73e-f810-4931-8e48-553a689b4d23',\n",
              " 'f13000ec-ce5a-4147-a3e1-c0204daedbd6',\n",
              " '3d69a250-7608-427e-b570-99a3e85a2f3a',\n",
              " '601c01ca-a9a5-4f04-aef8-b3a93932ffcd',\n",
              " '9d60841c-0d43-48c6-b455-72a596f7edc6',\n",
              " '751cfc2a-7e2c-43f4-b030-05dbb48273f0',\n",
              " 'e9180731-2a5b-41c4-b859-58718650504f',\n",
              " 'ae2296ac-a9e3-4125-82a2-3318cf6c4a87',\n",
              " 'd30f17a5-570a-4e15-b9af-bdd289fb3c0a',\n",
              " '37516e58-47d9-4662-b767-afc56cc88a86',\n",
              " 'f2a01536-d67f-4a06-b795-6136f6ef3341',\n",
              " 'a3c43d7c-78c6-45a6-8731-93012b8a6b09',\n",
              " '9c149af1-9137-4abf-9fdc-2dfd4e5d174a',\n",
              " '9f93b6c1-42ce-40d2-a5e6-3e958b47b2f4',\n",
              " '714ab8f3-4b4a-4f71-9894-7ec7ae7a47d0',\n",
              " '75581306-7cd4-421f-8505-c78c091cdfeb',\n",
              " '0c138d86-3904-4436-86bf-c5a198f4a1c6',\n",
              " 'f81a9a8e-e7ba-45a6-9193-6956d5df91ce',\n",
              " '15a0af0f-a03d-4a17-ae8c-2eb224f9dd7f',\n",
              " '281923ef-f034-4b4f-a098-2f1d2052eb98',\n",
              " '3d5801fc-f127-446e-b7d1-05d72e773607',\n",
              " '9096d4bc-5fd5-434a-a576-1a3c44887f78',\n",
              " '98977e11-8235-4100-b201-20b8fa7391b8',\n",
              " 'b70b9729-fee6-4f45-8b36-664a35622dc2',\n",
              " 'd62809ff-f14a-4af0-ad6a-439a8e1480fb',\n",
              " 'd4564aab-4c9a-4cb3-b40f-c58ebbb693a2',\n",
              " '0bcaae71-3668-4ea2-9f14-0df883291a09',\n",
              " '53ffd169-2a82-4f73-907b-1bed34220a0c',\n",
              " '42ec3b26-240b-489b-8ddf-9abbe0b30b77',\n",
              " '58c02dee-6be3-4811-a52b-f8f125831f80',\n",
              " 'cfe73e78-79b2-4e7a-8d5f-877c2341a571',\n",
              " '6cd20c6a-ec9a-4654-8d64-2a7b240b3ccb',\n",
              " '55282885-36c5-4957-8775-5d7c80ce2bd0',\n",
              " 'd80d22f9-e29d-4721-85c4-0622b03c9022',\n",
              " '8df6b4a1-da5f-4553-8957-fec68e917a4e',\n",
              " 'a7129694-bb2b-4779-94db-4d44d2cbc686',\n",
              " '3129b26a-030f-477d-9056-46f98400cc83',\n",
              " '72f1f4ff-c88a-455a-ac0f-1227c0e35913',\n",
              " 'f56b9e9c-9716-48a0-b3fa-2e35a710432f',\n",
              " 'a2c98853-b9c3-4dd5-8a26-16f84d8e901d',\n",
              " '2bc32638-b0e3-42d7-b98d-884cca092f08',\n",
              " '1286de1f-9fc9-4022-b75d-ab52e71e4972',\n",
              " 'b2dc7771-057e-4dde-8c30-0718e52b3e9b',\n",
              " '8193baa7-54f4-4f6f-ad6b-0ff13012b697',\n",
              " 'ff0b1d03-7e60-4e8a-bf6c-f1e8a0d28b95',\n",
              " 'd3b8695c-5327-47f7-866d-8db6d7048424',\n",
              " '63e18fcd-1ac8-4cd3-8a9b-fc1f017a2cf0',\n",
              " '6fdef86e-b6fe-4d6c-8cf0-dc7b8bde51e7',\n",
              " 'bf93f8d3-d982-468f-8f6a-1846627917fc',\n",
              " '44ae88e4-2725-475a-8335-38eb38ffc14b',\n",
              " '193ede19-d0c6-422c-99e2-96753da575b7',\n",
              " '49e67164-51a2-4a03-8a4c-4c2ccd430775',\n",
              " '4baabaf8-b6d7-40eb-b123-d57ad0ac4b31',\n",
              " 'b93fac11-0dba-4e04-8ae8-6b818019accd',\n",
              " '95f1a775-a235-47ea-88e7-1f3dceb1cd70',\n",
              " '8e9b49fa-d5da-4400-850f-e770e8906c21',\n",
              " '975d89c0-70d2-45e5-8f5c-e74ce6cf7881',\n",
              " 'ddc38927-9d54-4307-84db-283f08ef0e1a',\n",
              " '020d9839-c002-458a-b7dd-5d4f1c7b3408',\n",
              " 'f7d7fa1c-6c90-4956-90e6-2ad177cb4c8e',\n",
              " '687a7d52-4ac8-4af2-8355-12853a4fa057',\n",
              " 'b94cf22a-60ed-42fb-9320-f96c05403ec3',\n",
              " '02d89142-9bd3-4faf-a5d5-667a5aac81f0',\n",
              " '4924cbf9-a6ff-430c-bb61-f0a15da90a01',\n",
              " '7e764dbd-001c-4e4d-b477-4589b9f2c415',\n",
              " 'efcfb8f9-55a3-4db4-9cfb-b9112641599f',\n",
              " '70e1904c-1ea2-4afe-9a29-6ad0416771c6',\n",
              " 'f1f99ca2-c0ed-4329-b269-27fc11c50421',\n",
              " '28bb6bcf-7a41-442b-8d6d-235b9275d178',\n",
              " 'aaa3351d-19e4-4fc9-9969-78e855fe5b4d',\n",
              " '9a19ba7b-582b-4d78-b19c-3a26935d703e',\n",
              " 'c7a5ef0a-164d-441e-8667-71519e5c7ac3',\n",
              " '6633ed08-adf8-4f43-beb4-a907cb0379b9',\n",
              " '348ff622-fb01-4ce9-b085-100937ff1eb0',\n",
              " '8176189a-13ca-4ae8-8419-97f29f9f74c7',\n",
              " '36cd5c6c-826a-430d-9e96-eddc21e41bb7',\n",
              " '15e49cb6-26e4-4a6b-aaf9-fe90e3638de2',\n",
              " '0a1b63ac-7fdb-4114-98fa-e171e46313b7',\n",
              " 'cfffd96e-5f41-4eb9-b240-225800bd9e4d',\n",
              " 'e6876af6-e855-4c31-811c-48cdfcad73ca',\n",
              " '2930988f-dba4-41ef-be46-ef80d26fb318',\n",
              " '41cc8808-5ad0-4b42-bb0d-34ef1e437e59',\n",
              " 'cea0ea61-66e6-4ce1-ad0a-1984a1de70be',\n",
              " '14f98f7e-92a1-4da1-b6ab-ab95db63d3c2',\n",
              " '7d193220-4728-4151-a033-b16a42157d02',\n",
              " '541c78e4-b725-44db-baf1-fbb1d783691a',\n",
              " '0a17aa2d-dd15-4402-8c28-27380855099d',\n",
              " '09a5dbd9-3cbd-4a45-8062-000a3e9a3b1f',\n",
              " 'f89fb233-06d4-4186-b508-50e5216cc8a7',\n",
              " '96d379cf-dd0d-426a-ac7f-8574f15303a2',\n",
              " '6e9359c5-f24d-47cf-9318-b728313665a2',\n",
              " '9c6cd32f-2bf4-4eed-afec-c5b91b492a83',\n",
              " '82e4f1dc-337a-471a-b077-081d4173d33a',\n",
              " '8ea60b77-e12d-4624-9037-e0c35c290d57',\n",
              " 'b1c3a273-2de2-439d-9b3b-97bfc803eaaa',\n",
              " '18d1bd7c-fbb5-46f1-b39e-a23a4170cf33',\n",
              " '642b8624-21b0-4a20-9247-a89fe3fc4a08',\n",
              " '4eadb95a-f305-416d-917f-d69180c5fd7e',\n",
              " '90429521-d6e0-4199-b7fd-b799105b34b0',\n",
              " '16152a0a-adbd-43f9-9f27-31468190cf5e',\n",
              " '73937b17-cf7a-4870-8883-1bee2046419c',\n",
              " 'f4c86ed6-f91b-47cf-844e-a4adeddfcb03',\n",
              " 'ff02fb35-6f56-4bdd-970c-157bac49ff7a',\n",
              " '50ca2ea5-098e-4bc7-ba5c-98ebf64856a8',\n",
              " '8d0b7f17-84a6-4adf-8cc4-2fbb172268f9',\n",
              " 'aa6e3b93-7188-4da8-b4c4-7127d7489bba',\n",
              " 'd446ca92-cceb-4f1b-b79a-14cd4caa40a1',\n",
              " '833a4938-0229-49ce-aaa1-d6c7b9f3363b',\n",
              " '9cb05e50-b12d-4004-b1d4-a5a74409af38',\n",
              " '5e726fac-aa24-4389-9c4b-746df857abd1',\n",
              " '60004070-1ca5-43dd-8409-be3a6b4257b6',\n",
              " 'db11c393-f40d-44d6-bebb-ba130e72f969',\n",
              " '640040c4-be78-4573-a07b-88fd52802da7',\n",
              " '16b02266-24c0-4c0f-a39f-ba0b22806242',\n",
              " 'dbb4ff3b-cfd0-41b8-989e-7ced7e44facd',\n",
              " 'f657c25c-32d9-4996-ae3f-3f2a06f4b0b9',\n",
              " '4050b764-bc79-41ff-a884-f059947fb520',\n",
              " 'bbd97073-703d-48b6-a238-9758697cbd45',\n",
              " '59124d5b-4d73-44d6-b064-d195c5b1857a',\n",
              " '8aa05049-78b7-4692-ad0d-97825c8f7b1b',\n",
              " '4c342208-9c11-4407-bf8f-2ef1ef291cd3',\n",
              " 'bf2aa5cc-31b4-4ea9-8193-74d10e448ee5',\n",
              " '77278016-ba8a-42a5-9404-af16f00a0725',\n",
              " '88d8ff5e-2d7c-4beb-83a3-48f4fc8c5b08',\n",
              " '21675558-bdfa-4dd9-a25f-aedba60b9688',\n",
              " '08a3dfdd-ad1e-477e-bb21-f08f398e3bd9',\n",
              " 'd4c7c01e-b854-4784-91cd-7479841db2c5',\n",
              " '4141533c-8e3d-4538-ba9e-b593ee162814',\n",
              " 'b99e159c-c0c2-42b2-a4a9-c3f683e83243',\n",
              " 'ed0dd2f6-9586-4d8b-a79c-115e8e05d5e8',\n",
              " '5324cad1-f427-490a-afa6-a60deff6baf4',\n",
              " 'e8b9a395-22e2-406d-beb5-1f29f080bf35',\n",
              " 'f6e94eb6-007e-4f1d-acb4-b0fb012a9eaa',\n",
              " 'af9b1cd3-90fc-434f-8497-922120671c43',\n",
              " '9416d751-f5c9-422e-9594-a5a8f8d5c3a1',\n",
              " 'cbe42feb-6932-42e5-89ea-d2c692c32b04',\n",
              " 'caa3d075-0349-423a-9007-e3b2fcccb4b4',\n",
              " '13999464-6490-4526-8a5c-7ca2d667ed31',\n",
              " 'cec6c7ee-d62c-4b3d-b689-35e6b1146d59',\n",
              " '570e5f88-76f2-4d1d-8dff-035c805e7c09',\n",
              " '0e371985-53d4-494e-b7b2-18d91a8164c2',\n",
              " '07152cbb-1d0a-47ae-a001-ade650c3fdd4',\n",
              " 'ddf043f1-3f8b-4adc-bb2f-adf30a2d02aa',\n",
              " 'fa105de4-9f6b-4b5a-b07c-59e3824de1b1',\n",
              " '085b7739-e80b-4cf7-9deb-b971be5bf763',\n",
              " 'cc6e6534-6d74-4f83-96b2-8f4f157f7d3b',\n",
              " '18fffba4-baac-434a-9249-eef6971eadfc',\n",
              " '4de1cc5b-76f3-48be-b238-6fa543b9c693',\n",
              " '049d03f4-c780-4afa-bb77-61c9700d8ee5',\n",
              " '29f5c0ce-e125-488a-9bf8-8d9544c20a05',\n",
              " '9f6818bc-acfd-4f07-ab9e-c209245280db',\n",
              " 'bfcf62b4-954a-4ca2-b27c-a3009545c2d9',\n",
              " '2d6c59e5-a5a8-4fac-a4f1-888e33f1593a',\n",
              " '983167eb-5542-455f-99d7-bca84d7f7e0f',\n",
              " '0e9b9f5f-f8cd-4db1-aa76-35038abf2ff7',\n",
              " 'bed3a5b3-8917-47a6-8cba-0d975e3eb05c',\n",
              " '8fffbe1c-c086-4a46-bd91-76a227d2e24d',\n",
              " 'b941c356-5583-42bc-b2aa-552e90baa31e',\n",
              " '626f37d3-07f3-4cc2-8b5f-efdb3a7f7f5f',\n",
              " 'd22db124-d989-46b2-a259-5c2b51db42e8',\n",
              " '3ff2b0ed-3641-4124-9e29-8d59cb310060',\n",
              " '58a460be-f917-458a-a8f8-bfb68334e75b',\n",
              " '7a31248e-1d06-431a-903c-62c4156029aa',\n",
              " 'a4a1cc2d-548a-495f-94ee-ce0da70635af',\n",
              " '66c0df49-3c8c-4e32-8eb2-8423be188960',\n",
              " '5d9e51ea-939e-4631-bb4e-2c302106bee4',\n",
              " '2b5020c1-2d68-4c33-91bb-f6be29334546',\n",
              " '400c198b-87c8-4730-9496-f1dd5864dcfc',\n",
              " '0300eed0-daf7-42e6-abf6-20ed241c7658',\n",
              " '95166715-bc8b-472f-8beb-a407eb75562b',\n",
              " '1af8a5d9-0ed4-47f9-b9cf-93c75fc4cf58',\n",
              " 'ad0f9f8d-b8f4-46f9-b7fb-a17fb98d0d9e',\n",
              " '5f37b4a6-864c-4113-9616-ca3da32a9ad0',\n",
              " 'fb33f90b-c23d-4429-82aa-31eed223e401',\n",
              " '30b14c6b-570f-42d0-883c-3beeba2bf02d',\n",
              " 'f8fe7d30-5d46-43ae-b034-c79881e63911',\n",
              " 'c2403875-42a7-4420-8b7f-6c2acffb4c37',\n",
              " '3f033db8-63a4-45d4-8c17-ac6c64a07052',\n",
              " 'e59486f9-73a8-4d40-9942-d0db483ec6e8',\n",
              " '00eda763-0301-4063-b1ed-95311e52e50e',\n",
              " '9c7586ed-1df1-409d-a2da-8fc9ae8b7585',\n",
              " 'a6bb6c63-b870-470c-850a-f54e56052228',\n",
              " 'b95e03f5-762a-4bc7-8a95-e680e3f3c821',\n",
              " '9ade0f41-f3e2-46df-b67e-d82c38a88874',\n",
              " '77efb392-41f8-4380-933a-511e13387449',\n",
              " '8524c080-d705-474a-a182-6adfadf585a8',\n",
              " '1df7e4a2-7d40-434d-a3e5-f39071e82ef7',\n",
              " '22fd7c25-7096-4aff-8e8b-10aef3c111ee',\n",
              " '4044d052-f639-48bb-8ef3-c8f6a6c88b25',\n",
              " 'acf39341-f16d-4da6-938a-864e5dc6e6b8',\n",
              " 'd228f9d5-8455-4599-b613-d961c2231997',\n",
              " '5836aff7-a9b5-4c2a-9fc3-fed74055b531',\n",
              " '86845d84-2674-4bc3-803e-af4cf919fd35',\n",
              " '7ca94cc8-fb48-49f9-a8c8-e13ef75446cd',\n",
              " 'cea9bd93-df20-4b38-9192-70e614d21ed2',\n",
              " 'acbd9687-4b4d-4970-bbb1-0c0e339349ac',\n",
              " 'b4b74d64-4418-4873-affe-5ed9eaa3cbe5',\n",
              " 'b195915e-6d3e-4ce3-9e27-3da7de672be5',\n",
              " 'e8a07c12-03f4-47ce-a7f2-4a90d965d2bc',\n",
              " '9301f876-60a9-4924-998c-c239932f9650',\n",
              " '7bc8ceca-3ada-41e1-8e77-ee3471227eab',\n",
              " 'bf9b7a65-dd49-4637-96cf-fb9243f0839e',\n",
              " '4ebc5a6a-86de-4110-b164-0697186e2bf3',\n",
              " '51a4cdf5-0ac5-43c3-bed8-53a8e22b6188',\n",
              " '6e1d494b-86f2-482a-92ba-59decbd2889e',\n",
              " '2e9b537b-0f83-46d6-9cdd-fc8f00b18ad9',\n",
              " '77d168fe-5251-49cf-bb96-e65078a873fe',\n",
              " '0141d3ee-f0e0-4940-94f6-f63f35032ef8',\n",
              " 'dcbd456b-a750-496a-b425-02d99c9b404f',\n",
              " '640d0bbe-4e8b-4ff3-b57c-983e7e70d312',\n",
              " '92ea31f2-ac7b-4e72-9670-f12fac6846db',\n",
              " '48f89554-c3d4-44ee-93c8-1d64d9da9775',\n",
              " '1db5d589-60ee-487a-b9db-7e19bb4eb310',\n",
              " '91e7a5fb-d0c2-4da9-8005-0875b98b92d3',\n",
              " '336e57ac-83cd-4192-8802-99b1f5d408d6',\n",
              " '467e94e4-37b9-4ee1-ad50-ff4786b4de02',\n",
              " '549eb7a2-0f9e-4292-a421-49ccee1f96e6',\n",
              " '3456465d-8539-4d6b-9ded-63e6436b7353',\n",
              " '63394797-5dfd-449c-a15d-06b22275df94',\n",
              " 'dc2f13c2-cf70-4198-bbfc-557a0ef3918b',\n",
              " '9c86b5da-8b9c-40e4-a63f-e68138552371',\n",
              " 'df262fd8-69ab-4791-ae3e-cc9fa77cc929',\n",
              " '2484a08e-15ee-4e82-b078-67f673552350',\n",
              " 'f8333829-3ca0-432c-b8e4-68cea64284c7',\n",
              " '456d6e72-0b61-4142-ab43-cdce26d2884a',\n",
              " '2a14e05c-9b4d-4340-985a-cb5173866a16',\n",
              " '2a89ba35-737b-4984-9b5c-7a86c5df3394',\n",
              " '60fa6b86-3465-4cd6-a4ae-fc7652811ec4',\n",
              " '1e29c389-6d91-4f70-888c-c72cb4da67b1',\n",
              " '5ff26b2a-71fd-4fbf-957f-59051bc426e3',\n",
              " 'fa80d15c-2875-4a7f-93f5-b3f08bbefe99',\n",
              " 'd57f30ee-2dc3-4947-ba92-bcfb36414b86',\n",
              " '40f8e4ac-4b38-4527-8894-be3c8d69606b',\n",
              " '5063c6b0-9fce-46ba-9cd1-ad4efd46eb80',\n",
              " '046ea258-be70-4bac-985b-251daa27b8fc',\n",
              " '331f219d-fc34-440f-9df2-4609ba0f7d8f',\n",
              " '01ca0960-8cbd-454b-9ed2-6cc717c29d70',\n",
              " '439ccfec-9232-45b2-9445-ac905b499537',\n",
              " 'af6e0c9c-bf34-408c-991c-672c968c39b8',\n",
              " 'f2b0272b-7696-433f-9d8f-10c1faaf0b35',\n",
              " '0ac4f006-7f2a-46ad-b1e7-97403cd7a1fe',\n",
              " '05a972bd-1c2b-4c8f-874a-a61fee90126b',\n",
              " '5e809720-4742-4d3e-8ab7-cc857f86dff1',\n",
              " '2747fc54-313a-401e-824a-ac472aa49d1a',\n",
              " 'e9728144-ae6a-4155-a1f2-1d7eae9643e0',\n",
              " 'c86738cc-76a5-47c4-b16d-3cb7033edebc',\n",
              " '991ec9fa-6c1b-4c4e-8f63-d9bc9d5c29c1',\n",
              " '2723cc81-45fe-4956-97fa-c42ae418d747',\n",
              " '48412d3e-a5aa-495d-b8a0-6d553e2e0460',\n",
              " 'b4575e3b-5132-4291-be41-a0362b6a24ec',\n",
              " '5385b6ec-ddc9-45b0-88d2-956af1a525d6',\n",
              " '3f62ec12-55ca-4be2-b6e5-d46d1711f989',\n",
              " 'e39acec0-b6b3-4a09-bc2e-c325848621e4',\n",
              " '97d0273d-0661-4261-9d41-0c62473fc288',\n",
              " 'c052b864-994c-4316-8b1f-43eaf420da17',\n",
              " '705a337a-0f5a-44f0-a2fa-52a825747ded',\n",
              " 'ae7bbc5d-6298-4c5c-b932-e479d4143c8f',\n",
              " 'd4ae7717-a62c-4225-8be8-398f085e7631',\n",
              " '89f368db-e4b8-4c98-83b4-55b53a0936ab',\n",
              " '35ee3edb-10e2-4082-9497-b8a72eebc38f',\n",
              " 'e714626d-f481-445a-8a2b-dc029128dff1',\n",
              " 'c436dfd6-acb5-46dc-8119-53136f6a84e1',\n",
              " 'd948d4fa-3790-45fc-a3f5-4e10268383ca',\n",
              " 'dc2f5b47-67ec-4f18-a70a-23eff06c6edb',\n",
              " '66d9029d-9221-450e-a889-d650f1f8d8bb',\n",
              " '0ca9d994-23a3-4d2d-beeb-9c090fdf80fd',\n",
              " '4b6f373c-85d5-4137-8a28-6918c2f3d0e3',\n",
              " '758c0ba9-3e06-4f2d-836d-e0d89bed2344',\n",
              " '79072b9d-4b40-469f-8e98-29cc2afb17f4',\n",
              " '886d2176-3828-4820-8041-139dc82a4e0c',\n",
              " '2aaa422f-614b-4447-bcc6-44209fa46fd4',\n",
              " 'cfcd9945-84e4-4594-bdba-bd416de990c8',\n",
              " '2f4f4599-30fb-446f-b703-6fc2455aab7b',\n",
              " '4b4381c0-d1be-48ee-b037-bfb87d3ca669',\n",
              " '8d6b0101-37f6-4c90-bb07-6dea079dff4e',\n",
              " '1d1f8a20-d979-432b-826c-2c256dfb0faf',\n",
              " '566e1a08-0ac9-4697-9832-3d5807460229',\n",
              " 'fe7d7875-e6b9-46c0-89d8-fe0747d1cd95',\n",
              " '6d2cf485-a305-43f4-ae62-1507eaeb0b6d',\n",
              " '501ef065-1ce7-4f88-a128-5aba065f06c5',\n",
              " '7e0b7d38-85ef-478b-a174-6bbb44057133',\n",
              " 'f9f0fdee-e666-496d-a42b-a67175ec53ba',\n",
              " 'a0e9beed-259c-456f-98f4-df28868ad9df',\n",
              " 'eca24495-f31e-4747-99de-2ad124265526',\n",
              " 'cf7f9a0d-81c2-4d97-befc-ec2ac243fd04',\n",
              " '9277b30e-3b9b-48cf-8c58-72212dc0d35c',\n",
              " 'b641a6d6-216a-4511-aa98-ae5e435b58ab',\n",
              " '160b238a-0811-474b-a16c-c9d8ccce90da',\n",
              " '43770225-ba51-4190-8894-3c4dd579f7f7',\n",
              " '67322dc8-34ba-4cae-89a4-a0239169177d',\n",
              " '4f11c41a-492a-429a-adda-a687645a1d58',\n",
              " '747c1272-303a-4d7d-b1cc-f292567c7eae',\n",
              " '8fca5c94-6333-4406-9e9f-1e48223984d8',\n",
              " 'ee373812-e177-46e3-852a-1d68ac94fab2',\n",
              " 'e2b169d6-5557-41a0-93fe-d346bff7906c',\n",
              " '2fcefa30-256f-4ff2-88e2-637173db69ca',\n",
              " '51329163-d79e-4bc5-a8aa-12029c1eb612',\n",
              " 'a6622a9f-a914-43b7-a907-482f01956266',\n",
              " '078a0494-334d-4070-88e4-6aa4338201e7',\n",
              " 'ed6a30dc-18c7-4f3c-b30b-51808dc12293',\n",
              " '9d51ebae-84f6-49b2-8297-cfef36f6976e',\n",
              " '6edc1242-e7a0-4186-bf45-7b760f1d472a',\n",
              " '36d110b9-6fa0-4287-8953-520c4d5568bd',\n",
              " '5e07d90b-7587-4309-9d10-3f264a751d52',\n",
              " 'c51b3d63-5089-4572-9f57-b324bed8a33d',\n",
              " '6382d877-79e0-4cb0-bf09-8ee341ee9588',\n",
              " 'e7d77498-7917-4c56-b007-1ca2a1cb3a7a',\n",
              " '6954886e-82c5-4816-bbeb-d70f7475401f',\n",
              " 'e81f3777-dc57-4aba-bf0c-30b6dc4119b1',\n",
              " 'be192b07-c904-41c0-a68b-2be0439cd2c1',\n",
              " 'c5a8c5f1-4487-4a69-b4aa-6349318cd8d0',\n",
              " '016163e3-a617-48ee-be8a-abc28488e613',\n",
              " '48f6ee64-30aa-4fd9-bf38-4367769fd139',\n",
              " 'eff27e20-7411-4305-9a3d-333d21b4a4d5',\n",
              " '5c16ac35-513e-4ed1-87f4-098a541459c7',\n",
              " '8090d692-b1a8-47c8-ab51-eb9e4804e769',\n",
              " '9f54ed06-7512-4bc8-8ee5-c419534e7c5c',\n",
              " '1c68adff-7866-4394-892c-fd35f95ad3f6',\n",
              " 'd98f59c0-63b1-40f1-8d05-33ecaec907ea',\n",
              " 'b4bdcf44-7d22-4c84-b8d4-495f4e3da482',\n",
              " '0cabf528-7943-47e0-bcec-971bd52058b3',\n",
              " '43b98178-653a-466b-b356-a53ab2809f01',\n",
              " 'b12ee58c-e1b5-43e6-b768-cc299b288f9c',\n",
              " 'bff83ce1-d26d-47f7-a5c6-18b030770356',\n",
              " 'c0ff4c08-5eae-487f-bda5-7e979014cd06',\n",
              " 'a8d73c87-a4aa-4af8-964a-3e9258175a19',\n",
              " 'c6da4176-af7d-4418-ae9c-aa7022fd03f6',\n",
              " 'e2f21e67-a71b-4716-aef5-83fb99e656f1',\n",
              " '2a8429d0-c07f-4b94-8a1c-2b89da896d1c',\n",
              " '74f8784f-b8c6-439f-98b6-82ba10f31e0e',\n",
              " '44b7cf62-9726-4c12-ae9c-8e8c487924e0',\n",
              " '88d5e348-03d2-406b-bc8d-eb44c8b33880',\n",
              " '181f6152-96cb-41bb-84b0-739d7b30a6ac',\n",
              " '42f4f9a6-4c30-415b-93fb-716dfe320517',\n",
              " '158d8591-f242-4fa3-8fdc-341540ce0ff8',\n",
              " '662d2c0b-5585-4fd1-ad0e-1da27f06dc2a',\n",
              " 'd095eb9f-31da-48ce-b365-9c26b7fe0d3a',\n",
              " '088f07ce-3ccc-4ae7-8509-4b25f94f534a',\n",
              " 'f5571512-3274-4088-87af-47f3a1fda3a1',\n",
              " 'bfd6f94c-de0d-4fea-976a-65c382f9c4b2',\n",
              " '679ec4c4-5b5f-4232-94f1-a931afe71b02',\n",
              " 'e0fb2d2a-8252-45a1-9b22-eeae469eefde',\n",
              " '499d6ed0-24d3-4378-a760-c4f5b908a272',\n",
              " '27c92e45-658f-42e3-a05d-d249026bd15d',\n",
              " 'd61b63ce-8f4b-45d3-b51d-a070a8c1d003',\n",
              " 'e231df8b-1833-41d7-bcd1-82dc9f0e3dac',\n",
              " '00e8292c-36b6-46ca-aa4b-3c45bd0f5d5c',\n",
              " 'f1af7574-113f-45cc-9e04-b93a220b1db3',\n",
              " 'f251086d-a62c-4e94-ac18-9b878265e635',\n",
              " '834b8b36-e975-48dd-93af-f100b84827a9',\n",
              " '6d046a4e-73f0-45f1-8616-65355bf0363c',\n",
              " 'ccf7a84d-450b-49dd-81e9-6d5e7188b91b',\n",
              " '60485c0f-c123-443d-8291-e110c2778fcd',\n",
              " 'a284d2ab-f60f-44f9-b9f6-d3a08588f2f9',\n",
              " 'ad07d78d-922b-456a-b1e2-18063b5ab320',\n",
              " 'fc329f26-8ba6-4bef-977a-3183198ac8ff',\n",
              " '9abcfaea-50d4-4a36-bb12-f7de642e6e80',\n",
              " '1f706fd2-6b20-4b56-ac43-5e9fc29e459b',\n",
              " 'a45cee2f-d933-42a0-8443-69ac46570c16',\n",
              " 'c9c2a513-f70c-4761-8b57-1235e3ff3e6b',\n",
              " '94d22ff7-6bd1-47f5-8979-44ad0a5d8458',\n",
              " 'efa1d0be-b438-441f-ae60-3f24fa4793c6',\n",
              " '23eb2ce2-d851-4421-aceb-3ee1df6eb69c',\n",
              " '1166e6eb-135a-45e1-92fc-aca2cbba8d38',\n",
              " '34d571fe-9af1-4d66-8897-15a67f208767',\n",
              " 'a29dab61-267a-4140-b84d-cc9ef569884b',\n",
              " 'e437bb2f-9463-4ba6-8012-e1246cbfa9c2',\n",
              " '2dd24e6b-3f1f-4e84-b2f2-ff6d97f91b2e',\n",
              " '56d3a9bd-dea9-400b-ae69-2eea5608ace2',\n",
              " 'b0b90607-362e-4a09-8165-5afab3a08ece',\n",
              " '171c531e-a000-45e9-b29c-0a87b1ff5a11',\n",
              " 'ec736fb0-aafb-4b0c-b089-dc2059676077',\n",
              " '7060e04f-99ad-4de8-b0c1-420e0bd23564',\n",
              " 'c617ecb5-f88e-43dc-8af1-dea66628114b',\n",
              " '2f189e7a-d8a7-4e7c-8a0a-00686d2a5293',\n",
              " '199fbcae-61cd-48f1-8268-54d56ede1b01',\n",
              " 'd1558d91-5275-47d8-bbbf-03c1f2e9110f',\n",
              " '8e60364e-775f-469e-bb44-e08f8dd93cbd',\n",
              " '76b39685-c18c-4dcf-9ea3-bef61355bec4',\n",
              " 'dd0df371-174b-48d0-ad28-5b2d4d9ba241',\n",
              " '6fbafd8a-0880-4bb8-bac6-611a6e902851',\n",
              " 'fd3e2a5b-f39f-4aa1-97b7-9bfe00ec47a4',\n",
              " '663fb2cc-fe3a-4aaf-bc64-54c17ee63d8a',\n",
              " 'f04cd3ae-984c-4689-827c-17174ff30151',\n",
              " '03bce9ff-49c4-4d2d-b920-1f277c4ff231',\n",
              " '39a84ab7-b0ae-4996-8f37-4d9822e1ae5d',\n",
              " 'ced97aad-f004-43bf-b49b-d6255be3b30f',\n",
              " '21acbe9d-a5fd-4046-b42c-2a6380c3eaf1',\n",
              " 'a5a0f2e1-f452-412c-9dfc-4d097e06480a',\n",
              " 'a0d6e800-efd4-44af-8717-ae52d592afea',\n",
              " 'fc648f71-fefd-40c0-8ac1-e44721232fdc',\n",
              " '5a580bda-9778-42c6-8f76-b2216f17493f',\n",
              " '57b0615e-be8d-4761-9209-b4e0cd4d8dfe',\n",
              " '3ef7f4d3-d341-4de9-b30e-0f57efd632e2',\n",
              " '8142987d-dcc0-45c0-9276-45a5e1f0031d',\n",
              " '470548ee-fed0-4b4f-a772-cf25a1f48773',\n",
              " '3ec7a3dc-9ce9-48df-bce0-3b640fcb6909',\n",
              " 'c5283d2b-eba9-4479-8296-4d5c0f1395d7',\n",
              " '27891b5f-97de-45fe-90a4-441937a6b4f4',\n",
              " '745c2913-dbe6-4ae2-93fd-4487dbb171a8',\n",
              " 'eeb10e3c-650f-4e88-96ec-c1814034f1d0',\n",
              " '77feb25c-3eba-44df-a3ac-ef677142859f',\n",
              " '87643f01-1546-4497-ae8e-00adb433d4c4',\n",
              " '83eb218b-c29f-4158-9d02-0ac4696021dd',\n",
              " 'c7633141-94a6-460f-a996-c71aa22af4d5',\n",
              " '185ba192-7b24-400f-8d48-e8ff4cabd108',\n",
              " '0fdcec84-bc4c-43b4-ab12-53b397854fa9',\n",
              " 'ccd50938-a5c9-4d14-92d1-ac0688ee26fc',\n",
              " 'ce3bee2a-2e5f-4247-908a-e17b7b9737ba',\n",
              " 'b4a4cc3e-73c2-4c40-9fb7-047150596509',\n",
              " 'ee87814d-3cb5-43b6-843c-f97becf0b564',\n",
              " '70eeb289-9f8b-439a-b718-5b5891e3b027',\n",
              " '0cc386d1-ec70-43b4-9705-9507713f1fe3',\n",
              " 'b40cd71b-d511-4d12-aaa5-d7552460fef0',\n",
              " '7924bcf2-bb04-4d2e-a597-b2593f54c7c6',\n",
              " '3843cf24-476b-4790-a012-b5e211c30251',\n",
              " '72e2492f-17bd-4849-8226-05dbd8d95cff',\n",
              " '9a308797-2ccc-44e3-8030-a2669395f770',\n",
              " '33ac6bbd-3700-448c-aa55-dccf842bccd9',\n",
              " '9a5fc341-8dbc-4724-8806-2b939cc5f506',\n",
              " '1dd7f177-911c-4e74-9e72-ae79dc7c7d99',\n",
              " '0cff1b83-7357-475e-a7a1-4130aab46944',\n",
              " 'a1fd7277-bc40-4b4c-9e01-7d622bb69fa1',\n",
              " '532eb229-599d-48cc-897a-35f35796f045',\n",
              " 'bdf2db6e-92ea-49b9-a27b-081240b0b17b',\n",
              " '70e20f34-0efa-41ec-ae3c-84ed98ee9f1d',\n",
              " '5a0ca535-2dd3-4377-89e1-5ca47d2b55b5',\n",
              " 'd55734fc-515b-4e7d-abb5-c6ffa759da6a',\n",
              " 'f2522010-94fa-46f7-abfa-cbc1906fe246',\n",
              " '584f4267-52ba-4176-a912-e310a7ab75d9',\n",
              " '1ac04d67-43e1-4602-970d-e7e138dd93df',\n",
              " '92e88c23-bdf6-4bae-9477-c76de343ab32',\n",
              " 'ec7822c7-3412-403f-a304-d8fa74927353',\n",
              " 'd51e62f8-9f7e-411d-a43b-bdcb2ae3d34b',\n",
              " 'baac5f90-7d17-4d4e-8df1-ba09c7ebdb56',\n",
              " 'a6253422-a8cd-4b38-a723-6127d36f7d2c',\n",
              " '0358ea76-8abb-4b41-89bc-2c28ca2f31e6',\n",
              " '56d69899-c529-46df-96f5-c84654e38f46',\n",
              " '4c87c08a-faae-4034-87aa-a9a0f3881b47',\n",
              " '63f9f677-18d4-41a7-868b-6f0a6c337b92',\n",
              " 'c8a767d4-2282-4152-b058-9d303926b58e',\n",
              " 'eed5ddd6-182e-457f-8fa5-b5c7bd9a7d20',\n",
              " '94fad4c2-4d9a-4482-8007-a56338904981',\n",
              " '23a2c2e3-eebd-4eeb-a2a7-c2c2bbcfe918',\n",
              " '580e3554-9180-43d0-9da9-408725eaec81',\n",
              " 'd5367df1-0a11-4e6f-a1af-15f085e5e34a',\n",
              " '6e2b9830-67bc-413e-a27e-626e4d879fde',\n",
              " 'c77222be-e8f7-49f4-9137-e72668c49a1e',\n",
              " '69ae9ca7-1892-49eb-8ffb-365bce4785fc',\n",
              " 'b3c2e1b8-7636-4973-9a54-298d6922620a',\n",
              " '5383d497-03f9-4f30-993b-c77f8f6295a3',\n",
              " 'abca389e-cdcc-4645-9e34-322c4ebc74f1',\n",
              " 'f4c7a2ce-c75b-4a3c-b691-b40acf28d31b',\n",
              " 'c3eb1efc-766c-45cc-b61e-de2af740207e',\n",
              " 'e246e8ea-0a06-475b-bf63-8c9a975001c8',\n",
              " '0ba9177c-3baa-43e2-af9d-3dbf063394da',\n",
              " '741b242d-7af8-4b82-870a-cb1d9800aa00',\n",
              " 'ad572145-4539-4665-8e9a-e1023e585442',\n",
              " '193195a3-bf31-45ae-8871-79bfd2b11f6b',\n",
              " 'c8dab1fc-3da0-4129-a275-ea03a4706cae',\n",
              " 'b89c65e7-2bd9-435a-8ade-65dbfb84cf7b',\n",
              " 'b0fe62e1-2a3f-4364-a44f-40988ecf1cd6',\n",
              " '4aaabc58-b1a7-4459-b74e-d4ca1ca76350',\n",
              " '20eb23d6-d199-4c7f-98c2-0e456ddde4f2',\n",
              " 'dc3841fb-654a-4793-ae67-33551c645acc',\n",
              " 'd3af8668-237e-40e9-b32d-6e18f739e4a7',\n",
              " 'e7d1b0dd-43e7-453c-aa1a-fbae00a8b37e',\n",
              " '0578495e-eae6-4b80-9d5e-5a7a08196b45',\n",
              " 'bbdf65d8-1d71-4c70-867a-5aed496b83e7',\n",
              " '7cf904c2-d08a-44ce-a693-68242a09fef6',\n",
              " 'ebc2157a-680e-4e0a-bb5f-1a71c1bdb5a8',\n",
              " '14b49feb-84b9-4e9c-9b9d-990675eb4ba9',\n",
              " '55789a74-2f03-42ee-a501-3d9874e4cdfe',\n",
              " '17b34b54-8532-44b5-9fc2-a06c36913c72',\n",
              " '43b35efb-1bed-420b-a400-d30cbfa78188',\n",
              " 'aaefb62f-a1bf-4f83-992e-e6c4bf8b8db4',\n",
              " '81b8ae83-1089-4ae7-8b99-da0c4b4f3a55',\n",
              " '50bae88c-5fe5-4a5e-8031-20e02a36be7d',\n",
              " '30386352-0d50-4373-96d2-4718bfb14900',\n",
              " '112d08bb-d154-4be4-868f-046dfaaeaf47',\n",
              " '05c5e667-75a1-4e42-91da-e9a44e55c0d9',\n",
              " 'dbae90e5-abd0-44ef-abfe-22f53cc86dcd',\n",
              " '84b65069-e6df-4eaf-b046-4c4112dcb8d8',\n",
              " 'b5cece87-2c79-4393-b54a-feae76421b12',\n",
              " '2c2c44a4-3813-46a8-bbe1-c24612daed3b',\n",
              " '7eca99c9-c70d-4491-86ba-7b8b0a6aff93',\n",
              " 'e9145e4d-3f63-4043-9c81-da5674fb454e',\n",
              " '889acf11-d6b7-46b0-ae3f-1197a2aa43bc',\n",
              " 'fd50a607-af6b-4f60-996d-8590a2f23129',\n",
              " 'd70a6722-5be3-41e7-ae95-268ea40a9723',\n",
              " '8340733f-ce0d-442f-9411-4a882cad46da',\n",
              " 'defc322b-7097-4699-a2c9-390c79f08737',\n",
              " '92e3e0f7-505d-4d05-9fe1-aba6d5d5901f',\n",
              " '8eb0fe2f-aa77-4aa9-895c-eba7d2fc9af7',\n",
              " '354a49f4-72ea-4d8f-a93c-ae06d472a3bd',\n",
              " 'c3535f7e-44d4-4c61-99d6-2c3dd2bdef3a',\n",
              " 'f4e5fbef-64aa-4ce3-ac5d-03e45eb570f3',\n",
              " 'fba5f74e-8212-46f5-92ad-9303511f7e36',\n",
              " '14908e1b-7093-44d1-a41b-1c805e380c3e',\n",
              " '21825a6f-0b3b-4275-a60f-af0744abbfb4',\n",
              " 'c83e14a9-dae2-41d4-a4cc-9f9ca241641a',\n",
              " 'f8a5bfe9-7aa0-4c42-a156-965f3ec8dc76',\n",
              " '27ef55bc-d2e2-473f-ad06-d8285e5bc7ac',\n",
              " 'f4c775b4-490a-490c-8ba2-c4947d0ac3df',\n",
              " '6d4afcb4-b79c-4a10-8470-d0c42da6dacf',\n",
              " '816a8b87-bdb1-4992-ad67-caaf86ed6740',\n",
              " 'd1bcd1e8-52c1-4012-b1ba-56e2d6a3a6cd',\n",
              " '894fb461-1b1e-4410-9045-bae4c6cfa922',\n",
              " 'b11e8627-2037-47fa-b6f8-c968103b3557',\n",
              " '5ff836c5-0a6c-4fbd-860f-ade350c49340',\n",
              " '5586c063-a464-4cca-b5d4-f86c97ff69a1',\n",
              " '4f4fdc3e-5100-4bdc-ac76-18addfc7856f',\n",
              " 'aaaaedcd-7808-43c5-a419-e68a554bc945',\n",
              " 'e07689c9-71e7-4c77-990b-155fbe213d07',\n",
              " 'bd065c61-fa0f-4e6e-9a71-9e9babf9600c',\n",
              " 'cdb6a09c-a058-464e-a11c-efe94188946a',\n",
              " '6ea26530-debd-45c6-97bb-b9d8f84aeb81',\n",
              " 'c0874d30-4879-4b51-800e-b9e90b92ad29',\n",
              " 'e281427b-ff50-4f98-991c-00ce366693cd',\n",
              " '78b5a144-e701-41d1-ba23-e173750fc11b',\n",
              " '2c7ec73e-42cb-4798-99dd-9a47ff811907',\n",
              " '3bfc58ae-5f83-47af-a3ca-449e572584ed',\n",
              " '98993e14-230b-4d47-912c-1205c99ed600',\n",
              " 'e22a1d00-08af-474e-9b7b-a1902ee9ef07',\n",
              " '14f8c753-0017-46eb-b686-7a76e05399f9',\n",
              " 'dd13ed17-0a28-4765-ae0e-e8130efe1874',\n",
              " '9882ad2f-0162-410e-9952-8e7ee7498509',\n",
              " 'f2cafb05-3d89-47df-8966-3c9fa0bb29e4',\n",
              " 'f87f51d0-6116-4bd1-a757-dae095684dc1',\n",
              " '24abeda1-2ff5-4c8b-b398-709e7ac3cb48',\n",
              " '9e92cb12-a080-4f5e-b6aa-f4a5129313c5',\n",
              " 'fa9b111d-05dc-4c6e-8e4a-98185c6bc7c4',\n",
              " 'e853d057-3574-4cd1-a1f9-2c08910008b3',\n",
              " '15be9183-ba24-4756-8d5a-3190878b14ac',\n",
              " 'b5779f1f-e38c-4dce-9f14-3f4fa3569220',\n",
              " '5db20ecc-94ee-4a82-90f7-ab5cd4b06eff',\n",
              " 'e135fa25-4879-48ef-a18c-902479d255dc',\n",
              " '9e4d04b6-1ebd-4600-aa54-4672f064c3ef',\n",
              " '6f7ed5ce-9569-4302-a4aa-9ec614671fbc',\n",
              " '8337b765-ab8b-4e3d-a8dc-b15614e9651b',\n",
              " '1bbecd26-77c5-43d3-9f4f-d6afd73c2b49',\n",
              " '1468cee3-67b7-4bba-bc2a-98e4e8dbff0a',\n",
              " '72a9e7f7-10be-4a18-bc28-9b9be74c47bb',\n",
              " '97242eb3-92f9-496b-90f0-7242f7c7c223',\n",
              " 'd85b85bd-7742-49d1-9f32-e20d139dfe5e',\n",
              " '23c9fc02-25a8-4284-9302-c33ab1a5e679',\n",
              " '2ed78838-80a8-49c2-832d-427cd4764169',\n",
              " 'd6ba7532-48e6-469b-ab64-c822511365e5',\n",
              " '5e984576-2b10-4992-ab2a-0c99792cb704',\n",
              " '180bfd33-d0c1-4225-958f-85e8f1d02bf3',\n",
              " '97f366c2-410e-4a84-ae40-49d49f12ff8b',\n",
              " '71e38107-0614-4a58-a72f-d9d6a721c9de',\n",
              " '5adec505-fd4a-4ddf-a8fd-329c4d577745',\n",
              " 'abb10922-78ed-4193-a9f8-b72a600600fd',\n",
              " 'ed6b3759-1461-44c4-a135-ef1d9fcf14c6',\n",
              " '6f6bdbf2-bb13-4a2e-99ee-deff21a9f2d8',\n",
              " 'e1010114-c124-4a94-b4d4-915300a0f1c2',\n",
              " '9bd3366d-2848-4b40-b2d1-2ec190ae5e6f',\n",
              " 'd4ba7bd0-8e95-48a8-bdb8-371cd7ff935c',\n",
              " '6810e1d9-5e05-4d3c-bdc7-c215c7f9a17f',\n",
              " '799a46f6-b7ae-41dd-b2b2-bfee53c26909',\n",
              " '4c3359e2-ca4c-419f-bd48-e6c9dbad37a7',\n",
              " '0617a853-039e-411a-9265-b10605d6f1de',\n",
              " '39dd138c-2647-4273-8823-7db73b41557d',\n",
              " 'c0dffc88-3c64-4723-8ff8-f4382ea94dff',\n",
              " '935209f9-f56a-4ed3-b87b-28dfd4ced9cc',\n",
              " '4b671794-5d29-4851-8688-df9e6ce18259',\n",
              " '39dc4d3d-a643-4d27-9f29-ae3dc5d90b5e',\n",
              " 'd7dea23a-f7bc-4a30-a483-324f175bf0f2',\n",
              " 'c1ede632-d897-4252-93db-d32188c5d7f6',\n",
              " 'cee1435a-416a-4702-83ec-d327bc83e35f',\n",
              " '22412b0a-abbc-4a2a-9305-b49f79b4088f',\n",
              " ...]"
            ]
          },
          "metadata": {},
          "execution_count": 83
        }
      ]
    },
    {
      "cell_type": "markdown",
      "source": [
        "**4. User query = ‘agent memory’ 를 받아 관련된 chunks를 retrieve**\n",
        "\n",
        "\n",
        "https://python.langchain.com/v0.2/docs/how_to/vectorstore_retriever/\n",
        "\n",
        "https://api.python.langchain.com/en/latest/vectorstores/langchain_core.vectorstores.VectorStore.html#langchain_core.vectorstores.VectorStore.as_retriever"
      ],
      "metadata": {
        "id": "f80hfgluq43Q"
      }
    },
    {
      "cell_type": "code",
      "source": [
        "retriever = vector_store.as_retriever()\n",
        "\n",
        "docs = retriever.invoke(\"Why has AI fallen down?\")\n",
        "docs"
      ],
      "metadata": {
        "colab": {
          "base_uri": "https://localhost:8080/"
        },
        "id": "6UacUdc5BFfr",
        "outputId": "52ddd89c-8fd6-4b8d-92ab-185afbf21820"
      },
      "execution_count": 91,
      "outputs": [
        {
          "output_type": "execute_result",
          "data": {
            "text/plain": [
              "[Document(id='17b34b54-8532-44b5-9fc2-a06c36913c72', metadata={'title': \"Prompt Engineering | Lil'Log\", 'description': 'Prompt Engineering, also known as In-Context Prompting, refers to methods for how to communicate with LLM to steer its behavior for desired outcomes without updating the model weights. It is an empirical science and the effect of prompt engineering methods can vary a lot among models, thus requiring heavy experimentation and heuristics.\\nThis post only focuses on prompt engineering for autoregressive language models, so nothing with Cloze tests, image generation or multimodality models. At its core, the goal of prompt engineering is about alignment and model steerability. Check my previous post on controllable text generation.', 'language': 'en', 'source': 'https://lilianweng.github.io/posts/2023-03-15-prompt-engineering/'}, page_content='via Google Search, its performance on post-2020 questions are still a lot worse than on pre-2020'),\n",
              " Document(id='da6dfa52-02f9-4628-9081-f88445ce7271', metadata={'description': 'The use of large language models in the real world has strongly accelerated by the launch of ChatGPT. We (including my team at OpenAI, shoutout to them) have invested a lot of effort to build default safe behavior into the model during the alignment process (e.g. via RLHF). However, adversarial attacks or jailbreak prompts could potentially trigger the model to output something undesired.\\nA large body of ground work on adversarial attacks is on images, and differently it operates in the continuous, high-dimensional space. Attacks for discrete data like text have been considered to be a lot more challenging, due to lack of direct gradient signals. My past post on Controllable Text Generation is quite relevant to this topic, as attacking LLMs is essentially to control the model to output a certain type of (unsafe) content.', 'language': 'en', 'title': \"Adversarial Attacks on LLMs | Lil'Log\", 'source': 'https://lilianweng.github.io/posts/2023-10-25-adv-attack-llm/'}, page_content='useless because the model generation quality degrades a lot, while the drop in attack success rate'),\n",
              " Document(id='832d1689-66e6-4838-ad76-ddb9784e6da0', metadata={'title': \"LLM Powered Autonomous Agents | Lil'Log\", 'description': 'Building agents with LLM (large language model) as its core controller is a cool concept. Several proof-of-concepts demos, such as AutoGPT, GPT-Engineer and BabyAGI, serve as inspiring examples. The potentiality of LLM extends beyond generating well-written copies, stories, essays and programs; it can be framed as a powerful general problem solver.\\nAgent System Overview\\nIn a LLM-powered autonomous agent system, LLM functions as the agent’s brain, complemented by several key components:\\n\\nPlanning\\n\\nSubgoal and decomposition: The agent breaks down large tasks into smaller, manageable subgoals, enabling efficient handling of complex tasks.\\nReflection and refinement: The agent can do self-criticism and self-reflection over past actions, learn from mistakes and refine them for future steps, thereby improving the quality of final results.\\n\\n\\nMemory\\n\\nShort-term memory: I would consider all the in-context learning (See Prompt Engineering) as utilizing short-term memory of the model to learn.\\nLong-term memory: This provides the agent with the capability to retain and recall (infinite) information over extended periods, often by leveraging an external vector store and fast retrieval.\\n\\n\\nTool use\\n\\nThe agent learns to call external APIs for extra information that is missing from the model weights (often hard to change after pre-training), including current information, code execution capability, access to proprietary information sources and more.\\n\\n\\n\\n\\n\\t\\n\\tOverview of a LLM-powered autonomous agent system.\\n\\nComponent One: Planning\\nA complicated task usually involves many steps. An agent needs to know what they are and plan ahead.', 'source': 'https://lilianweng.github.io/posts/2023-06-23-agent/', 'language': 'en'}, page_content='AutoGPT has drawn a lot of attention into the possibility of setting up autonomous agents with LLM'),\n",
              " Document(id='ba9c32e8-93f5-40f2-83c4-3a205108f93c', metadata={'language': 'en', 'title': \"LLM Powered Autonomous Agents | Lil'Log\", 'description': 'Building agents with LLM (large language model) as its core controller is a cool concept. Several proof-of-concepts demos, such as AutoGPT, GPT-Engineer and BabyAGI, serve as inspiring examples. The potentiality of LLM extends beyond generating well-written copies, stories, essays and programs; it can be framed as a powerful general problem solver.\\nAgent System Overview\\nIn a LLM-powered autonomous agent system, LLM functions as the agent’s brain, complemented by several key components:\\n\\nPlanning\\n\\nSubgoal and decomposition: The agent breaks down large tasks into smaller, manageable subgoals, enabling efficient handling of complex tasks.\\nReflection and refinement: The agent can do self-criticism and self-reflection over past actions, learn from mistakes and refine them for future steps, thereby improving the quality of final results.\\n\\n\\nMemory\\n\\nShort-term memory: I would consider all the in-context learning (See Prompt Engineering) as utilizing short-term memory of the model to learn.\\nLong-term memory: This provides the agent with the capability to retain and recall (infinite) information over extended periods, often by leveraging an external vector store and fast retrieval.\\n\\n\\nTool use\\n\\nThe agent learns to call external APIs for extra information that is missing from the model weights (often hard to change after pre-training), including current information, code execution capability, access to proprietary information sources and more.\\n\\n\\n\\n\\n\\t\\n\\tOverview of a LLM-powered autonomous agent system.\\n\\nComponent One: Planning\\nA complicated task usually involves many steps. An agent needs to know what they are and plan ahead.', 'source': 'https://lilianweng.github.io/posts/2023-06-23-agent/'}, page_content='Experiments on AlfWorld Env and HotpotQA. Hallucination is a more common failure than inefficient')]"
            ]
          },
          "metadata": {},
          "execution_count": 91
        }
      ]
    },
    {
      "cell_type": "markdown",
      "source": [
        "**5. 5-1) 과 5-2) 를 참고하여, User query와 retrieved chunk 에 대해 relevance 가 있는지를 평가하는 시스템 프롬프트를 작성해보세요: retrieval 퀄리티를 LLM 이 스스로 평가하도록 하고, 관련이 있으면 {‘relevance’: ‘yes’} 관련이 없으면 {‘relevance’: ‘no’} 라고 출력하도록 함. ( JsonOutputParser() 를 활용 )**\n"
      ],
      "metadata": {
        "id": "eXGZf5unq45i"
      }
    },
    {
      "cell_type": "markdown",
      "source": [
        "5-1 참고) RAG 용 프롬프트 작성을 위한 Prompt Hub 활용\n",
        "\n",
        "https://smith.langchain.com/hub/rlm/rag-prompt"
      ],
      "metadata": {
        "id": "CLFY80OE43j3"
      }
    },
    {
      "cell_type": "code",
      "source": [
        "from langchain import hub\n",
        "\n",
        "prompt = hub.pull(\"rlm/rag-prompt\")\n",
        "prompt"
      ],
      "metadata": {
        "id": "cFsJnLmn44p0",
        "colab": {
          "base_uri": "https://localhost:8080/"
        },
        "outputId": "e264a15b-6bcd-4894-efb6-738cc1f4d70c"
      },
      "execution_count": 74,
      "outputs": [
        {
          "output_type": "execute_result",
          "data": {
            "text/plain": [
              "ChatPromptTemplate(input_variables=['context', 'question'], input_types={}, partial_variables={}, metadata={'lc_hub_owner': 'rlm', 'lc_hub_repo': 'rag-prompt', 'lc_hub_commit_hash': '50442af133e61576e74536c6556cefe1fac147cad032f4377b60c436e6cdcb6e'}, messages=[HumanMessagePromptTemplate(prompt=PromptTemplate(input_variables=['context', 'question'], input_types={}, partial_variables={}, template=\"You are an assistant for question-answering tasks. Use the following pieces of retrieved context to answer the question. If you don't know the answer, just say that you don't know. Use three sentences maximum and keep the answer concise.\\nQuestion: {question} \\nContext: {context} \\nAnswer:\"), additional_kwargs={})])"
            ]
          },
          "metadata": {},
          "execution_count": 74
        }
      ]
    },
    {
      "cell_type": "code",
      "source": [
        "example_messages = prompt.invoke(\n",
        "    {\"context\": \"filler context\", \"question\": \"filler question\"}\n",
        ").to_messages()\n",
        "\n",
        "example_messages"
      ],
      "metadata": {
        "id": "I_YaPYr25g_G",
        "colab": {
          "base_uri": "https://localhost:8080/"
        },
        "outputId": "e6899978-e7d8-4d52-96d2-4938b8a532b8"
      },
      "execution_count": 75,
      "outputs": [
        {
          "output_type": "execute_result",
          "data": {
            "text/plain": [
              "[HumanMessage(content=\"You are an assistant for question-answering tasks. Use the following pieces of retrieved context to answer the question. If you don't know the answer, just say that you don't know. Use three sentences maximum and keep the answer concise.\\nQuestion: filler question \\nContext: filler context \\nAnswer:\", additional_kwargs={}, response_metadata={})]"
            ]
          },
          "metadata": {},
          "execution_count": 75
        }
      ]
    },
    {
      "cell_type": "markdown",
      "source": [
        "5-2 참고) output JSON formatting 하는 코드\n",
        "\n",
        "https://python.langchain.com/v0.2/docs/how_to/output_parser_json/#without-pydantic"
      ],
      "metadata": {
        "id": "bnDksZA748kC"
      }
    },
    {
      "cell_type": "code",
      "source": [
        "import getpass\n",
        "import os\n",
        "\n",
        "os.environ[\"OPENAI_API_KEY\"] = getpass.getpass()\n",
        "\n",
        "from langchain_openai import ChatOpenAI\n",
        "\n",
        "llm = ChatOpenAI(model=\"gpt-4o\")"
      ],
      "metadata": {
        "colab": {
          "base_uri": "https://localhost:8080/"
        },
        "id": "vZ8HrMCADsiH",
        "outputId": "f858dc22-7121-4d45-fa70-51dfb7845746"
      },
      "execution_count": 65,
      "outputs": [
        {
          "name": "stdout",
          "output_type": "stream",
          "text": [
            "··········\n"
          ]
        }
      ]
    },
    {
      "cell_type": "code",
      "source": [
        "from langchain_core.output_parsers import JsonOutputParser\n",
        "from langchain_core.prompts import PromptTemplate\n",
        "\n",
        "def relevantChecker(inputs: dict):\n",
        "  parser = JsonOutputParser()\n",
        "\n",
        "  prompt = PromptTemplate(\n",
        "      template=\"\"\"\n",
        "      Determine whether the context is relevant to the question.\n",
        "      If relevant, respond only with {{\"relevance\": \"yes\"}}.\n",
        "      If not relevant, respond only with {{\"relevance\": \"no\"}}.\n",
        "      {format_instructions}\n",
        "      question: {question}\n",
        "      document: {document}\n",
        "      \"\"\",\n",
        "      input_variables=[\"question\", \"document\"],\n",
        "      partial_variables={\"format_instructions\": parser.get_format_instructions()},\n",
        "  )\n",
        "\n",
        "  chain = prompt | llm | parser\n",
        "  return chain.invoke(inputs)"
      ],
      "metadata": {
        "id": "usYgdnUxDf8p"
      },
      "execution_count": 92,
      "outputs": []
    },
    {
      "cell_type": "markdown",
      "source": [
        "```\n",
        "{'response': \"Sure! Here's a joke for you: Why couldn't the bicycle stand up by itself? Because it was two tired!\"}\n",
        "```"
      ],
      "metadata": {
        "id": "R5M7MhxByL2m"
      }
    },
    {
      "cell_type": "markdown",
      "source": [
        "6. 5 에서 모든 docs에 대해 'yes' 가 나와야 하는 케이스와 ‘no’ 가 나와야 하는 케이스를 작성해보세요."
      ],
      "metadata": {
        "id": "kVz8Ac07q47_"
      }
    },
    {
      "cell_type": "code",
      "source": [
        "yes_questions = [\n",
        "    \"Q1: What role does the “Planning” component play in an LLM-based autonomous agent system?\",\n",
        "    \"Q2: What types of “Memory” components exist, and how are they utilized?\",\n",
        "    \"Q3: What exactly does “Prompt Engineering” mean?\",\n",
        "    \"Q4: What is the difference between Zero-Shot and Few-Shot prompting approaches?\",\n",
        "    \"Q5: In the context of adversarial attacks on text, what is “token manipulation”?\",\n",
        "    \"Q6: What is the difference between white-box and black-box attacks?\"\n",
        "    ]\n",
        "no_questions = [\n",
        "    \"Q1: What are the major differences between supervised learning and reinforcement learning in training neural networks?\",\n",
        "    \"Q2: How does the MapReduce programming model work in distributed computing systems?\",\n",
        "    \"Q3: What are the main challenges in implementing quantum error correction for quantum computers?\",\n",
        "    \"Q4: How do convolutional neural networks (CNNs) process image data differently from recurrent neural networks (RNNs)?\",\n",
        "    \"Q5: What role does consensus play in blockchain systems, and how do algorithms like Proof-of-Stake differ from Proof-of-Work?\",\n",
        "    \"Q6: What are the key differences between IPv4 and IPv6 in terms of address structure and routing?\"\n",
        "]"
      ],
      "metadata": {
        "id": "mtn4O9PnHoMz"
      },
      "execution_count": 93,
      "outputs": []
    },
    {
      "cell_type": "code",
      "source": [
        "yes_dicts = []\n",
        "for question in yes_questions:\n",
        "  yes_dicts.append({\"question\": question, \"document\": retriever.invoke(question)})\n",
        "no_dicts = []\n",
        "for question in no_questions:\n",
        "  no_dicts.append({\"question\": question, \"document\": retriever.invoke(question)})"
      ],
      "metadata": {
        "id": "_4fUoXEZJCDn"
      },
      "execution_count": 94,
      "outputs": []
    },
    {
      "cell_type": "code",
      "source": [
        "print(yes_dicts)\n",
        "print(no_dicts)"
      ],
      "metadata": {
        "colab": {
          "base_uri": "https://localhost:8080/"
        },
        "id": "awWFr7MbMtSb",
        "outputId": "92681742-82ca-47ed-caeb-e71d5ccc4f02"
      },
      "execution_count": 88,
      "outputs": [
        {
          "output_type": "stream",
          "name": "stdout",
          "text": [
            "[{'question': 'Q1: What role does the “Planning” component play in an LLM-based autonomous agent system?', 'document': [Document(id='4a39f2a6-c24c-4fe0-8a41-e3f475914c04', metadata={'source': 'https://lilianweng.github.io/posts/2023-06-23-agent/'}, page_content='LLM Powered Autonomous Agents\\n    \\nDate: June 23, 2023  |  Estimated Reading Time: 31 min  |  Author: Lilian Weng\\n\\n\\nBuilding agents with LLM (large language model) as its core controller is a cool concept. Several proof-of-concepts demos, such as AutoGPT, GPT-Engineer and BabyAGI, serve as inspiring examples. The potentiality of LLM extends beyond generating well-written copies, stories, essays and programs; it can be framed as a powerful general problem solver.\\nAgent System Overview#\\nIn a LLM-powered autonomous agent system, LLM functions as the agent’s brain, complemented by several key components:\\n\\nPlanning\\n\\nSubgoal and decomposition: The agent breaks down large tasks into smaller, manageable subgoals, enabling efficient handling of complex tasks.\\nReflection and refinement: The agent can do self-criticism and self-reflection over past actions, learn from mistakes and refine them for future steps, thereby improving the quality of final results.\\n\\n\\nMemory'), Document(id='ffa12f83-4e64-4a96-8f03-90675b778015', metadata={'source': 'https://lilianweng.github.io/posts/2023-06-23-agent/'}, page_content='Task decomposition can be done (1) by LLM with simple prompting like \"Steps for XYZ.\\\\n1.\", \"What are the subgoals for achieving XYZ?\", (2) by using task-specific instructions; e.g. \"Write a story outline.\" for writing a novel, or (3) with human inputs.\\nAnother quite distinct approach, LLM+P (Liu et al. 2023), involves relying on an external classical planner to do long-horizon planning. This approach utilizes the Planning Domain Definition Language (PDDL) as an intermediate interface to describe the planning problem. In this process, LLM (1) translates the problem into “Problem PDDL”, then (2) requests a classical planner to generate a PDDL plan based on an existing “Domain PDDL”, and finally (3) translates the PDDL plan back into natural language. Essentially, the planning step is outsourced to an external tool, assuming the availability of domain-specific PDDL and a suitable planner which is common in certain robotic setups but not in many other domains.\\nSelf-Reflection#'), Document(id='41179ae7-2154-47d8-aaec-380cdbb81e74', metadata={'source': 'https://lilianweng.github.io/posts/2023-06-23-agent/'}, page_content='Reliability of natural language interface: Current agent system relies on natural language as an interface between LLMs and external components such as memory and tools. However, the reliability of model outputs is questionable, as LLMs may make formatting errors and occasionally exhibit rebellious behavior (e.g. refuse to follow an instruction). Consequently, much of the agent demo code focuses on parsing model output.\\n\\n\\nCitation#\\nCited as:\\n\\nWeng, Lilian. (Jun 2023). “LLM-powered Autonomous Agents”. Lil’Log. https://lilianweng.github.io/posts/2023-06-23-agent/.'), Document(id='0b80398b-6756-4953-ac15-129949751555', metadata={'source': 'https://lilianweng.github.io/posts/2023-06-23-agent/'}, page_content='Memory\\n\\nShort-term memory: I would consider all the in-context learning (See Prompt Engineering) as utilizing short-term memory of the model to learn.\\nLong-term memory: This provides the agent with the capability to retain and recall (infinite) information over extended periods, often by leveraging an external vector store and fast retrieval.\\n\\n\\nTool use\\n\\nThe agent learns to call external APIs for extra information that is missing from the model weights (often hard to change after pre-training), including current information, code execution capability, access to proprietary information sources and more.\\n\\n\\n\\n\\n\\nOverview of a LLM-powered autonomous agent system.')]}, {'question': 'Q2: What types of “Memory” components exist, and how are they utilized?', 'document': [Document(id='19501118-c3e6-4122-abbb-9ded12406a43', metadata={'source': 'https://lilianweng.github.io/posts/2023-06-23-agent/'}, page_content='Comparison of AD, ED, source policy and RL^2 on environments that require memory and exploration. Only binary reward is assigned. The source policies are trained with A3C for \"dark\" environments and DQN for watermaze.(Image source: Laskin et al. 2023)\\n\\nComponent Two: Memory#\\n(Big thank you to ChatGPT for helping me draft this section. I’ve learned a lot about the human brain and data structure for fast MIPS in my conversations with ChatGPT.)\\nTypes of Memory#\\nMemory can be defined as the processes used to acquire, store, retain, and later retrieve information. There are several types of memory in human brains.\\n\\n\\nSensory Memory: This is the earliest stage of memory, providing the ability to retain impressions of sensory information (visual, auditory, etc) after the original stimuli have ended. Sensory memory typically only lasts for up to a few seconds. Subcategories include iconic memory (visual), echoic memory (auditory), and haptic memory (touch).'), Document(id='f1258411-ce1a-46d8-9dd9-696d1f58ad67', metadata={'source': 'https://lilianweng.github.io/posts/2023-06-23-agent/'}, page_content='Short-Term Memory (STM) or Working Memory: It stores information that we are currently aware of and needed to carry out complex cognitive tasks such as learning and reasoning. Short-term memory is believed to have the capacity of about 7 items (Miller 1956) and lasts for 20-30 seconds.\\n\\n\\nLong-Term Memory (LTM): Long-term memory can store information for a remarkably long time, ranging from a few days to decades, with an essentially unlimited storage capacity. There are two subtypes of LTM:\\n\\nExplicit / declarative memory: This is memory of facts and events, and refers to those memories that can be consciously recalled, including episodic memory (events and experiences) and semantic memory (facts and concepts).\\nImplicit / procedural memory: This type of memory is unconscious and involves skills and routines that are performed automatically, like riding a bike or typing on a keyboard.\\n\\n\\n\\n\\n\\nCategorization of human memory.\\n\\nWe can roughly consider the following mappings:'), Document(id='e1b5837b-174a-43e3-85ce-c6389ba3648e', metadata={'source': 'https://lilianweng.github.io/posts/2023-06-23-agent/'}, page_content='Categorization of human memory.\\n\\nWe can roughly consider the following mappings:\\n\\nSensory memory as learning embedding representations for raw inputs, including text, image or other modalities;\\nShort-term memory as in-context learning. It is short and finite, as it is restricted by the finite context window length of Transformer.\\nLong-term memory as the external vector store that the agent can attend to at query time, accessible via fast retrieval.'), Document(id='97f773dd-9038-46a9-9ced-94789181b514', metadata={'source': 'https://lilianweng.github.io/posts/2023-06-23-agent/'}, page_content='Memory stream: is a long-term memory module (external database) that records a comprehensive list of agents’ experience in natural language.\\n\\nEach element is an observation, an event directly provided by the agent.\\n- Inter-agent communication can trigger new natural language statements.\\n\\n\\nRetrieval model: surfaces the context to inform the agent’s behavior, according to relevance, recency and importance.\\n\\nRecency: recent events have higher scores\\nImportance: distinguish mundane from core memories. Ask LM directly.\\nRelevance: based on how related it is to the current situation / query.\\n\\n\\nReflection mechanism: synthesizes memories into higher level inferences over time and guides the agent’s future behavior. They are higher-level summaries of past events (<- note that this is a bit different from self-reflection above)')]}, {'question': 'Q3: What exactly does “Prompt Engineering” mean?', 'document': [Document(id='2843ff4d-9edc-47ca-83e0-017159862872', metadata={'source': 'https://lilianweng.github.io/posts/2023-06-23-agent/'}, page_content=\"Prompt LM with 100 most recent observations and to generate 3 most salient high-level questions given a set of observations/statements. Then ask LM to answer those questions.\\n\\n\\nPlanning & Reacting: translate the reflections and the environment information into actions\\n\\nPlanning is essentially in order to optimize believability at the moment vs in time.\\nPrompt template: {Intro of an agent X}. Here is X's plan today in broad strokes: 1)\\nRelationships between agents and observations of one agent by another are all taken into consideration for planning and reacting.\\nEnvironment information is present in a tree structure.\\n\\n\\n\\n\\n\\nThe generative agent architecture. (Image source: Park et al. 2023)\"), Document(id='a39acf07-b0a2-4cd3-a892-8302d491e349', metadata={'source': 'https://lilianweng.github.io/posts/2023-06-23-agent/'}, page_content='}\\n]\\nThen after these clarification, the agent moved into the code writing mode with a different system message.\\nSystem message:'), Document(id='0b80398b-6756-4953-ac15-129949751555', metadata={'source': 'https://lilianweng.github.io/posts/2023-06-23-agent/'}, page_content='Memory\\n\\nShort-term memory: I would consider all the in-context learning (See Prompt Engineering) as utilizing short-term memory of the model to learn.\\nLong-term memory: This provides the agent with the capability to retain and recall (infinite) information over extended periods, often by leveraging an external vector store and fast retrieval.\\n\\n\\nTool use\\n\\nThe agent learns to call external APIs for extra information that is missing from the model weights (often hard to change after pre-training), including current information, code execution capability, access to proprietary information sources and more.\\n\\n\\n\\n\\n\\nOverview of a LLM-powered autonomous agent system.'), Document(id='f7ed1c37-283c-476b-a288-dc9f8071605d', metadata={'source': 'https://lilianweng.github.io/posts/2023-06-23-agent/'}, page_content='Resources:\\n1. Internet access for searches and information gathering.\\n2. Long Term memory management.\\n3. GPT-3.5 powered Agents for delegation of simple tasks.\\n4. File output.\\n\\nPerformance Evaluation:\\n1. Continuously review and analyze your actions to ensure you are performing to the best of your abilities.\\n2. Constructively self-criticize your big-picture behavior constantly.\\n3. Reflect on past decisions and strategies to refine your approach.\\n4. Every command has a cost, so be smart and efficient. Aim to complete tasks in the least number of steps.')]}, {'question': 'Q4: What is the difference between Zero-Shot and Few-Shot prompting approaches?', 'document': [Document(id='9b05d418-6caa-4aa6-8f50-fa1a2e875112', metadata={'source': 'https://lilianweng.github.io/posts/2023-06-23-agent/'}, page_content='}\\n]\\nChallenges#\\nAfter going through key ideas and demos of building LLM-centered agents, I start to see a couple common limitations:'), Document(id='2843ff4d-9edc-47ca-83e0-017159862872', metadata={'source': 'https://lilianweng.github.io/posts/2023-06-23-agent/'}, page_content=\"Prompt LM with 100 most recent observations and to generate 3 most salient high-level questions given a set of observations/statements. Then ask LM to answer those questions.\\n\\n\\nPlanning & Reacting: translate the reflections and the environment information into actions\\n\\nPlanning is essentially in order to optimize believability at the moment vs in time.\\nPrompt template: {Intro of an agent X}. Here is X's plan today in broad strokes: 1)\\nRelationships between agents and observations of one agent by another are all taken into consideration for planning and reacting.\\nEnvironment information is present in a tree structure.\\n\\n\\n\\n\\n\\nThe generative agent architecture. (Image source: Park et al. 2023)\"), Document(id='0b80398b-6756-4953-ac15-129949751555', metadata={'source': 'https://lilianweng.github.io/posts/2023-06-23-agent/'}, page_content='Memory\\n\\nShort-term memory: I would consider all the in-context learning (See Prompt Engineering) as utilizing short-term memory of the model to learn.\\nLong-term memory: This provides the agent with the capability to retain and recall (infinite) information over extended periods, often by leveraging an external vector store and fast retrieval.\\n\\n\\nTool use\\n\\nThe agent learns to call external APIs for extra information that is missing from the model weights (often hard to change after pre-training), including current information, code execution capability, access to proprietary information sources and more.\\n\\n\\n\\n\\n\\nOverview of a LLM-powered autonomous agent system.'), Document(id='ffa12f83-4e64-4a96-8f03-90675b778015', metadata={'source': 'https://lilianweng.github.io/posts/2023-06-23-agent/'}, page_content='Task decomposition can be done (1) by LLM with simple prompting like \"Steps for XYZ.\\\\n1.\", \"What are the subgoals for achieving XYZ?\", (2) by using task-specific instructions; e.g. \"Write a story outline.\" for writing a novel, or (3) with human inputs.\\nAnother quite distinct approach, LLM+P (Liu et al. 2023), involves relying on an external classical planner to do long-horizon planning. This approach utilizes the Planning Domain Definition Language (PDDL) as an intermediate interface to describe the planning problem. In this process, LLM (1) translates the problem into “Problem PDDL”, then (2) requests a classical planner to generate a PDDL plan based on an existing “Domain PDDL”, and finally (3) translates the PDDL plan back into natural language. Essentially, the planning step is outsourced to an external tool, assuming the availability of domain-specific PDDL and a suitable planner which is common in certain robotic setups but not in many other domains.\\nSelf-Reflection#')]}, {'question': 'Q5: In the context of adversarial attacks on text, what is “token manipulation”?', 'document': [Document(id='9b05d418-6caa-4aa6-8f50-fa1a2e875112', metadata={'source': 'https://lilianweng.github.io/posts/2023-06-23-agent/'}, page_content='}\\n]\\nChallenges#\\nAfter going through key ideas and demos of building LLM-centered agents, I start to see a couple common limitations:'), Document(id='fa5b9091-b805-45b1-af77-421eab82124f', metadata={'source': 'https://lilianweng.github.io/posts/2023-06-23-agent/'}, page_content='To avoid overfitting, CoH adds a regularization term to maximize the log-likelihood of the pre-training dataset. To avoid shortcutting and copying (because there are many common words in feedback sequences), they randomly mask 0% - 5% of past tokens during training.\\nThe training dataset in their experiments is a combination of WebGPT comparisons, summarization from human feedback and human preference dataset.'), Document(id='fb5a32fc-291b-4fc6-9844-241456a906ce', metadata={'source': 'https://lilianweng.github.io/posts/2023-06-23-agent/'}, page_content='Finite context length: The restricted context capacity limits the inclusion of historical information, detailed instructions, API call context, and responses. The design of the system has to work with this limited communication bandwidth, while mechanisms like self-reflection to learn from past mistakes would benefit a lot from long or infinite context windows. Although vector stores and retrieval can provide access to a larger knowledge pool, their representation power is not as powerful as full attention.\\n\\n\\nChallenges in long-term planning and task decomposition: Planning over a lengthy history and effectively exploring the solution space remain challenging. LLMs struggle to adjust plans when faced with unexpected errors, making them less robust compared to humans who learn from trial and error.'), Document(id='be008c52-09ce-40c0-a7d8-cc6e32edeedf', metadata={'source': 'https://lilianweng.github.io/posts/2023-06-23-agent/'}, page_content='One interesting observation is that while the LLM-based evaluation concluded that GPT-4 and ChemCrow perform nearly equivalently, human evaluations with experts oriented towards the completion and chemical correctness of the solutions showed that ChemCrow outperforms GPT-4 by a large margin. This indicates a potential problem with using LLM to evaluate its own performance on domains that requires deep expertise. The lack of expertise may cause LLMs not knowing its flaws and thus cannot well judge the correctness of task results.\\nBoiko et al. (2023) also looked into LLM-empowered agents for scientific discovery, to handle autonomous design, planning, and performance of complex scientific experiments. This agent can use tools to browse the Internet, read documentation, execute code, call robotics experimentation APIs and leverage other LLMs.\\nFor example, when requested to \"develop a novel anticancer drug\", the model came up with the following reasoning steps:')]}, {'question': 'Q6: What is the difference between white-box and black-box attacks?', 'document': [Document(id='9b05d418-6caa-4aa6-8f50-fa1a2e875112', metadata={'source': 'https://lilianweng.github.io/posts/2023-06-23-agent/'}, page_content='}\\n]\\nChallenges#\\nAfter going through key ideas and demos of building LLM-centered agents, I start to see a couple common limitations:'), Document(id='b7773d29-5524-4c77-9d32-7895a455f90c', metadata={'source': 'https://lilianweng.github.io/posts/2023-06-23-agent/'}, page_content='Comparison of MIPS algorithms, measured in recall@10. (Image source: Google Blog, 2020)\\n\\nCheck more MIPS algorithms and performance comparison in ann-benchmarks.com.\\nComponent Three: Tool Use#\\nTool use is a remarkable and distinguishing characteristic of human beings. We create, modify and utilize external objects to do things that go beyond our physical and cognitive limits. Equipping LLMs with external tools can significantly extend the model capabilities.\\n\\n\\nA picture of a sea otter using rock to crack open a seashell, while floating in the water. While some other animals can use tools, the complexity is not comparable with humans. (Image source: Animals using tools)'), Document(id='a39acf07-b0a2-4cd3-a892-8302d491e349', metadata={'source': 'https://lilianweng.github.io/posts/2023-06-23-agent/'}, page_content='}\\n]\\nThen after these clarification, the agent moved into the code writing mode with a different system message.\\nSystem message:'), Document(id='fb5a32fc-291b-4fc6-9844-241456a906ce', metadata={'source': 'https://lilianweng.github.io/posts/2023-06-23-agent/'}, page_content='Finite context length: The restricted context capacity limits the inclusion of historical information, detailed instructions, API call context, and responses. The design of the system has to work with this limited communication bandwidth, while mechanisms like self-reflection to learn from past mistakes would benefit a lot from long or infinite context windows. Although vector stores and retrieval can provide access to a larger knowledge pool, their representation power is not as powerful as full attention.\\n\\n\\nChallenges in long-term planning and task decomposition: Planning over a lengthy history and effectively exploring the solution space remain challenging. LLMs struggle to adjust plans when faced with unexpected errors, making them less robust compared to humans who learn from trial and error.')]}]\n",
            "[{'question': 'Q1: What are the major differences between supervised learning and reinforcement learning in training neural networks?', 'document': [Document(id='19501118-c3e6-4122-abbb-9ded12406a43', metadata={'source': 'https://lilianweng.github.io/posts/2023-06-23-agent/'}, page_content='Comparison of AD, ED, source policy and RL^2 on environments that require memory and exploration. Only binary reward is assigned. The source policies are trained with A3C for \"dark\" environments and DQN for watermaze.(Image source: Laskin et al. 2023)\\n\\nComponent Two: Memory#\\n(Big thank you to ChatGPT for helping me draft this section. I’ve learned a lot about the human brain and data structure for fast MIPS in my conversations with ChatGPT.)\\nTypes of Memory#\\nMemory can be defined as the processes used to acquire, store, retain, and later retrieve information. There are several types of memory in human brains.\\n\\n\\nSensory Memory: This is the earliest stage of memory, providing the ability to retain impressions of sensory information (visual, auditory, etc) after the original stimuli have ended. Sensory memory typically only lasts for up to a few seconds. Subcategories include iconic memory (visual), echoic memory (auditory), and haptic memory (touch).'), Document(id='6fe96d6a-6f66-4c2a-97ca-dfbf658d05c8', metadata={'source': 'https://lilianweng.github.io/posts/2023-06-23-agent/'}, page_content='The paper hypothesizes that any algorithm that generates a set of learning histories can be distilled into a neural network by performing behavioral cloning over actions. The history data is generated by a set of source policies, each trained for a specific task. At the training stage, during each RL run, a random task is sampled and a subsequence of multi-episode history is used for training, such that the learned policy is task-agnostic.\\nIn reality, the model has limited context window length, so episodes should be short enough to construct multi-episode history. Multi-episodic contexts of 2-4 episodes are necessary to learn a near-optimal in-context RL algorithm. The emergence of in-context RL requires long enough context.'), Document(id='0b80398b-6756-4953-ac15-129949751555', metadata={'source': 'https://lilianweng.github.io/posts/2023-06-23-agent/'}, page_content='Memory\\n\\nShort-term memory: I would consider all the in-context learning (See Prompt Engineering) as utilizing short-term memory of the model to learn.\\nLong-term memory: This provides the agent with the capability to retain and recall (infinite) information over extended periods, often by leveraging an external vector store and fast retrieval.\\n\\n\\nTool use\\n\\nThe agent learns to call external APIs for extra information that is missing from the model weights (often hard to change after pre-training), including current information, code execution capability, access to proprietary information sources and more.\\n\\n\\n\\n\\n\\nOverview of a LLM-powered autonomous agent system.'), Document(id='04bcfecc-cc78-49a6-be03-a01f5fe49ed3', metadata={'source': 'https://lilianweng.github.io/posts/2023-06-23-agent/'}, page_content='In comparison with three baselines, including ED (expert distillation, behavior cloning with expert trajectories instead of learning history), source policy (used for generating trajectories for distillation by UCB), RL^2 (Duan et al. 2017; used as upper bound since it needs online RL), AD demonstrates in-context RL with performance getting close to RL^2 despite only using offline RL and learns much faster than other baselines. When conditioned on partial training history of the source policy, AD also improves much faster than ED baseline.')]}, {'question': 'Q2: How does the MapReduce programming model work in distributed computing systems?', 'document': [Document(id='2eec878c-80f9-45b1-8e22-602cd1bca770', metadata={'source': 'https://lilianweng.github.io/posts/2023-06-23-agent/'}, page_content='LSH (Locality-Sensitive Hashing): It introduces a hashing function such that similar input items are mapped to the same buckets with high probability, where the number of buckets is much smaller than the number of inputs.\\nANNOY (Approximate Nearest Neighbors Oh Yeah): The core data structure are random projection trees, a set of binary trees where each non-leaf node represents a hyperplane splitting the input space into half and each leaf stores one data point. Trees are built independently and at random, so to some extent, it mimics a hashing function. ANNOY search happens in all the trees to iteratively search through the half that is closest to the query and then aggregates the results. The idea is quite related to KD tree but a lot more scalable.'), Document(id='9b05d418-6caa-4aa6-8f50-fa1a2e875112', metadata={'source': 'https://lilianweng.github.io/posts/2023-06-23-agent/'}, page_content='}\\n]\\nChallenges#\\nAfter going through key ideas and demos of building LLM-centered agents, I start to see a couple common limitations:'), Document(id='a39acf07-b0a2-4cd3-a892-8302d491e349', metadata={'source': 'https://lilianweng.github.io/posts/2023-06-23-agent/'}, page_content='}\\n]\\nThen after these clarification, the agent moved into the code writing mode with a different system message.\\nSystem message:'), Document(id='ffa12f83-4e64-4a96-8f03-90675b778015', metadata={'source': 'https://lilianweng.github.io/posts/2023-06-23-agent/'}, page_content='Task decomposition can be done (1) by LLM with simple prompting like \"Steps for XYZ.\\\\n1.\", \"What are the subgoals for achieving XYZ?\", (2) by using task-specific instructions; e.g. \"Write a story outline.\" for writing a novel, or (3) with human inputs.\\nAnother quite distinct approach, LLM+P (Liu et al. 2023), involves relying on an external classical planner to do long-horizon planning. This approach utilizes the Planning Domain Definition Language (PDDL) as an intermediate interface to describe the planning problem. In this process, LLM (1) translates the problem into “Problem PDDL”, then (2) requests a classical planner to generate a PDDL plan based on an existing “Domain PDDL”, and finally (3) translates the PDDL plan back into natural language. Essentially, the planning step is outsourced to an external tool, assuming the availability of domain-specific PDDL and a suitable planner which is common in certain robotic setups but not in many other domains.\\nSelf-Reflection#')]}, {'question': 'Q3: What are the main challenges in implementing quantum error correction for quantum computers?', 'document': [Document(id='9b05d418-6caa-4aa6-8f50-fa1a2e875112', metadata={'source': 'https://lilianweng.github.io/posts/2023-06-23-agent/'}, page_content='}\\n]\\nChallenges#\\nAfter going through key ideas and demos of building LLM-centered agents, I start to see a couple common limitations:'), Document(id='f7ed1c37-283c-476b-a288-dc9f8071605d', metadata={'source': 'https://lilianweng.github.io/posts/2023-06-23-agent/'}, page_content='Resources:\\n1. Internet access for searches and information gathering.\\n2. Long Term memory management.\\n3. GPT-3.5 powered Agents for delegation of simple tasks.\\n4. File output.\\n\\nPerformance Evaluation:\\n1. Continuously review and analyze your actions to ensure you are performing to the best of your abilities.\\n2. Constructively self-criticize your big-picture behavior constantly.\\n3. Reflect on past decisions and strategies to refine your approach.\\n4. Every command has a cost, so be smart and efficient. Aim to complete tasks in the least number of steps.'), Document(id='fb5a32fc-291b-4fc6-9844-241456a906ce', metadata={'source': 'https://lilianweng.github.io/posts/2023-06-23-agent/'}, page_content='Finite context length: The restricted context capacity limits the inclusion of historical information, detailed instructions, API call context, and responses. The design of the system has to work with this limited communication bandwidth, while mechanisms like self-reflection to learn from past mistakes would benefit a lot from long or infinite context windows. Although vector stores and retrieval can provide access to a larger knowledge pool, their representation power is not as powerful as full attention.\\n\\n\\nChallenges in long-term planning and task decomposition: Planning over a lengthy history and effectively exploring the solution space remain challenging. LLMs struggle to adjust plans when faced with unexpected errors, making them less robust compared to humans who learn from trial and error.'), Document(id='19501118-c3e6-4122-abbb-9ded12406a43', metadata={'source': 'https://lilianweng.github.io/posts/2023-06-23-agent/'}, page_content='Comparison of AD, ED, source policy and RL^2 on environments that require memory and exploration. Only binary reward is assigned. The source policies are trained with A3C for \"dark\" environments and DQN for watermaze.(Image source: Laskin et al. 2023)\\n\\nComponent Two: Memory#\\n(Big thank you to ChatGPT for helping me draft this section. I’ve learned a lot about the human brain and data structure for fast MIPS in my conversations with ChatGPT.)\\nTypes of Memory#\\nMemory can be defined as the processes used to acquire, store, retain, and later retrieve information. There are several types of memory in human brains.\\n\\n\\nSensory Memory: This is the earliest stage of memory, providing the ability to retain impressions of sensory information (visual, auditory, etc) after the original stimuli have ended. Sensory memory typically only lasts for up to a few seconds. Subcategories include iconic memory (visual), echoic memory (auditory), and haptic memory (touch).')]}, {'question': 'Q4: How do convolutional neural networks (CNNs) process image data differently from recurrent neural networks (RNNs)?', 'document': [Document(id='19501118-c3e6-4122-abbb-9ded12406a43', metadata={'source': 'https://lilianweng.github.io/posts/2023-06-23-agent/'}, page_content='Comparison of AD, ED, source policy and RL^2 on environments that require memory and exploration. Only binary reward is assigned. The source policies are trained with A3C for \"dark\" environments and DQN for watermaze.(Image source: Laskin et al. 2023)\\n\\nComponent Two: Memory#\\n(Big thank you to ChatGPT for helping me draft this section. I’ve learned a lot about the human brain and data structure for fast MIPS in my conversations with ChatGPT.)\\nTypes of Memory#\\nMemory can be defined as the processes used to acquire, store, retain, and later retrieve information. There are several types of memory in human brains.\\n\\n\\nSensory Memory: This is the earliest stage of memory, providing the ability to retain impressions of sensory information (visual, auditory, etc) after the original stimuli have ended. Sensory memory typically only lasts for up to a few seconds. Subcategories include iconic memory (visual), echoic memory (auditory), and haptic memory (touch).'), Document(id='6fe96d6a-6f66-4c2a-97ca-dfbf658d05c8', metadata={'source': 'https://lilianweng.github.io/posts/2023-06-23-agent/'}, page_content='The paper hypothesizes that any algorithm that generates a set of learning histories can be distilled into a neural network by performing behavioral cloning over actions. The history data is generated by a set of source policies, each trained for a specific task. At the training stage, during each RL run, a random task is sampled and a subsequence of multi-episode history is used for training, such that the learned policy is task-agnostic.\\nIn reality, the model has limited context window length, so episodes should be short enough to construct multi-episode history. Multi-episodic contexts of 2-4 episodes are necessary to learn a near-optimal in-context RL algorithm. The emergence of in-context RL requires long enough context.'), Document(id='fb5a32fc-291b-4fc6-9844-241456a906ce', metadata={'source': 'https://lilianweng.github.io/posts/2023-06-23-agent/'}, page_content='Finite context length: The restricted context capacity limits the inclusion of historical information, detailed instructions, API call context, and responses. The design of the system has to work with this limited communication bandwidth, while mechanisms like self-reflection to learn from past mistakes would benefit a lot from long or infinite context windows. Although vector stores and retrieval can provide access to a larger knowledge pool, their representation power is not as powerful as full attention.\\n\\n\\nChallenges in long-term planning and task decomposition: Planning over a lengthy history and effectively exploring the solution space remain challenging. LLMs struggle to adjust plans when faced with unexpected errors, making them less robust compared to humans who learn from trial and error.'), Document(id='e1b5837b-174a-43e3-85ce-c6389ba3648e', metadata={'source': 'https://lilianweng.github.io/posts/2023-06-23-agent/'}, page_content='Categorization of human memory.\\n\\nWe can roughly consider the following mappings:\\n\\nSensory memory as learning embedding representations for raw inputs, including text, image or other modalities;\\nShort-term memory as in-context learning. It is short and finite, as it is restricted by the finite context window length of Transformer.\\nLong-term memory as the external vector store that the agent can attend to at query time, accessible via fast retrieval.')]}, {'question': 'Q5: What role does consensus play in blockchain systems, and how do algorithms like Proof-of-Stake differ from Proof-of-Work?', 'document': [Document(id='9b05d418-6caa-4aa6-8f50-fa1a2e875112', metadata={'source': 'https://lilianweng.github.io/posts/2023-06-23-agent/'}, page_content='}\\n]\\nChallenges#\\nAfter going through key ideas and demos of building LLM-centered agents, I start to see a couple common limitations:'), Document(id='f7ed1c37-283c-476b-a288-dc9f8071605d', metadata={'source': 'https://lilianweng.github.io/posts/2023-06-23-agent/'}, page_content='Resources:\\n1. Internet access for searches and information gathering.\\n2. Long Term memory management.\\n3. GPT-3.5 powered Agents for delegation of simple tasks.\\n4. File output.\\n\\nPerformance Evaluation:\\n1. Continuously review and analyze your actions to ensure you are performing to the best of your abilities.\\n2. Constructively self-criticize your big-picture behavior constantly.\\n3. Reflect on past decisions and strategies to refine your approach.\\n4. Every command has a cost, so be smart and efficient. Aim to complete tasks in the least number of steps.'), Document(id='b7773d29-5524-4c77-9d32-7895a455f90c', metadata={'source': 'https://lilianweng.github.io/posts/2023-06-23-agent/'}, page_content='Comparison of MIPS algorithms, measured in recall@10. (Image source: Google Blog, 2020)\\n\\nCheck more MIPS algorithms and performance comparison in ann-benchmarks.com.\\nComponent Three: Tool Use#\\nTool use is a remarkable and distinguishing characteristic of human beings. We create, modify and utilize external objects to do things that go beyond our physical and cognitive limits. Equipping LLMs with external tools can significantly extend the model capabilities.\\n\\n\\nA picture of a sea otter using rock to crack open a seashell, while floating in the water. While some other animals can use tools, the complexity is not comparable with humans. (Image source: Animals using tools)'), Document(id='da7c1d52-2ac4-4832-83cb-491783671b26', metadata={'source': 'https://lilianweng.github.io/posts/2023-06-23-agent/'}, page_content='Component One: Planning#\\nA complicated task usually involves many steps. An agent needs to know what they are and plan ahead.\\nTask Decomposition#\\nChain of thought (CoT; Wei et al. 2022) has become a standard prompting technique for enhancing model performance on complex tasks. The model is instructed to “think step by step” to utilize more test-time computation to decompose hard tasks into smaller and simpler steps. CoT transforms big tasks into multiple manageable tasks and shed lights into an interpretation of the model’s thinking process.\\nTree of Thoughts (Yao et al. 2023) extends CoT by exploring multiple reasoning possibilities at each step. It first decomposes the problem into multiple thought steps and generates multiple thoughts per step, creating a tree structure. The search process can be BFS (breadth-first search) or DFS (depth-first search) with each state evaluated by a classifier (via a prompt) or majority vote.')]}, {'question': 'Q6: What are the key differences between IPv4 and IPv6 in terms of address structure and routing?', 'document': [Document(id='95e62365-4df1-49a3-b6b6-de32f773007e', metadata={'source': 'https://lilianweng.github.io/posts/2023-06-23-agent/'}, page_content='HNSW (Hierarchical Navigable Small World): It is inspired by the idea of small world networks where most nodes can be reached by any other nodes within a small number of steps; e.g. “six degrees of separation” feature of social networks. HNSW builds hierarchical layers of these small-world graphs, where the bottom layers contain the actual data points. The layers in the middle create shortcuts to speed up search. When performing a search, HNSW starts from a random node in the top layer and navigates towards the target. When it can’t get any closer, it moves down to the next layer, until it reaches the bottom layer. Each move in the upper layers can potentially cover a large distance in the data space, and each move in the lower layers refines the search quality.'), Document(id='9b05d418-6caa-4aa6-8f50-fa1a2e875112', metadata={'source': 'https://lilianweng.github.io/posts/2023-06-23-agent/'}, page_content='}\\n]\\nChallenges#\\nAfter going through key ideas and demos of building LLM-centered agents, I start to see a couple common limitations:'), Document(id='fb5a32fc-291b-4fc6-9844-241456a906ce', metadata={'source': 'https://lilianweng.github.io/posts/2023-06-23-agent/'}, page_content='Finite context length: The restricted context capacity limits the inclusion of historical information, detailed instructions, API call context, and responses. The design of the system has to work with this limited communication bandwidth, while mechanisms like self-reflection to learn from past mistakes would benefit a lot from long or infinite context windows. Although vector stores and retrieval can provide access to a larger knowledge pool, their representation power is not as powerful as full attention.\\n\\n\\nChallenges in long-term planning and task decomposition: Planning over a lengthy history and effectively exploring the solution space remain challenging. LLMs struggle to adjust plans when faced with unexpected errors, making them less robust compared to humans who learn from trial and error.'), Document(id='19501118-c3e6-4122-abbb-9ded12406a43', metadata={'source': 'https://lilianweng.github.io/posts/2023-06-23-agent/'}, page_content='Comparison of AD, ED, source policy and RL^2 on environments that require memory and exploration. Only binary reward is assigned. The source policies are trained with A3C for \"dark\" environments and DQN for watermaze.(Image source: Laskin et al. 2023)\\n\\nComponent Two: Memory#\\n(Big thank you to ChatGPT for helping me draft this section. I’ve learned a lot about the human brain and data structure for fast MIPS in my conversations with ChatGPT.)\\nTypes of Memory#\\nMemory can be defined as the processes used to acquire, store, retain, and later retrieve information. There are several types of memory in human brains.\\n\\n\\nSensory Memory: This is the earliest stage of memory, providing the ability to retain impressions of sensory information (visual, auditory, etc) after the original stimuli have ended. Sensory memory typically only lasts for up to a few seconds. Subcategories include iconic memory (visual), echoic memory (auditory), and haptic memory (touch).')]}]\n"
          ]
        }
      ]
    },
    {
      "cell_type": "code",
      "source": [
        "for yes_dict in yes_dicts:\n",
        "  print(relevantChecker(yes_dict))"
      ],
      "metadata": {
        "colab": {
          "base_uri": "https://localhost:8080/"
        },
        "id": "E7HuvGjkI19U",
        "outputId": "ec2930e0-91c9-40f3-81c6-f0598ad436f9"
      },
      "execution_count": 95,
      "outputs": [
        {
          "output_type": "stream",
          "name": "stdout",
          "text": [
            "{'relevance': 'yes'}\n",
            "{'relevance': 'yes'}\n",
            "{'relevance': 'yes'}\n",
            "{'relevance': 'yes'}\n",
            "{'relevance': 'yes'}\n",
            "{'relevance': 'yes'}\n"
          ]
        }
      ]
    },
    {
      "cell_type": "code",
      "source": [
        "for no_dict in no_dicts:\n",
        "  print(relevantChecker(no_dict))"
      ],
      "metadata": {
        "colab": {
          "base_uri": "https://localhost:8080/"
        },
        "id": "utgIE-9QJMHJ",
        "outputId": "10411264-c872-4ce1-f424-61a84f94d0d4"
      },
      "execution_count": 96,
      "outputs": [
        {
          "output_type": "stream",
          "name": "stdout",
          "text": [
            "{'relevance': 'no'}\n",
            "{'relevance': 'no'}\n",
            "{'relevance': 'no'}\n",
            "{'relevance': 'no'}\n",
            "{'relevance': 'no'}\n",
            "{'relevance': 'no'}\n"
          ]
        }
      ]
    },
    {
      "cell_type": "markdown",
      "source": [
        "7. 6에서 케이스별로 의도한 결과 ('yes' 또는 'no' )와 일치하는 답변이 나오는지 확인해보세요.\n",
        " 정답대로 나오지 않는다면 문제를 찾아 디버깅해보세요. (Splitter, Chunk size, overlap, embedding model, vector store, retrieval 평가 시스템 프롬프트 등) 디버깅이 어려운 경우,  강사/조교에게 질문해주세요."
      ],
      "metadata": {
        "id": "oIDNNBe9q4-Q"
      }
    },
    {
      "cell_type": "markdown",
      "source": [
        "8. 6-7 의 평가에서 문제가 없다면, 5에서 작성한 코드의 실행 결과가 'yes' 인 경우, 4의 retrieved chunk 를 가지고 답변하는 chain 코드를 작성해주세요. (prompt | llm | parser 형태의 코드)"
      ],
      "metadata": {
        "id": "-oCGlWIFrBYr"
      }
    },
    {
      "cell_type": "code",
      "source": [
        "# 8 을 수행하기 위한 참고 코드\n",
        "from langchain_core.output_parsers import StrOutputParser\n",
        "from langchain_core.runnables import RunnablePassthrough\n",
        "\n",
        "def format_docs(docs):\n",
        "    return \"\\n\\n\".join(doc.page_content for doc in docs)\n",
        "\n",
        "rag_chain = (\n",
        "    {\"context\": retriever | format_docs, \"question\": RunnablePassthrough()}\n",
        "    | prompt\n",
        "    | llm\n",
        "    | StrOutputParser()\n",
        ")\n",
        "\n",
        "for chunk in rag_chain.stream(\"What is Task Decomposition?\"):\n",
        "    print(chunk, end=\"\", flush=True)"
      ],
      "metadata": {
        "id": "xGhPcEHK5Swh",
        "colab": {
          "base_uri": "https://localhost:8080/"
        },
        "outputId": "b8c78314-b3c4-4334-9a6e-dc9127eea781"
      },
      "execution_count": null,
      "outputs": [
        {
          "output_type": "stream",
          "name": "stdout",
          "text": [
            "Task decomposition is the process of breaking down a complex task into smaller, more manageable sub-tasks or steps. This can be achieved through methods like prompting an LLM for steps, using task-specific instructions, or incorporating human input. Techniques such as Chain of Thought and Tree of Thoughts further enhance this process by structuring reasoning and exploring multiple possibilities."
          ]
        }
      ]
    },
    {
      "cell_type": "markdown",
      "source": [
        "9. 생성된 답안에 Hallucination 이 있는지 평가하는 시스템 프롬프트를 작성해보세요. LLM이 스스로 평가하도록 하고, hallucination 이 있으면 {‘hallucination’: ‘yes’} 없으면 {‘hallucination’: ‘no’} 라고 출력하도록 하세요."
      ],
      "metadata": {
        "id": "leyezJ_hrBb2"
      }
    },
    {
      "cell_type": "code",
      "source": [
        "from langchain_core.output_parsers import JsonOutputParser\n",
        "from langchain_core.prompts import PromptTemplate\n",
        "\n",
        "def hallucinationChecker(inputs: dict):\n",
        "  parser = JsonOutputParser()\n",
        "\n",
        "  prompt = PromptTemplate(\n",
        "      template=\"\"\"\n",
        "  You are a rigorous fact-checker.\n",
        "\n",
        "  Task:\n",
        "  Evaluate whether the model's answer contains hallucinations with respect to the provided context.\n",
        "\n",
        "  Definition:\n",
        "  - A \"hallucination\" is any claim in the answer that is (a) contradicted by the context, or (b) not supported by the context while being presented as fact (fabricated entities, numbers, citations, or unverifiable specifics).\n",
        "\n",
        "  Decision rules:\n",
        "  1) Read the question, the context, and the answer carefully.\n",
        "  2) If ANY key claim in the answer is unsupported or contradicted by the context → output {{\"hallucination\": \"yes\"}}.\n",
        "  3) If all factual claims in the answer are supported by the context (or the answer clearly says there isn't enough info) → output {{\"hallucination\": \"no\"}}.\n",
        "  4) If the context is unrelated or empty but the answer still asserts specifics as facts → output {{\"hallucination\": \"yes\"}}.\n",
        "\n",
        "  Output format:\n",
        "  - Respond ONLY with exactly one of the following JSON objects:\n",
        "    - {{\"hallucination\": \"yes\"}}\n",
        "    - {{\"hallucination\": \"no\"}}\n",
        "\n",
        "  {format_instructions}\n",
        "  question: {question}\n",
        "  context: {document}\n",
        "  answer: {answer}\n",
        "  \"\"\",\n",
        "    input_variables=[\"question\", \"document\", \"answer\"],\n",
        "    partial_variables={\"format_instructions\": parser.get_format_instructions()},\n",
        "  )\n",
        "\n",
        "  chain = prompt | llm | parser\n",
        "  return chain.invoke(inputs)"
      ],
      "metadata": {
        "id": "E09KZ3WEPsLE"
      },
      "execution_count": 100,
      "outputs": []
    },
    {
      "cell_type": "code",
      "source": [
        "no_dicts = []\n",
        "for question in yes_questions:\n",
        "  no_dicts.append({\"question\": question, \"document\": retriever.invoke(question), \"answer\": \"no\"})\n",
        "yes_dicts = []\n",
        "for question in no_questions:\n",
        "  yes_dicts.append({\"question\": question, \"document\": retriever.invoke(question), \"answer\": \"yes\"})"
      ],
      "metadata": {
        "id": "_fIHVzTPQLTC"
      },
      "execution_count": 102,
      "outputs": []
    },
    {
      "cell_type": "code",
      "source": [
        "print(yes_dicts)\n",
        "print(no_dicts)"
      ],
      "metadata": {
        "colab": {
          "base_uri": "https://localhost:8080/"
        },
        "id": "tliBlrdvRWik",
        "outputId": "63dbc7b6-dc1d-4a60-d44d-dcf5ceb097c0"
      },
      "execution_count": 104,
      "outputs": [
        {
          "output_type": "stream",
          "name": "stdout",
          "text": [
            "[{'question': 'Q1: What are the major differences between supervised learning and reinforcement learning in training neural networks?', 'document': [Document(id='20ca4ddd-dfe0-45d7-9f20-f5ef4d1b14c8', metadata={'language': 'en', 'description': 'The use of large language models in the real world has strongly accelerated by the launch of ChatGPT. We (including my team at OpenAI, shoutout to them) have invested a lot of effort to build default safe behavior into the model during the alignment process (e.g. via RLHF). However, adversarial attacks or jailbreak prompts could potentially trigger the model to output something undesired.\\nA large body of ground work on adversarial attacks is on images, and differently it operates in the continuous, high-dimensional space. Attacks for discrete data like text have been considered to be a lot more challenging, due to lack of direct gradient signals. My past post on Controllable Text Generation is quite relevant to this topic, as attacking LLMs is essentially to control the model to output a certain type of (unsafe) content.', 'source': 'https://lilianweng.github.io/posts/2023-10-25-adv-attack-llm/', 'title': \"Adversarial Attacks on LLMs | Lil'Log\"}, page_content='supervised learning (SL), BAD dataset, RL (A2C with different KL penalties). Each node is colored'), Document(id='2a42d8a0-5fee-413a-a2fa-0d2b972d146a', metadata={'source': 'https://lilianweng.github.io/posts/2023-06-23-agent/', 'description': 'Building agents with LLM (large language model) as its core controller is a cool concept. Several proof-of-concepts demos, such as AutoGPT, GPT-Engineer and BabyAGI, serve as inspiring examples. The potentiality of LLM extends beyond generating well-written copies, stories, essays and programs; it can be framed as a powerful general problem solver.\\nAgent System Overview\\nIn a LLM-powered autonomous agent system, LLM functions as the agent’s brain, complemented by several key components:\\n\\nPlanning\\n\\nSubgoal and decomposition: The agent breaks down large tasks into smaller, manageable subgoals, enabling efficient handling of complex tasks.\\nReflection and refinement: The agent can do self-criticism and self-reflection over past actions, learn from mistakes and refine them for future steps, thereby improving the quality of final results.\\n\\n\\nMemory\\n\\nShort-term memory: I would consider all the in-context learning (See Prompt Engineering) as utilizing short-term memory of the model to learn.\\nLong-term memory: This provides the agent with the capability to retain and recall (infinite) information over extended periods, often by leveraging an external vector store and fast retrieval.\\n\\n\\nTool use\\n\\nThe agent learns to call external APIs for extra information that is missing from the model weights (often hard to change after pre-training), including current information, code execution capability, access to proprietary information sources and more.\\n\\n\\n\\n\\n\\t\\n\\tOverview of a LLM-powered autonomous agent system.\\n\\nComponent One: Planning\\nA complicated task usually involves many steps. An agent needs to know what they are and plan ahead.', 'language': 'en', 'title': \"LLM Powered Autonomous Agents | Lil'Log\"}, page_content='The goal is to learn the process of RL instead of training a task-specific policy itself.'), Document(id='79d85b5a-891d-4e91-a822-f8b62aae8efa', metadata={'source': 'https://lilianweng.github.io/posts/2023-10-25-adv-attack-llm/', 'title': \"Adversarial Attacks on LLMs | Lil'Log\", 'language': 'en', 'description': 'The use of large language models in the real world has strongly accelerated by the launch of ChatGPT. We (including my team at OpenAI, shoutout to them) have invested a lot of effort to build default safe behavior into the model during the alignment process (e.g. via RLHF). However, adversarial attacks or jailbreak prompts could potentially trigger the model to output something undesired.\\nA large body of ground work on adversarial attacks is on images, and differently it operates in the continuous, high-dimensional space. Attacks for discrete data like text have been considered to be a lot more challenging, due to lack of direct gradient signals. My past post on Controllable Text Generation is quite relevant to this topic, as attacking LLMs is essentially to control the model to output a certain type of (unsafe) content.'}, page_content='Reinforcement learning: Because the sampling steps are non-differentiable, a standard RL'), Document(id='f4c775b4-490a-490c-8ba2-c4947d0ac3df', metadata={'source': 'https://lilianweng.github.io/posts/2023-03-15-prompt-engineering/', 'language': 'en', 'description': 'Prompt Engineering, also known as In-Context Prompting, refers to methods for how to communicate with LLM to steer its behavior for desired outcomes without updating the model weights. It is an empirical science and the effect of prompt engineering methods can vary a lot among models, thus requiring heavy experimentation and heuristics.\\nThis post only focuses on prompt engineering for autoregressive language models, so nothing with Cloze tests, image generation or multimodality models. At its core, the goal of prompt engineering is about alignment and model steerability. Check my previous post on controllable text generation.', 'title': \"Prompt Engineering | Lil'Log\"}, page_content='where LM is the policy network and it is trained by policy gradient with a binary reward signal.')], 'answer': 'yes'}, {'question': 'Q2: How does the MapReduce programming model work in distributed computing systems?', 'document': [Document(id='f4592b16-0355-4642-9785-42dc4f9505bf', metadata={'title': \"LLM Powered Autonomous Agents | Lil'Log\", 'language': 'en', 'source': 'https://lilianweng.github.io/posts/2023-06-23-agent/', 'description': 'Building agents with LLM (large language model) as its core controller is a cool concept. Several proof-of-concepts demos, such as AutoGPT, GPT-Engineer and BabyAGI, serve as inspiring examples. The potentiality of LLM extends beyond generating well-written copies, stories, essays and programs; it can be framed as a powerful general problem solver.\\nAgent System Overview\\nIn a LLM-powered autonomous agent system, LLM functions as the agent’s brain, complemented by several key components:\\n\\nPlanning\\n\\nSubgoal and decomposition: The agent breaks down large tasks into smaller, manageable subgoals, enabling efficient handling of complex tasks.\\nReflection and refinement: The agent can do self-criticism and self-reflection over past actions, learn from mistakes and refine them for future steps, thereby improving the quality of final results.\\n\\n\\nMemory\\n\\nShort-term memory: I would consider all the in-context learning (See Prompt Engineering) as utilizing short-term memory of the model to learn.\\nLong-term memory: This provides the agent with the capability to retain and recall (infinite) information over extended periods, often by leveraging an external vector store and fast retrieval.\\n\\n\\nTool use\\n\\nThe agent learns to call external APIs for extra information that is missing from the model weights (often hard to change after pre-training), including current information, code execution capability, access to proprietary information sources and more.\\n\\n\\n\\n\\n\\t\\n\\tOverview of a LLM-powered autonomous agent system.\\n\\nComponent One: Planning\\nA complicated task usually involves many steps. An agent needs to know what they are and plan ahead.'}, page_content='(2) Model selection: LLM distributes the tasks to expert models, where the request is framed as a'), Document(id='bc942bfc-da0b-4ae0-bb84-3d93af605db9', metadata={'source': 'https://lilianweng.github.io/posts/2023-06-23-agent/', 'title': \"LLM Powered Autonomous Agents | Lil'Log\", 'language': 'en', 'description': 'Building agents with LLM (large language model) as its core controller is a cool concept. Several proof-of-concepts demos, such as AutoGPT, GPT-Engineer and BabyAGI, serve as inspiring examples. The potentiality of LLM extends beyond generating well-written copies, stories, essays and programs; it can be framed as a powerful general problem solver.\\nAgent System Overview\\nIn a LLM-powered autonomous agent system, LLM functions as the agent’s brain, complemented by several key components:\\n\\nPlanning\\n\\nSubgoal and decomposition: The agent breaks down large tasks into smaller, manageable subgoals, enabling efficient handling of complex tasks.\\nReflection and refinement: The agent can do self-criticism and self-reflection over past actions, learn from mistakes and refine them for future steps, thereby improving the quality of final results.\\n\\n\\nMemory\\n\\nShort-term memory: I would consider all the in-context learning (See Prompt Engineering) as utilizing short-term memory of the model to learn.\\nLong-term memory: This provides the agent with the capability to retain and recall (infinite) information over extended periods, often by leveraging an external vector store and fast retrieval.\\n\\n\\nTool use\\n\\nThe agent learns to call external APIs for extra information that is missing from the model weights (often hard to change after pre-training), including current information, code execution capability, access to proprietary information sources and more.\\n\\n\\n\\n\\n\\t\\n\\tOverview of a LLM-powered autonomous agent system.\\n\\nComponent One: Planning\\nA complicated task usually involves many steps. An agent needs to know what they are and plan ahead.'}, page_content='the half that is closest to the query and then aggregates the results. The idea is quite related to'), Document(id='7f4a350a-8a10-43c0-b13a-73b91c86b7f4', metadata={'description': 'Building agents with LLM (large language model) as its core controller is a cool concept. Several proof-of-concepts demos, such as AutoGPT, GPT-Engineer and BabyAGI, serve as inspiring examples. The potentiality of LLM extends beyond generating well-written copies, stories, essays and programs; it can be framed as a powerful general problem solver.\\nAgent System Overview\\nIn a LLM-powered autonomous agent system, LLM functions as the agent’s brain, complemented by several key components:\\n\\nPlanning\\n\\nSubgoal and decomposition: The agent breaks down large tasks into smaller, manageable subgoals, enabling efficient handling of complex tasks.\\nReflection and refinement: The agent can do self-criticism and self-reflection over past actions, learn from mistakes and refine them for future steps, thereby improving the quality of final results.\\n\\n\\nMemory\\n\\nShort-term memory: I would consider all the in-context learning (See Prompt Engineering) as utilizing short-term memory of the model to learn.\\nLong-term memory: This provides the agent with the capability to retain and recall (infinite) information over extended periods, often by leveraging an external vector store and fast retrieval.\\n\\n\\nTool use\\n\\nThe agent learns to call external APIs for extra information that is missing from the model weights (often hard to change after pre-training), including current information, code execution capability, access to proprietary information sources and more.\\n\\n\\n\\n\\n\\t\\n\\tOverview of a LLM-powered autonomous agent system.\\n\\nComponent One: Planning\\nA complicated task usually involves many steps. An agent needs to know what they are and plan ahead.', 'source': 'https://lilianweng.github.io/posts/2023-06-23-agent/', 'title': \"LLM Powered Autonomous Agents | Lil'Log\", 'language': 'en'}, page_content='(1) Task planning: LLM works as the brain and parses the user requests into multiple tasks. There'), Document(id='be484ccb-61b7-414e-babd-37951879224a', metadata={'source': 'https://lilianweng.github.io/posts/2023-06-23-agent/', 'description': 'Building agents with LLM (large language model) as its core controller is a cool concept. Several proof-of-concepts demos, such as AutoGPT, GPT-Engineer and BabyAGI, serve as inspiring examples. The potentiality of LLM extends beyond generating well-written copies, stories, essays and programs; it can be framed as a powerful general problem solver.\\nAgent System Overview\\nIn a LLM-powered autonomous agent system, LLM functions as the agent’s brain, complemented by several key components:\\n\\nPlanning\\n\\nSubgoal and decomposition: The agent breaks down large tasks into smaller, manageable subgoals, enabling efficient handling of complex tasks.\\nReflection and refinement: The agent can do self-criticism and self-reflection over past actions, learn from mistakes and refine them for future steps, thereby improving the quality of final results.\\n\\n\\nMemory\\n\\nShort-term memory: I would consider all the in-context learning (See Prompt Engineering) as utilizing short-term memory of the model to learn.\\nLong-term memory: This provides the agent with the capability to retain and recall (infinite) information over extended periods, often by leveraging an external vector store and fast retrieval.\\n\\n\\nTool use\\n\\nThe agent learns to call external APIs for extra information that is missing from the model weights (often hard to change after pre-training), including current information, code execution capability, access to proprietary information sources and more.\\n\\n\\n\\n\\n\\t\\n\\tOverview of a LLM-powered autonomous agent system.\\n\\nComponent One: Planning\\nA complicated task usually involves many steps. An agent needs to know what they are and plan ahead.', 'title': \"LLM Powered Autonomous Agents | Lil'Log\", 'language': 'en'}, page_content='(3) Task execution: Expert models execute on the specific tasks and log results.\\nInstruction:')], 'answer': 'yes'}, {'question': 'Q3: What are the main challenges in implementing quantum error correction for quantum computers?', 'document': [Document(id='4141533c-8e3d-4538-ba9e-b593ee162814', metadata={'language': 'en', 'description': 'Building agents with LLM (large language model) as its core controller is a cool concept. Several proof-of-concepts demos, such as AutoGPT, GPT-Engineer and BabyAGI, serve as inspiring examples. The potentiality of LLM extends beyond generating well-written copies, stories, essays and programs; it can be framed as a powerful general problem solver.\\nAgent System Overview\\nIn a LLM-powered autonomous agent system, LLM functions as the agent’s brain, complemented by several key components:\\n\\nPlanning\\n\\nSubgoal and decomposition: The agent breaks down large tasks into smaller, manageable subgoals, enabling efficient handling of complex tasks.\\nReflection and refinement: The agent can do self-criticism and self-reflection over past actions, learn from mistakes and refine them for future steps, thereby improving the quality of final results.\\n\\n\\nMemory\\n\\nShort-term memory: I would consider all the in-context learning (See Prompt Engineering) as utilizing short-term memory of the model to learn.\\nLong-term memory: This provides the agent with the capability to retain and recall (infinite) information over extended periods, often by leveraging an external vector store and fast retrieval.\\n\\n\\nTool use\\n\\nThe agent learns to call external APIs for extra information that is missing from the model weights (often hard to change after pre-training), including current information, code execution capability, access to proprietary information sources and more.\\n\\n\\n\\n\\n\\t\\n\\tOverview of a LLM-powered autonomous agent system.\\n\\nComponent One: Planning\\nA complicated task usually involves many steps. An agent needs to know what they are and plan ahead.', 'title': \"LLM Powered Autonomous Agents | Lil'Log\", 'source': 'https://lilianweng.github.io/posts/2023-06-23-agent/'}, page_content='}\\n]\\nChallenges#'), Document(id='38031141-5d71-4b7f-8550-ff088e8a3fb7', metadata={'title': \"LLM Powered Autonomous Agents | Lil'Log\", 'language': 'en', 'source': 'https://lilianweng.github.io/posts/2023-06-23-agent/', 'description': 'Building agents with LLM (large language model) as its core controller is a cool concept. Several proof-of-concepts demos, such as AutoGPT, GPT-Engineer and BabyAGI, serve as inspiring examples. The potentiality of LLM extends beyond generating well-written copies, stories, essays and programs; it can be framed as a powerful general problem solver.\\nAgent System Overview\\nIn a LLM-powered autonomous agent system, LLM functions as the agent’s brain, complemented by several key components:\\n\\nPlanning\\n\\nSubgoal and decomposition: The agent breaks down large tasks into smaller, manageable subgoals, enabling efficient handling of complex tasks.\\nReflection and refinement: The agent can do self-criticism and self-reflection over past actions, learn from mistakes and refine them for future steps, thereby improving the quality of final results.\\n\\n\\nMemory\\n\\nShort-term memory: I would consider all the in-context learning (See Prompt Engineering) as utilizing short-term memory of the model to learn.\\nLong-term memory: This provides the agent with the capability to retain and recall (infinite) information over extended periods, often by leveraging an external vector store and fast retrieval.\\n\\n\\nTool use\\n\\nThe agent learns to call external APIs for extra information that is missing from the model weights (often hard to change after pre-training), including current information, code execution capability, access to proprietary information sources and more.\\n\\n\\n\\n\\n\\t\\n\\tOverview of a LLM-powered autonomous agent system.\\n\\nComponent One: Planning\\nA complicated task usually involves many steps. An agent needs to know what they are and plan ahead.'}, page_content='To put HuggingGPT into real world usage, a couple challenges need to solve: (1) Efficiency'), Document(id='e2ac4c78-0e5e-454d-8e63-e77e011bd97f', metadata={'source': 'https://lilianweng.github.io/posts/2023-06-23-agent/', 'language': 'en', 'description': 'Building agents with LLM (large language model) as its core controller is a cool concept. Several proof-of-concepts demos, such as AutoGPT, GPT-Engineer and BabyAGI, serve as inspiring examples. The potentiality of LLM extends beyond generating well-written copies, stories, essays and programs; it can be framed as a powerful general problem solver.\\nAgent System Overview\\nIn a LLM-powered autonomous agent system, LLM functions as the agent’s brain, complemented by several key components:\\n\\nPlanning\\n\\nSubgoal and decomposition: The agent breaks down large tasks into smaller, manageable subgoals, enabling efficient handling of complex tasks.\\nReflection and refinement: The agent can do self-criticism and self-reflection over past actions, learn from mistakes and refine them for future steps, thereby improving the quality of final results.\\n\\n\\nMemory\\n\\nShort-term memory: I would consider all the in-context learning (See Prompt Engineering) as utilizing short-term memory of the model to learn.\\nLong-term memory: This provides the agent with the capability to retain and recall (infinite) information over extended periods, often by leveraging an external vector store and fast retrieval.\\n\\n\\nTool use\\n\\nThe agent learns to call external APIs for extra information that is missing from the model weights (often hard to change after pre-training), including current information, code execution capability, access to proprietary information sources and more.\\n\\n\\n\\n\\n\\t\\n\\tOverview of a LLM-powered autonomous agent system.\\n\\nComponent One: Planning\\nA complicated task usually involves many steps. An agent needs to know what they are and plan ahead.', 'title': \"LLM Powered Autonomous Agents | Lil'Log\"}, page_content='Challenges\\n\\nCitation\\n\\nReferences'), Document(id='336e57ac-83cd-4192-8802-99b1f5d408d6', metadata={'language': 'en', 'description': 'Prompt Engineering, also known as In-Context Prompting, refers to methods for how to communicate with LLM to steer its behavior for desired outcomes without updating the model weights. It is an empirical science and the effect of prompt engineering methods can vary a lot among models, thus requiring heavy experimentation and heuristics.\\nThis post only focuses on prompt engineering for autoregressive language models, so nothing with Cloze tests, image generation or multimodality models. At its core, the goal of prompt engineering is about alignment and model steerability. Check my previous post on controllable text generation.', 'source': 'https://lilianweng.github.io/posts/2023-03-15-prompt-engineering/', 'title': \"Prompt Engineering | Lil'Log\"}, page_content='use would not be trivial to set up. Also non-trivial to align the whole research community to adopt')], 'answer': 'yes'}, {'question': 'Q4: How do convolutional neural networks (CNNs) process image data differently from recurrent neural networks (RNNs)?', 'document': [Document(id='026704f3-1e5d-427b-a650-37d66f456267', metadata={'title': \"Adversarial Attacks on LLMs | Lil'Log\", 'language': 'en', 'source': 'https://lilianweng.github.io/posts/2023-10-25-adv-attack-llm/', 'description': 'The use of large language models in the real world has strongly accelerated by the launch of ChatGPT. We (including my team at OpenAI, shoutout to them) have invested a lot of effort to build default safe behavior into the model during the alignment process (e.g. via RLHF). However, adversarial attacks or jailbreak prompts could potentially trigger the model to output something undesired.\\nA large body of ground work on adversarial attacks is on images, and differently it operates in the continuous, high-dimensional space. Attacks for discrete data like text have been considered to be a lot more challenging, due to lack of direct gradient signals. My past post on Controllable Text Generation is quite relevant to this topic, as attacking LLMs is essentially to control the model to output a certain type of (unsafe) content.'}, page_content='- In text-to-image experiment, they used Q16 (Schramowski et al. 2022) and NudeNet'), Document(id='c0874d30-4879-4b51-800e-b9e90b92ad29', metadata={'title': \"Prompt Engineering | Lil'Log\", 'description': 'Prompt Engineering, also known as In-Context Prompting, refers to methods for how to communicate with LLM to steer its behavior for desired outcomes without updating the model weights. It is an empirical science and the effect of prompt engineering methods can vary a lot among models, thus requiring heavy experimentation and heuristics.\\nThis post only focuses on prompt engineering for autoregressive language models, so nothing with Cloze tests, image generation or multimodality models. At its core, the goal of prompt engineering is about alignment and model steerability. Check my previous post on controllable text generation.', 'source': 'https://lilianweng.github.io/posts/2023-03-15-prompt-engineering/', 'language': 'en'}, page_content='How dataset is annotated to do API calls.(Image source: Schick et al. 2023).'), Document(id='3655d6bd-aad3-4e23-ae6e-578d36069b85', metadata={'language': 'en', 'description': 'Building agents with LLM (large language model) as its core controller is a cool concept. Several proof-of-concepts demos, such as AutoGPT, GPT-Engineer and BabyAGI, serve as inspiring examples. The potentiality of LLM extends beyond generating well-written copies, stories, essays and programs; it can be framed as a powerful general problem solver.\\nAgent System Overview\\nIn a LLM-powered autonomous agent system, LLM functions as the agent’s brain, complemented by several key components:\\n\\nPlanning\\n\\nSubgoal and decomposition: The agent breaks down large tasks into smaller, manageable subgoals, enabling efficient handling of complex tasks.\\nReflection and refinement: The agent can do self-criticism and self-reflection over past actions, learn from mistakes and refine them for future steps, thereby improving the quality of final results.\\n\\n\\nMemory\\n\\nShort-term memory: I would consider all the in-context learning (See Prompt Engineering) as utilizing short-term memory of the model to learn.\\nLong-term memory: This provides the agent with the capability to retain and recall (infinite) information over extended periods, often by leveraging an external vector store and fast retrieval.\\n\\n\\nTool use\\n\\nThe agent learns to call external APIs for extra information that is missing from the model weights (often hard to change after pre-training), including current information, code execution capability, access to proprietary information sources and more.\\n\\n\\n\\n\\n\\t\\n\\tOverview of a LLM-powered autonomous agent system.\\n\\nComponent One: Planning\\nA complicated task usually involves many steps. An agent needs to know what they are and plan ahead.', 'title': \"LLM Powered Autonomous Agents | Lil'Log\", 'source': 'https://lilianweng.github.io/posts/2023-06-23-agent/'}, page_content='with A3C for \"dark\" environments and DQN for watermaze.(Image source: Laskin et al. 2023)'), Document(id='d4791874-0344-4e75-8c00-63dd1784641c', metadata={'title': \"Adversarial Attacks on LLMs | Lil'Log\", 'language': 'en', 'source': 'https://lilianweng.github.io/posts/2023-10-25-adv-attack-llm/', 'description': 'The use of large language models in the real world has strongly accelerated by the launch of ChatGPT. We (including my team at OpenAI, shoutout to them) have invested a lot of effort to build default safe behavior into the model during the alignment process (e.g. via RLHF). However, adversarial attacks or jailbreak prompts could potentially trigger the model to output something undesired.\\nA large body of ground work on adversarial attacks is on images, and differently it operates in the continuous, high-dimensional space. Attacks for discrete data like text have been considered to be a lot more challenging, due to lack of direct gradient signals. My past post on Controllable Text Generation is quite relevant to this topic, as attacking LLMs is essentially to control the model to output a certain type of (unsafe) content.'}, page_content='A large body of ground work on adversarial attacks is on images, and differently it operates in the')], 'answer': 'yes'}, {'question': 'Q5: What role does consensus play in blockchain systems, and how do algorithms like Proof-of-Stake differ from Proof-of-Work?', 'document': [Document(id='8ad6eb4c-182d-45ad-b9fc-dd6bbf528493', metadata={'language': 'en', 'title': \"LLM Powered Autonomous Agents | Lil'Log\", 'description': 'Building agents with LLM (large language model) as its core controller is a cool concept. Several proof-of-concepts demos, such as AutoGPT, GPT-Engineer and BabyAGI, serve as inspiring examples. The potentiality of LLM extends beyond generating well-written copies, stories, essays and programs; it can be framed as a powerful general problem solver.\\nAgent System Overview\\nIn a LLM-powered autonomous agent system, LLM functions as the agent’s brain, complemented by several key components:\\n\\nPlanning\\n\\nSubgoal and decomposition: The agent breaks down large tasks into smaller, manageable subgoals, enabling efficient handling of complex tasks.\\nReflection and refinement: The agent can do self-criticism and self-reflection over past actions, learn from mistakes and refine them for future steps, thereby improving the quality of final results.\\n\\n\\nMemory\\n\\nShort-term memory: I would consider all the in-context learning (See Prompt Engineering) as utilizing short-term memory of the model to learn.\\nLong-term memory: This provides the agent with the capability to retain and recall (infinite) information over extended periods, often by leveraging an external vector store and fast retrieval.\\n\\n\\nTool use\\n\\nThe agent learns to call external APIs for extra information that is missing from the model weights (often hard to change after pre-training), including current information, code execution capability, access to proprietary information sources and more.\\n\\n\\n\\n\\n\\t\\n\\tOverview of a LLM-powered autonomous agent system.\\n\\nComponent One: Planning\\nA complicated task usually involves many steps. An agent needs to know what they are and plan ahead.', 'source': 'https://lilianweng.github.io/posts/2023-06-23-agent/'}, page_content='Proof-of-Concept Examples#'), Document(id='fc329f26-8ba6-4bef-977a-3183198ac8ff', metadata={'source': 'https://lilianweng.github.io/posts/2023-03-15-prompt-engineering/', 'title': \"Prompt Engineering | Lil'Log\", 'language': 'en', 'description': 'Prompt Engineering, also known as In-Context Prompting, refers to methods for how to communicate with LLM to steer its behavior for desired outcomes without updating the model weights. It is an empirical science and the effect of prompt engineering methods can vary a lot among models, thus requiring heavy experimentation and heuristics.\\nThis post only focuses on prompt engineering for autoregressive language models, so nothing with Cloze tests, image generation or multimodality models. At its core, the goal of prompt engineering is about alignment and model steerability. Check my previous post on controllable text generation.'}, page_content='of diverse answers and then taking the majority vote. (Wang et al. 2022a)'), Document(id='8340733f-ce0d-442f-9411-4a882cad46da', metadata={'description': 'Prompt Engineering, also known as In-Context Prompting, refers to methods for how to communicate with LLM to steer its behavior for desired outcomes without updating the model weights. It is an empirical science and the effect of prompt engineering methods can vary a lot among models, thus requiring heavy experimentation and heuristics.\\nThis post only focuses on prompt engineering for autoregressive language models, so nothing with Cloze tests, image generation or multimodality models. At its core, the goal of prompt engineering is about alignment and model steerability. Check my previous post on controllable text generation.', 'source': 'https://lilianweng.github.io/posts/2023-03-15-prompt-engineering/', 'title': \"Prompt Engineering | Lil'Log\", 'language': 'en'}, page_content='Comparing CoT and PoT. (Image source: Chen et al. 2022).'), Document(id='ec736fb0-aafb-4b0c-b089-dc2059676077', metadata={'source': 'https://lilianweng.github.io/posts/2023-03-15-prompt-engineering/', 'description': 'Prompt Engineering, also known as In-Context Prompting, refers to methods for how to communicate with LLM to steer its behavior for desired outcomes without updating the model weights. It is an empirical science and the effect of prompt engineering methods can vary a lot among models, thus requiring heavy experimentation and heuristics.\\nThis post only focuses on prompt engineering for autoregressive language models, so nothing with Cloze tests, image generation or multimodality models. At its core, the goal of prompt engineering is about alignment and model steerability. Check my previous post on controllable text generation.', 'language': 'en', 'title': \"Prompt Engineering | Lil'Log\"}, page_content='Complexity-based consistency is to explicitly prefer complex chains among all the generations by')], 'answer': 'yes'}, {'question': 'Q6: What are the key differences between IPv4 and IPv6 in terms of address structure and routing?', 'document': [Document(id='e231df8b-1833-41d7-bcd1-82dc9f0e3dac', metadata={'description': 'Prompt Engineering, also known as In-Context Prompting, refers to methods for how to communicate with LLM to steer its behavior for desired outcomes without updating the model weights. It is an empirical science and the effect of prompt engineering methods can vary a lot among models, thus requiring heavy experimentation and heuristics.\\nThis post only focuses on prompt engineering for autoregressive language models, so nothing with Cloze tests, image generation or multimodality models. At its core, the goal of prompt engineering is about alignment and model steerability. Check my previous post on controllable text generation.', 'source': 'https://lilianweng.github.io/posts/2023-03-15-prompt-engineering/', 'title': \"Prompt Engineering | Lil'Log\", 'language': 'en'}, page_content='Answer:'), Document(id='67bb80ae-639b-4d9d-8e23-3b37dcea6f30', metadata={'language': 'en', 'description': 'The use of large language models in the real world has strongly accelerated by the launch of ChatGPT. We (including my team at OpenAI, shoutout to them) have invested a lot of effort to build default safe behavior into the model during the alignment process (e.g. via RLHF). However, adversarial attacks or jailbreak prompts could potentially trigger the model to output something undesired.\\nA large body of ground work on adversarial attacks is on images, and differently it operates in the continuous, high-dimensional space. Attacks for discrete data like text have been considered to be a lot more challenging, due to lack of direct gradient signals. My past post on Controllable Text Generation is quite relevant to this topic, as attacking LLMs is essentially to control the model to output a certain type of (unsafe) content.', 'source': 'https://lilianweng.github.io/posts/2023-10-25-adv-attack-llm/', 'title': \"Adversarial Attacks on LLMs | Lil'Log\"}, page_content='the papers for detailed explanation of each attack config. (Image source: Wei et al. 2023)'), Document(id='d1558d91-5275-47d8-bbbf-03c1f2e9110f', metadata={'title': \"Prompt Engineering | Lil'Log\", 'language': 'en', 'source': 'https://lilianweng.github.io/posts/2023-03-15-prompt-engineering/', 'description': 'Prompt Engineering, also known as In-Context Prompting, refers to methods for how to communicate with LLM to steer its behavior for desired outcomes without updating the model weights. It is an empirical science and the effect of prompt engineering methods can vary a lot among models, thus requiring heavy experimentation and heuristics.\\nThis post only focuses on prompt engineering for autoregressive language models, so nothing with Cloze tests, image generation or multimodality models. At its core, the goal of prompt engineering is about alignment and model steerability. Check my previous post on controllable text generation.'}, page_content='Changing Q: to Question: is found to be helpful. (Fu et al. 2023)'), Document(id='ff0b1d03-7e60-4e8a-bf6c-f1e8a0d28b95', metadata={'language': 'en', 'description': 'Building agents with LLM (large language model) as its core controller is a cool concept. Several proof-of-concepts demos, such as AutoGPT, GPT-Engineer and BabyAGI, serve as inspiring examples. The potentiality of LLM extends beyond generating well-written copies, stories, essays and programs; it can be framed as a powerful general problem solver.\\nAgent System Overview\\nIn a LLM-powered autonomous agent system, LLM functions as the agent’s brain, complemented by several key components:\\n\\nPlanning\\n\\nSubgoal and decomposition: The agent breaks down large tasks into smaller, manageable subgoals, enabling efficient handling of complex tasks.\\nReflection and refinement: The agent can do self-criticism and self-reflection over past actions, learn from mistakes and refine them for future steps, thereby improving the quality of final results.\\n\\n\\nMemory\\n\\nShort-term memory: I would consider all the in-context learning (See Prompt Engineering) as utilizing short-term memory of the model to learn.\\nLong-term memory: This provides the agent with the capability to retain and recall (infinite) information over extended periods, often by leveraging an external vector store and fast retrieval.\\n\\n\\nTool use\\n\\nThe agent learns to call external APIs for extra information that is missing from the model weights (often hard to change after pre-training), including current information, code execution capability, access to proprietary information sources and more.\\n\\n\\n\\n\\n\\t\\n\\tOverview of a LLM-powered autonomous agent system.\\n\\nComponent One: Planning\\nA complicated task usually involves many steps. An agent needs to know what they are and plan ahead.', 'title': \"LLM Powered Autonomous Agents | Lil'Log\", 'source': 'https://lilianweng.github.io/posts/2023-06-23-agent/'}, page_content='You will write a very long answer. Make sure that every detail of the architecture is, in the end,')], 'answer': 'yes'}]\n",
            "[{'question': 'Q1: What role does the “Planning” component play in an LLM-based autonomous agent system?', 'document': [Document(id='ecf122b4-dda4-4a7f-b760-b399953ea55a', metadata={'source': 'https://lilianweng.github.io/posts/2023-06-23-agent/', 'language': 'en', 'description': 'Building agents with LLM (large language model) as its core controller is a cool concept. Several proof-of-concepts demos, such as AutoGPT, GPT-Engineer and BabyAGI, serve as inspiring examples. The potentiality of LLM extends beyond generating well-written copies, stories, essays and programs; it can be framed as a powerful general problem solver.\\nAgent System Overview\\nIn a LLM-powered autonomous agent system, LLM functions as the agent’s brain, complemented by several key components:\\n\\nPlanning\\n\\nSubgoal and decomposition: The agent breaks down large tasks into smaller, manageable subgoals, enabling efficient handling of complex tasks.\\nReflection and refinement: The agent can do self-criticism and self-reflection over past actions, learn from mistakes and refine them for future steps, thereby improving the quality of final results.\\n\\n\\nMemory\\n\\nShort-term memory: I would consider all the in-context learning (See Prompt Engineering) as utilizing short-term memory of the model to learn.\\nLong-term memory: This provides the agent with the capability to retain and recall (infinite) information over extended periods, often by leveraging an external vector store and fast retrieval.\\n\\n\\nTool use\\n\\nThe agent learns to call external APIs for extra information that is missing from the model weights (often hard to change after pre-training), including current information, code execution capability, access to proprietary information sources and more.\\n\\n\\n\\n\\n\\t\\n\\tOverview of a LLM-powered autonomous agent system.\\n\\nComponent One: Planning\\nA complicated task usually involves many steps. An agent needs to know what they are and plan ahead.', 'title': \"LLM Powered Autonomous Agents | Lil'Log\"}, page_content='Overview of a LLM-powered autonomous agent system.'), Document(id='01ad6690-6ec1-4a77-9820-137fc0824688', metadata={'description': 'Building agents with LLM (large language model) as its core controller is a cool concept. Several proof-of-concepts demos, such as AutoGPT, GPT-Engineer and BabyAGI, serve as inspiring examples. The potentiality of LLM extends beyond generating well-written copies, stories, essays and programs; it can be framed as a powerful general problem solver.\\nAgent System Overview\\nIn a LLM-powered autonomous agent system, LLM functions as the agent’s brain, complemented by several key components:\\n\\nPlanning\\n\\nSubgoal and decomposition: The agent breaks down large tasks into smaller, manageable subgoals, enabling efficient handling of complex tasks.\\nReflection and refinement: The agent can do self-criticism and self-reflection over past actions, learn from mistakes and refine them for future steps, thereby improving the quality of final results.\\n\\n\\nMemory\\n\\nShort-term memory: I would consider all the in-context learning (See Prompt Engineering) as utilizing short-term memory of the model to learn.\\nLong-term memory: This provides the agent with the capability to retain and recall (infinite) information over extended periods, often by leveraging an external vector store and fast retrieval.\\n\\n\\nTool use\\n\\nThe agent learns to call external APIs for extra information that is missing from the model weights (often hard to change after pre-training), including current information, code execution capability, access to proprietary information sources and more.\\n\\n\\n\\n\\n\\t\\n\\tOverview of a LLM-powered autonomous agent system.\\n\\nComponent One: Planning\\nA complicated task usually involves many steps. An agent needs to know what they are and plan ahead.', 'language': 'en', 'title': \"LLM Powered Autonomous Agents | Lil'Log\", 'source': 'https://lilianweng.github.io/posts/2023-06-23-agent/'}, page_content='Table of Contents\\n\\n\\n\\nAgent System Overview\\n\\nComponent One: Planning\\n\\nTask Decomposition'), Document(id='7dbf23e3-bea6-42fe-9830-b3b97176210b', metadata={'language': 'en', 'description': 'Building agents with LLM (large language model) as its core controller is a cool concept. Several proof-of-concepts demos, such as AutoGPT, GPT-Engineer and BabyAGI, serve as inspiring examples. The potentiality of LLM extends beyond generating well-written copies, stories, essays and programs; it can be framed as a powerful general problem solver.\\nAgent System Overview\\nIn a LLM-powered autonomous agent system, LLM functions as the agent’s brain, complemented by several key components:\\n\\nPlanning\\n\\nSubgoal and decomposition: The agent breaks down large tasks into smaller, manageable subgoals, enabling efficient handling of complex tasks.\\nReflection and refinement: The agent can do self-criticism and self-reflection over past actions, learn from mistakes and refine them for future steps, thereby improving the quality of final results.\\n\\n\\nMemory\\n\\nShort-term memory: I would consider all the in-context learning (See Prompt Engineering) as utilizing short-term memory of the model to learn.\\nLong-term memory: This provides the agent with the capability to retain and recall (infinite) information over extended periods, often by leveraging an external vector store and fast retrieval.\\n\\n\\nTool use\\n\\nThe agent learns to call external APIs for extra information that is missing from the model weights (often hard to change after pre-training), including current information, code execution capability, access to proprietary information sources and more.\\n\\n\\n\\n\\n\\t\\n\\tOverview of a LLM-powered autonomous agent system.\\n\\nComponent One: Planning\\nA complicated task usually involves many steps. An agent needs to know what they are and plan ahead.', 'source': 'https://lilianweng.github.io/posts/2023-06-23-agent/', 'title': \"LLM Powered Autonomous Agents | Lil'Log\"}, page_content='In a LLM-powered autonomous agent system, LLM functions as the agent’s brain, complemented by'), Document(id='da77e56e-7847-445c-9516-e1bad940f916', metadata={'language': 'en', 'source': 'https://lilianweng.github.io/posts/2023-06-23-agent/', 'title': \"LLM Powered Autonomous Agents | Lil'Log\", 'description': 'Building agents with LLM (large language model) as its core controller is a cool concept. Several proof-of-concepts demos, such as AutoGPT, GPT-Engineer and BabyAGI, serve as inspiring examples. The potentiality of LLM extends beyond generating well-written copies, stories, essays and programs; it can be framed as a powerful general problem solver.\\nAgent System Overview\\nIn a LLM-powered autonomous agent system, LLM functions as the agent’s brain, complemented by several key components:\\n\\nPlanning\\n\\nSubgoal and decomposition: The agent breaks down large tasks into smaller, manageable subgoals, enabling efficient handling of complex tasks.\\nReflection and refinement: The agent can do self-criticism and self-reflection over past actions, learn from mistakes and refine them for future steps, thereby improving the quality of final results.\\n\\n\\nMemory\\n\\nShort-term memory: I would consider all the in-context learning (See Prompt Engineering) as utilizing short-term memory of the model to learn.\\nLong-term memory: This provides the agent with the capability to retain and recall (infinite) information over extended periods, often by leveraging an external vector store and fast retrieval.\\n\\n\\nTool use\\n\\nThe agent learns to call external APIs for extra information that is missing from the model weights (often hard to change after pre-training), including current information, code execution capability, access to proprietary information sources and more.\\n\\n\\n\\n\\n\\t\\n\\tOverview of a LLM-powered autonomous agent system.\\n\\nComponent One: Planning\\nA complicated task usually involves many steps. An agent needs to know what they are and plan ahead.'}, page_content='LLM Powered Autonomous Agents')], 'answer': 'no'}, {'question': 'Q2: What types of “Memory” components exist, and how are they utilized?', 'document': [Document(id='5fafc34c-1e1f-405c-b4e2-9a6d58b267dd', metadata={'source': 'https://lilianweng.github.io/posts/2023-06-23-agent/', 'description': 'Building agents with LLM (large language model) as its core controller is a cool concept. Several proof-of-concepts demos, such as AutoGPT, GPT-Engineer and BabyAGI, serve as inspiring examples. The potentiality of LLM extends beyond generating well-written copies, stories, essays and programs; it can be framed as a powerful general problem solver.\\nAgent System Overview\\nIn a LLM-powered autonomous agent system, LLM functions as the agent’s brain, complemented by several key components:\\n\\nPlanning\\n\\nSubgoal and decomposition: The agent breaks down large tasks into smaller, manageable subgoals, enabling efficient handling of complex tasks.\\nReflection and refinement: The agent can do self-criticism and self-reflection over past actions, learn from mistakes and refine them for future steps, thereby improving the quality of final results.\\n\\n\\nMemory\\n\\nShort-term memory: I would consider all the in-context learning (See Prompt Engineering) as utilizing short-term memory of the model to learn.\\nLong-term memory: This provides the agent with the capability to retain and recall (infinite) information over extended periods, often by leveraging an external vector store and fast retrieval.\\n\\n\\nTool use\\n\\nThe agent learns to call external APIs for extra information that is missing from the model weights (often hard to change after pre-training), including current information, code execution capability, access to proprietary information sources and more.\\n\\n\\n\\n\\n\\t\\n\\tOverview of a LLM-powered autonomous agent system.\\n\\nComponent One: Planning\\nA complicated task usually involves many steps. An agent needs to know what they are and plan ahead.', 'title': \"LLM Powered Autonomous Agents | Lil'Log\", 'language': 'en'}, page_content='Component Two: Memory#'), Document(id='cb84ffb9-78a6-4b0b-8cea-0ea794792cb6', metadata={'language': 'en', 'source': 'https://lilianweng.github.io/posts/2023-06-23-agent/', 'description': 'Building agents with LLM (large language model) as its core controller is a cool concept. Several proof-of-concepts demos, such as AutoGPT, GPT-Engineer and BabyAGI, serve as inspiring examples. The potentiality of LLM extends beyond generating well-written copies, stories, essays and programs; it can be framed as a powerful general problem solver.\\nAgent System Overview\\nIn a LLM-powered autonomous agent system, LLM functions as the agent’s brain, complemented by several key components:\\n\\nPlanning\\n\\nSubgoal and decomposition: The agent breaks down large tasks into smaller, manageable subgoals, enabling efficient handling of complex tasks.\\nReflection and refinement: The agent can do self-criticism and self-reflection over past actions, learn from mistakes and refine them for future steps, thereby improving the quality of final results.\\n\\n\\nMemory\\n\\nShort-term memory: I would consider all the in-context learning (See Prompt Engineering) as utilizing short-term memory of the model to learn.\\nLong-term memory: This provides the agent with the capability to retain and recall (infinite) information over extended periods, often by leveraging an external vector store and fast retrieval.\\n\\n\\nTool use\\n\\nThe agent learns to call external APIs for extra information that is missing from the model weights (often hard to change after pre-training), including current information, code execution capability, access to proprietary information sources and more.\\n\\n\\n\\n\\n\\t\\n\\tOverview of a LLM-powered autonomous agent system.\\n\\nComponent One: Planning\\nA complicated task usually involves many steps. An agent needs to know what they are and plan ahead.', 'title': \"LLM Powered Autonomous Agents | Lil'Log\"}, page_content='Types of Memory#'), Document(id='f9e2d884-fc67-40e2-9c34-84747559adea', metadata={'title': \"LLM Powered Autonomous Agents | Lil'Log\", 'description': 'Building agents with LLM (large language model) as its core controller is a cool concept. Several proof-of-concepts demos, such as AutoGPT, GPT-Engineer and BabyAGI, serve as inspiring examples. The potentiality of LLM extends beyond generating well-written copies, stories, essays and programs; it can be framed as a powerful general problem solver.\\nAgent System Overview\\nIn a LLM-powered autonomous agent system, LLM functions as the agent’s brain, complemented by several key components:\\n\\nPlanning\\n\\nSubgoal and decomposition: The agent breaks down large tasks into smaller, manageable subgoals, enabling efficient handling of complex tasks.\\nReflection and refinement: The agent can do self-criticism and self-reflection over past actions, learn from mistakes and refine them for future steps, thereby improving the quality of final results.\\n\\n\\nMemory\\n\\nShort-term memory: I would consider all the in-context learning (See Prompt Engineering) as utilizing short-term memory of the model to learn.\\nLong-term memory: This provides the agent with the capability to retain and recall (infinite) information over extended periods, often by leveraging an external vector store and fast retrieval.\\n\\n\\nTool use\\n\\nThe agent learns to call external APIs for extra information that is missing from the model weights (often hard to change after pre-training), including current information, code execution capability, access to proprietary information sources and more.\\n\\n\\n\\n\\n\\t\\n\\tOverview of a LLM-powered autonomous agent system.\\n\\nComponent One: Planning\\nA complicated task usually involves many steps. An agent needs to know what they are and plan ahead.', 'language': 'en', 'source': 'https://lilianweng.github.io/posts/2023-06-23-agent/'}, page_content='Task Decomposition\\n\\nSelf-Reflection\\n\\n\\nComponent Two: Memory\\n\\nTypes of Memory'), Document(id='c31bb78f-0180-4c1a-9596-a5f5a14cdd97', metadata={'source': 'https://lilianweng.github.io/posts/2023-06-23-agent/', 'description': 'Building agents with LLM (large language model) as its core controller is a cool concept. Several proof-of-concepts demos, such as AutoGPT, GPT-Engineer and BabyAGI, serve as inspiring examples. The potentiality of LLM extends beyond generating well-written copies, stories, essays and programs; it can be framed as a powerful general problem solver.\\nAgent System Overview\\nIn a LLM-powered autonomous agent system, LLM functions as the agent’s brain, complemented by several key components:\\n\\nPlanning\\n\\nSubgoal and decomposition: The agent breaks down large tasks into smaller, manageable subgoals, enabling efficient handling of complex tasks.\\nReflection and refinement: The agent can do self-criticism and self-reflection over past actions, learn from mistakes and refine them for future steps, thereby improving the quality of final results.\\n\\n\\nMemory\\n\\nShort-term memory: I would consider all the in-context learning (See Prompt Engineering) as utilizing short-term memory of the model to learn.\\nLong-term memory: This provides the agent with the capability to retain and recall (infinite) information over extended periods, often by leveraging an external vector store and fast retrieval.\\n\\n\\nTool use\\n\\nThe agent learns to call external APIs for extra information that is missing from the model weights (often hard to change after pre-training), including current information, code execution capability, access to proprietary information sources and more.\\n\\n\\n\\n\\n\\t\\n\\tOverview of a LLM-powered autonomous agent system.\\n\\nComponent One: Planning\\nA complicated task usually involves many steps. An agent needs to know what they are and plan ahead.', 'title': \"LLM Powered Autonomous Agents | Lil'Log\", 'language': 'en'}, page_content='and later retrieve information. There are several types of memory in human brains.')], 'answer': 'no'}, {'question': 'Q3: What exactly does “Prompt Engineering” mean?', 'document': [Document(id='cea9bd93-df20-4b38-9192-70e614d21ed2', metadata={'language': 'en', 'source': 'https://lilianweng.github.io/posts/2023-03-15-prompt-engineering/', 'title': \"Prompt Engineering | Lil'Log\", 'description': 'Prompt Engineering, also known as In-Context Prompting, refers to methods for how to communicate with LLM to steer its behavior for desired outcomes without updating the model weights. It is an empirical science and the effect of prompt engineering methods can vary a lot among models, thus requiring heavy experimentation and heuristics.\\nThis post only focuses on prompt engineering for autoregressive language models, so nothing with Cloze tests, image generation or multimodality models. At its core, the goal of prompt engineering is about alignment and model steerability. Check my previous post on controllable text generation.'}, page_content='Prompt Engineering'), Document(id='4c3359e2-ca4c-419f-bd48-e6c9dbad37a7', metadata={'language': 'en', 'title': \"Prompt Engineering | Lil'Log\", 'description': 'Prompt Engineering, also known as In-Context Prompting, refers to methods for how to communicate with LLM to steer its behavior for desired outcomes without updating the model weights. It is an empirical science and the effect of prompt engineering methods can vary a lot among models, thus requiring heavy experimentation and heuristics.\\nThis post only focuses on prompt engineering for autoregressive language models, so nothing with Cloze tests, image generation or multimodality models. At its core, the goal of prompt engineering is about alignment and model steerability. Check my previous post on controllable text generation.', 'source': 'https://lilianweng.github.io/posts/2023-03-15-prompt-engineering/'}, page_content='materials on prompt engineering.'), Document(id='bf9b7a65-dd49-4637-96cf-fb9243f0839e', metadata={'language': 'en', 'source': 'https://lilianweng.github.io/posts/2023-03-15-prompt-engineering/', 'description': 'Prompt Engineering, also known as In-Context Prompting, refers to methods for how to communicate with LLM to steer its behavior for desired outcomes without updating the model weights. It is an empirical science and the effect of prompt engineering methods can vary a lot among models, thus requiring heavy experimentation and heuristics.\\nThis post only focuses on prompt engineering for autoregressive language models, so nothing with Cloze tests, image generation or multimodality models. At its core, the goal of prompt engineering is about alignment and model steerability. Check my previous post on controllable text generation.', 'title': \"Prompt Engineering | Lil'Log\"}, page_content='Prompt Engineering, also known as In-Context Prompting, refers to methods for how to communicate'), Document(id='5adec505-fd4a-4ddf-a8fd-329c4d577745', metadata={'title': \"Prompt Engineering | Lil'Log\", 'description': 'Prompt Engineering, also known as In-Context Prompting, refers to methods for how to communicate with LLM to steer its behavior for desired outcomes without updating the model weights. It is an empirical science and the effect of prompt engineering methods can vary a lot among models, thus requiring heavy experimentation and heuristics.\\nThis post only focuses on prompt engineering for autoregressive language models, so nothing with Cloze tests, image generation or multimodality models. At its core, the goal of prompt engineering is about alignment and model steerability. Check my previous post on controllable text generation.', 'language': 'en', 'source': 'https://lilianweng.github.io/posts/2023-03-15-prompt-engineering/'}, page_content='Weng, Lilian. (Mar 2023). Prompt Engineering. Lil’Log.')], 'answer': 'no'}, {'question': 'Q4: What is the difference between Zero-Shot and Few-Shot prompting approaches?', 'document': [Document(id='b4b74d64-4418-4873-affe-5ed9eaa3cbe5', metadata={'language': 'en', 'description': 'Prompt Engineering, also known as In-Context Prompting, refers to methods for how to communicate with LLM to steer its behavior for desired outcomes without updating the model weights. It is an empirical science and the effect of prompt engineering methods can vary a lot among models, thus requiring heavy experimentation and heuristics.\\nThis post only focuses on prompt engineering for autoregressive language models, so nothing with Cloze tests, image generation or multimodality models. At its core, the goal of prompt engineering is about alignment and model steerability. Check my previous post on controllable text generation.', 'source': 'https://lilianweng.github.io/posts/2023-03-15-prompt-engineering/', 'title': \"Prompt Engineering | Lil'Log\"}, page_content='Table of Contents\\n\\n\\n\\nBasic Prompting\\n\\nZero-Shot\\n\\nFew-shot\\n\\nTips for Example Selection'), Document(id='3456465d-8539-4d6b-9ded-63e6436b7353', metadata={'title': \"Prompt Engineering | Lil'Log\", 'source': 'https://lilianweng.github.io/posts/2023-03-15-prompt-engineering/', 'language': 'en', 'description': 'Prompt Engineering, also known as In-Context Prompting, refers to methods for how to communicate with LLM to steer its behavior for desired outcomes without updating the model weights. It is an empirical science and the effect of prompt engineering methods can vary a lot among models, thus requiring heavy experimentation and heuristics.\\nThis post only focuses on prompt engineering for autoregressive language models, so nothing with Cloze tests, image generation or multimodality models. At its core, the goal of prompt engineering is about alignment and model steerability. Check my previous post on controllable text generation.'}, page_content='Zero-shot and few-shot learning are two most basic approaches for prompting the model, pioneered by'), Document(id='1dd7f177-911c-4e74-9e72-ae79dc7c7d99', metadata={'description': 'Prompt Engineering, also known as In-Context Prompting, refers to methods for how to communicate with LLM to steer its behavior for desired outcomes without updating the model weights. It is an empirical science and the effect of prompt engineering methods can vary a lot among models, thus requiring heavy experimentation and heuristics.\\nThis post only focuses on prompt engineering for autoregressive language models, so nothing with Cloze tests, image generation or multimodality models. At its core, the goal of prompt engineering is about alignment and model steerability. Check my previous post on controllable text generation.', 'language': 'en', 'title': \"Prompt Engineering | Lil'Log\", 'source': 'https://lilianweng.github.io/posts/2023-03-15-prompt-engineering/'}, page_content='or zero-shot CoT prompts;'), Document(id='d7dea23a-f7bc-4a30-a483-324f175bf0f2', metadata={'language': 'en', 'source': 'https://lilianweng.github.io/posts/2023-03-15-prompt-engineering/', 'description': 'Prompt Engineering, also known as In-Context Prompting, refers to methods for how to communicate with LLM to steer its behavior for desired outcomes without updating the model weights. It is an empirical science and the effect of prompt engineering methods can vary a lot among models, thus requiring heavy experimentation and heuristics.\\nThis post only focuses on prompt engineering for autoregressive language models, so nothing with Cloze tests, image generation or multimodality models. At its core, the goal of prompt engineering is about alignment and model steerability. Check my previous post on controllable text generation.', 'title': \"Prompt Engineering | Lil'Log\"}, page_content='[3] Lu et al. “Fantastically Ordered Prompts and Where to Find Them: Overcoming Few-Shot Prompt')], 'answer': 'no'}, {'question': 'Q5: In the context of adversarial attacks on text, what is “token manipulation”?', 'document': [Document(id='8a3013a9-f4a7-4c0d-9969-ec9af4200bfa', metadata={'language': 'en', 'description': 'The use of large language models in the real world has strongly accelerated by the launch of ChatGPT. We (including my team at OpenAI, shoutout to them) have invested a lot of effort to build default safe behavior into the model during the alignment process (e.g. via RLHF). However, adversarial attacks or jailbreak prompts could potentially trigger the model to output something undesired.\\nA large body of ground work on adversarial attacks is on images, and differently it operates in the continuous, high-dimensional space. Attacks for discrete data like text have been considered to be a lot more challenging, due to lack of direct gradient signals. My past post on Controllable Text Generation is quite relevant to this topic, as attacking LLMs is essentially to control the model to output a certain type of (unsafe) content.', 'title': \"Adversarial Attacks on LLMs | Lil'Log\", 'source': 'https://lilianweng.github.io/posts/2023-10-25-adv-attack-llm/'}, page_content='Text Generation\\n\\nWhite-box vs Black-box\\n\\n\\n\\nTypes of Adversarial Attacks\\n\\nToken Manipulation'), Document(id='52a67bea-d5eb-40bb-9e99-0ef760b2261a', metadata={'description': 'The use of large language models in the real world has strongly accelerated by the launch of ChatGPT. We (including my team at OpenAI, shoutout to them) have invested a lot of effort to build default safe behavior into the model during the alignment process (e.g. via RLHF). However, adversarial attacks or jailbreak prompts could potentially trigger the model to output something undesired.\\nA large body of ground work on adversarial attacks is on images, and differently it operates in the continuous, high-dimensional space. Attacks for discrete data like text have been considered to be a lot more challenging, due to lack of direct gradient signals. My past post on Controllable Text Generation is quite relevant to this topic, as attacking LLMs is essentially to control the model to output a certain type of (unsafe) content.', 'source': 'https://lilianweng.github.io/posts/2023-10-25-adv-attack-llm/', 'language': 'en', 'title': \"Adversarial Attacks on LLMs | Lil'Log\"}, page_content='many word and token manipulation attack methods to create adversarial examples for NLP models. Most'), Document(id='3adf6a1a-b6f4-4a69-a076-eb541553c0eb', metadata={'title': \"Adversarial Attacks on LLMs | Lil'Log\", 'description': 'The use of large language models in the real world has strongly accelerated by the launch of ChatGPT. We (including my team at OpenAI, shoutout to them) have invested a lot of effort to build default safe behavior into the model during the alignment process (e.g. via RLHF). However, adversarial attacks or jailbreak prompts could potentially trigger the model to output something undesired.\\nA large body of ground work on adversarial attacks is on images, and differently it operates in the continuous, high-dimensional space. Attacks for discrete data like text have been considered to be a lot more challenging, due to lack of direct gradient signals. My past post on Controllable Text Generation is quite relevant to this topic, as attacking LLMs is essentially to control the model to output a certain type of (unsafe) content.', 'source': 'https://lilianweng.github.io/posts/2023-10-25-adv-attack-llm/', 'language': 'en'}, page_content='tokens, via, e.g. BPE-dropout (drop random p% tokens). The hypothesis is that adversarial prompts'), Document(id='a97aa070-f610-4bb6-ac9f-933a2d6b6e14', metadata={'description': 'The use of large language models in the real world has strongly accelerated by the launch of ChatGPT. We (including my team at OpenAI, shoutout to them) have invested a lot of effort to build default safe behavior into the model during the alignment process (e.g. via RLHF). However, adversarial attacks or jailbreak prompts could potentially trigger the model to output something undesired.\\nA large body of ground work on adversarial attacks is on images, and differently it operates in the continuous, high-dimensional space. Attacks for discrete data like text have been considered to be a lot more challenging, due to lack of direct gradient signals. My past post on Controllable Text Generation is quite relevant to this topic, as attacking LLMs is essentially to control the model to output a certain type of (unsafe) content.', 'source': 'https://lilianweng.github.io/posts/2023-10-25-adv-attack-llm/', 'language': 'en', 'title': \"Adversarial Attacks on LLMs | Lil'Log\"}, page_content='make the incorrect predictions. Token manipulation based attacks work in black box settings. The')], 'answer': 'no'}, {'question': 'Q6: What is the difference between white-box and black-box attacks?', 'document': [Document(id='d2744cfb-ceab-4a08-b34e-e3c3ea342fa9', metadata={'source': 'https://lilianweng.github.io/posts/2023-10-25-adv-attack-llm/', 'language': 'en', 'title': \"Adversarial Attacks on LLMs | Lil'Log\", 'description': 'The use of large language models in the real world has strongly accelerated by the launch of ChatGPT. We (including my team at OpenAI, shoutout to them) have invested a lot of effort to build default safe behavior into the model during the alignment process (e.g. via RLHF). However, adversarial attacks or jailbreak prompts could potentially trigger the model to output something undesired.\\nA large body of ground work on adversarial attacks is on images, and differently it operates in the continuous, high-dimensional space. Attacks for discrete data like text have been considered to be a lot more challenging, due to lack of direct gradient signals. My past post on Controllable Text Generation is quite relevant to this topic, as attacking LLMs is essentially to control the model to output a certain type of (unsafe) content.'}, page_content='White-box vs Black-box#'), Document(id='7140c9ef-9a53-4109-8eb6-37aadc6477fb', metadata={'source': 'https://lilianweng.github.io/posts/2023-10-25-adv-attack-llm/', 'title': \"Adversarial Attacks on LLMs | Lil'Log\", 'language': 'en', 'description': 'The use of large language models in the real world has strongly accelerated by the launch of ChatGPT. We (including my team at OpenAI, shoutout to them) have invested a lot of effort to build default safe behavior into the model during the alignment process (e.g. via RLHF). However, adversarial attacks or jailbreak prompts could potentially trigger the model to output something undesired.\\nA large body of ground work on adversarial attacks is on images, and differently it operates in the continuous, high-dimensional space. Attacks for discrete data like text have been considered to be a lot more challenging, due to lack of direct gradient signals. My past post on Controllable Text Generation is quite relevant to this topic, as attacking LLMs is essentially to control the model to output a certain type of (unsafe) content.'}, page_content='so the attack works more like white-box attack.'), Document(id='8a3013a9-f4a7-4c0d-9969-ec9af4200bfa', metadata={'title': \"Adversarial Attacks on LLMs | Lil'Log\", 'language': 'en', 'source': 'https://lilianweng.github.io/posts/2023-10-25-adv-attack-llm/', 'description': 'The use of large language models in the real world has strongly accelerated by the launch of ChatGPT. We (including my team at OpenAI, shoutout to them) have invested a lot of effort to build default safe behavior into the model during the alignment process (e.g. via RLHF). However, adversarial attacks or jailbreak prompts could potentially trigger the model to output something undesired.\\nA large body of ground work on adversarial attacks is on images, and differently it operates in the continuous, high-dimensional space. Attacks for discrete data like text have been considered to be a lot more challenging, due to lack of direct gradient signals. My past post on Controllable Text Generation is quite relevant to this topic, as attacking LLMs is essentially to control the model to output a certain type of (unsafe) content.'}, page_content='Text Generation\\n\\nWhite-box vs Black-box\\n\\n\\n\\nTypes of Adversarial Attacks\\n\\nToken Manipulation'), Document(id='7047f371-1a9e-4428-9533-918d4d0a3d6c', metadata={'language': 'en', 'title': \"Adversarial Attacks on LLMs | Lil'Log\", 'description': 'The use of large language models in the real world has strongly accelerated by the launch of ChatGPT. We (including my team at OpenAI, shoutout to them) have invested a lot of effort to build default safe behavior into the model during the alignment process (e.g. via RLHF). However, adversarial attacks or jailbreak prompts could potentially trigger the model to output something undesired.\\nA large body of ground work on adversarial attacks is on images, and differently it operates in the continuous, high-dimensional space. Attacks for discrete data like text have been considered to be a lot more challenging, due to lack of direct gradient signals. My past post on Controllable Text Generation is quite relevant to this topic, as attacking LLMs is essentially to control the model to output a certain type of (unsafe) content.', 'source': 'https://lilianweng.github.io/posts/2023-10-25-adv-attack-llm/'}, page_content='effective attacks. Gradient based attacks only work in the white-box setting, like for open source')], 'answer': 'no'}]\n"
          ]
        }
      ]
    },
    {
      "cell_type": "code",
      "source": [
        "for yes_dict in yes_dicts:\n",
        "  print(hallucinationChecker(yes_dict))\n",
        "for no_dict in no_dicts:\n",
        "  print(hallucinationChecker(no_dict))"
      ],
      "metadata": {
        "colab": {
          "base_uri": "https://localhost:8080/"
        },
        "id": "kAP7rj4LQC8H",
        "outputId": "557058f5-a021-469e-e5e8-a05fa3d54052"
      },
      "execution_count": 103,
      "outputs": [
        {
          "output_type": "stream",
          "name": "stdout",
          "text": [
            "{'hallucination': 'yes'}\n",
            "{'hallucination': 'yes'}\n",
            "{'hallucination': 'yes'}\n",
            "{'hallucination': 'yes'}\n",
            "{'hallucination': 'yes'}\n",
            "{'hallucination': 'yes'}\n",
            "{'hallucination': 'yes'}\n",
            "{'hallucination': 'yes'}\n",
            "{'hallucination': 'no'}\n",
            "{'hallucination': 'yes'}\n",
            "{'hallucination': 'no'}\n",
            "{'hallucination': 'yes'}\n"
          ]
        }
      ]
    },
    {
      "cell_type": "markdown",
      "source": [
        "10. 9 에서 ‘yes’ 면 8 로 돌아가서 다시 생성, ‘no’ 면 답변 생성하고 유저에게 답변 생성에 사용된 출처와 함께 출력하도록 하세요. (최대 1번까지 다시 생성)"
      ],
      "metadata": {
        "id": "DmO4U-NWrBer"
      }
    },
    {
      "cell_type": "markdown",
      "source": [
        "예시 답변\n",
        "https://colab.research.google.com/drive/1NTCX19SJIaVmLVVMJs3qbxFxUFgj55HF\n",
        "\n",
        "오늘 못 다한 실습은 내일 이어서 하게 됩니다 (function call까지 더해서)"
      ],
      "metadata": {
        "id": "t5eJwPQ554mq"
      }
    },
    {
      "cell_type": "markdown",
      "source": [
        "# 아래는 Optional Task 입니다. 위의 Task 1부터 10까지 시간 내에 마친 분들은 아래 태스크를 수행해보세요."
      ],
      "metadata": {
        "id": "V-SfRsD_5vYg"
      }
    },
    {
      "cell_type": "markdown",
      "source": [
        "Optional Task) https://applied-llms.org/ 링크는 llm 을 이용해 1년간 개발해 본 팀이 배운 것들을 정리한 아티클 입니다.\n",
        "\n",
        "저자의 생각을 묻는 질문들에 답하기 위해서\n",
        "\n",
        "1) Chunking & embedding & storing\n",
        "\n",
        "2) Load\n",
        "\n",
        "3) Retrieval\n",
        "\n",
        "4) Generation\n",
        "\n",
        "으로 구성된 RAG 코드를 작성하고 아래 예시 질문에 대한 답을 해보세요.\n",
        "\n",
        "예시)\n",
        "RAG 에 대한 저자의 생각은 무엇인가?\n",
        "RAG 와 fine tuning 에 대해 저자는 어떻게 비교하고 있나?\n",
        "저자가 가장 많은 부분을 할당해 설명하는 개념은 무엇인가?\n",
        "\n",
        "실습을 마치지 못했더라도, https://applied-llms.org/ 아티클은 꼭 읽어 보시기를 추천 드립니다."
      ],
      "metadata": {
        "id": "oO7nXZ7J-N1z"
      }
    }
  ]
}